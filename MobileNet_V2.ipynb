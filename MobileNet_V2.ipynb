{
 "cells": [
  {
   "cell_type": "code",
   "outputs": [],
   "source": [
    "import os\n",
    "import gc\n",
    "\n",
    "import matplotlib.pyplot as plt\n",
    "import numpy as np\n",
    "import pandas as pd\n",
    "\n",
    "import tensorflow as tf\n",
    "from tensorflow.keras import layers"
   ],
   "metadata": {
    "collapsed": false,
    "ExecuteTime": {
     "end_time": "2024-05-01T17:35:11.048692Z",
     "start_time": "2024-05-01T17:35:08.228375Z"
    }
   },
   "id": "79e2410f2bada8e8",
   "execution_count": 1
  },
  {
   "cell_type": "markdown",
   "source": [
    "### Convert images from pixals into data, then use pretrained model to accurately classify the stocks\n",
    "- Mathematical detection algorithms are at best 84% accurate. Goal is to \n",
    "- https://www.tensorflow.org/tutorials/images/transfer_learning\n",
    "- Make a requirements text file\n",
    "- We do not apply data augmentation because we already have patterns classified as up or down, and flipping them would be counter intuitive"
   ],
   "metadata": {
    "collapsed": false
   },
   "id": "b8e9cd6425650704"
  },
  {
   "cell_type": "markdown",
   "source": [
    "### MobileNet V2 Trained by Google"
   ],
   "metadata": {
    "collapsed": false
   },
   "id": "c7a0ee41a9636bc"
  },
  {
   "cell_type": "code",
   "outputs": [],
   "source": [
    "# Global Variables\n",
    "BATCH_SIZE = 32\n",
    "IMG_SIZE = 224"
   ],
   "metadata": {
    "collapsed": false,
    "ExecuteTime": {
     "end_time": "2024-05-01T17:35:11.053199Z",
     "start_time": "2024-05-01T17:35:11.050195Z"
    }
   },
   "id": "fd4b2021336e99c8",
   "execution_count": 2
  },
  {
   "cell_type": "code",
   "outputs": [],
   "source": [
    "# Paths: For local machine\n",
    "train_dir = 'C:/Users/Nick/Documents/SchoolStuff/spring2024/machineLearning/final_project/tradingpatterns/stock_patterns/train'\n",
    "validation_dir = 'C:/Users/Nick/Documents/SchoolStuff/spring2024/machineLearning/final_project/tradingpatterns/stock_patterns/validation'\n",
    "\n",
    "# train_dir = 'C:/Users/Nick/Desktop/stock images/train'\n",
    "# validation_dir = 'C:/Users/Nick/Desktop/stock images/validation'"
   ],
   "metadata": {
    "collapsed": false,
    "ExecuteTime": {
     "end_time": "2024-05-01T17:35:11.061712Z",
     "start_time": "2024-05-01T17:35:11.053700Z"
    }
   },
   "id": "baceab8354a8b153",
   "execution_count": 3
  },
  {
   "cell_type": "code",
   "outputs": [
    {
     "name": "stdout",
     "output_type": "stream",
     "text": [
      "Found 6404 files belonging to 4 classes.\n",
      "Found 5984 files belonging to 4 classes.\n"
     ]
    }
   ],
   "source": [
    "# Create training and validation dataset\n",
    "train_dataset = tf.keras.utils.image_dataset_from_directory(train_dir,\n",
    "                                                            shuffle=True,\n",
    "                                                            batch_size=BATCH_SIZE,\n",
    "                                                            color_mode='rgb',\n",
    "                                                            image_size=(IMG_SIZE, IMG_SIZE))\n",
    "\n",
    "validation_dataset = tf.keras.utils.image_dataset_from_directory(validation_dir,\n",
    "                                                                 shuffle=True,\n",
    "                                                                 batch_size=BATCH_SIZE,\n",
    "                                                                 color_mode='rgb',\n",
    "                                                                 image_size=(IMG_SIZE, IMG_SIZE))\n",
    "class_names = train_dataset.class_names"
   ],
   "metadata": {
    "collapsed": false,
    "ExecuteTime": {
     "end_time": "2024-05-01T17:35:12.008662Z",
     "start_time": "2024-05-01T17:35:11.062714Z"
    }
   },
   "id": "791c86a7422ff6d6",
   "execution_count": 4
  },
  {
   "cell_type": "code",
   "outputs": [
    {
     "name": "stdout",
     "output_type": "stream",
     "text": [
      "Number of validation batches: 150\n",
      "Number of test batches: 37\n"
     ]
    }
   ],
   "source": [
    "# Create a test set\n",
    "val_batches = tf.data.experimental.cardinality(validation_dataset)\n",
    "test_dataset = validation_dataset.take(val_batches // 5)\n",
    "validation_dataset = validation_dataset.skip(val_batches // 5)\n",
    "\n",
    "# Rescale the images from [-1 to 1] vs [0 to 255]\n",
    "preprocess_input = tf.keras.applications.mobilenet_v2.preprocess_input\n",
    "\n",
    "print('Number of validation batches: %d' % tf.data.experimental.cardinality(validation_dataset))\n",
    "print('Number of test batches: %d' % tf.data.experimental.cardinality(test_dataset))"
   ],
   "metadata": {
    "collapsed": false,
    "ExecuteTime": {
     "end_time": "2024-05-01T17:35:12.021181Z",
     "start_time": "2024-05-01T17:35:12.010665Z"
    }
   },
   "id": "5fd4c100fb0d908f",
   "execution_count": 5
  },
  {
   "cell_type": "code",
   "outputs": [],
   "source": [
    "# Create the base model from the pre-trained model MobileNet V2\n",
    "IMG_SHAPE = (IMG_SIZE, IMG_SIZE) + (3,)\n",
    "base_model = tf.keras.applications.MobileNetV2(input_shape=IMG_SHAPE,\n",
    "                                               include_top=False,\n",
    "                                               weights='imagenet')"
   ],
   "metadata": {
    "collapsed": false,
    "ExecuteTime": {
     "end_time": "2024-05-01T17:35:12.623603Z",
     "start_time": "2024-05-01T17:35:12.022183Z"
    }
   },
   "id": "39113a024e5db3df",
   "execution_count": 6
  },
  {
   "cell_type": "code",
   "outputs": [],
   "source": [
    "# This feature extractor converts each 255x255 image into a 5x5x1280 block of features\n",
    "image_batch, label_batch = next(iter(train_dataset))\n",
    "feature_batch = base_model(image_batch)"
   ],
   "metadata": {
    "collapsed": false,
    "ExecuteTime": {
     "end_time": "2024-05-01T17:35:13.373751Z",
     "start_time": "2024-05-01T17:35:12.624605Z"
    }
   },
   "id": "fa0e05434194b03e",
   "execution_count": 7
  },
  {
   "cell_type": "code",
   "outputs": [],
   "source": [
    "# Unfreeze this to train\n",
    "base_model.trainable = False\n",
    "\n",
    "# Adding a classification head using max\n",
    "global_max_layer = tf.keras.layers.GlobalMaxPooling2D()\n",
    "feature_batch_max = global_max_layer(feature_batch)\n",
    "# print(feature_batch_average.shape)\n",
    "\n",
    "# Add a dense layer to convert it to a single prediction per image , activation='softmax'\n",
    "prediction_layer = tf.keras.layers.Dense(len(class_names)) \n",
    "prediction_batch = prediction_layer(feature_batch_max)\n",
    "# print(prediction_batch.shape)\n",
    "\n",
    "# Process the inputs so that they are between [-1, 1] and then\n",
    "inputs = tf.keras.Input(shape=(IMG_SIZE, IMG_SIZE, 3))\n",
    "# Add the preprocessing layer\n",
    "x = preprocess_input(inputs)\n",
    "# Add the base model after, keeping training to false\n",
    "x = base_model(x, training=False)\n",
    "# Add max pooling layer\n",
    "x = global_max_layer(x)\n",
    "# Add dropout layer\n",
    "x = tf.keras.layers.Dropout(0.2)(x)\n",
    "# Add softmax prediction layer\n",
    "outputs = prediction_layer(x)\n",
    "# Create a model from inputs, outputs.\n",
    "model = tf.keras.Model(inputs, outputs)"
   ],
   "metadata": {
    "collapsed": false,
    "ExecuteTime": {
     "end_time": "2024-05-01T17:35:13.416317Z",
     "start_time": "2024-05-01T17:35:13.374753Z"
    }
   },
   "id": "e1fdb33f4fcb9884",
   "execution_count": 8
  },
  {
   "cell_type": "code",
   "outputs": [],
   "source": [
    "# model.summary()"
   ],
   "metadata": {
    "collapsed": false,
    "ExecuteTime": {
     "end_time": "2024-05-01T17:35:13.419822Z",
     "start_time": "2024-05-01T17:35:13.417318Z"
    }
   },
   "id": "3cd8604d15ceed5e",
   "execution_count": 9
  },
  {
   "cell_type": "markdown",
   "source": [
    "https://www.tensorflow.org/api_docs/python/tf/keras/losses/SparseCategoricalCrossentropy"
   ],
   "metadata": {
    "collapsed": false
   },
   "id": "f72c75cb67a26d13"
  },
  {
   "cell_type": "code",
   "outputs": [],
   "source": [
    "base_learning_rate = 0.0001\n",
    "model.compile(optimizer=tf.keras.optimizers.Adam(learning_rate=base_learning_rate),\n",
    "              loss=tf.keras.losses.SparseCategoricalCrossentropy(from_logits=True), # False when we have a softmax layer\n",
    "              metrics=['accuracy'])"
   ],
   "metadata": {
    "collapsed": false,
    "ExecuteTime": {
     "end_time": "2024-05-01T17:35:13.432341Z",
     "start_time": "2024-05-01T17:35:13.420323Z"
    }
   },
   "id": "8676bd207c92643c",
   "execution_count": 10
  },
  {
   "cell_type": "code",
   "outputs": [],
   "source": [
    "# loss0, accuracy0 = model.evaluate(validation_dataset)"
   ],
   "metadata": {
    "collapsed": false,
    "ExecuteTime": {
     "end_time": "2024-05-01T17:35:13.435346Z",
     "start_time": "2024-05-01T17:35:13.432842Z"
    }
   },
   "id": "a7f9d2da7571e2e6",
   "execution_count": 11
  },
  {
   "cell_type": "code",
   "outputs": [
    {
     "name": "stdout",
     "output_type": "stream",
     "text": [
      "Epoch 1/10\n",
      "\u001B[1m5/5\u001B[0m \u001B[32m━━━━━━━━━━━━━━━━━━━━\u001B[0m\u001B[37m\u001B[0m \u001B[1m7s\u001B[0m 943ms/step - accuracy: 0.2678 - loss: 3.8671 - val_accuracy: 0.2062 - val_loss: 3.1050\n",
      "Epoch 2/10\n",
      "\u001B[1m5/5\u001B[0m \u001B[32m━━━━━━━━━━━━━━━━━━━━\u001B[0m\u001B[37m\u001B[0m \u001B[1m3s\u001B[0m 634ms/step - accuracy: 0.3194 - loss: 3.1850 - val_accuracy: 0.2375 - val_loss: 2.4077\n",
      "Epoch 3/10\n",
      "\u001B[1m5/5\u001B[0m \u001B[32m━━━━━━━━━━━━━━━━━━━━\u001B[0m\u001B[37m\u001B[0m \u001B[1m3s\u001B[0m 618ms/step - accuracy: 0.2035 - loss: 3.7725 - val_accuracy: 0.2875 - val_loss: 2.1583\n",
      "Epoch 4/10\n",
      "\u001B[1m5/5\u001B[0m \u001B[32m━━━━━━━━━━━━━━━━━━━━\u001B[0m\u001B[37m\u001B[0m \u001B[1m3s\u001B[0m 616ms/step - accuracy: 0.2285 - loss: 3.3610 - val_accuracy: 0.3187 - val_loss: 2.3561\n",
      "Epoch 5/10\n",
      "\u001B[1m5/5\u001B[0m \u001B[32m━━━━━━━━━━━━━━━━━━━━\u001B[0m\u001B[37m\u001B[0m \u001B[1m3s\u001B[0m 623ms/step - accuracy: 0.1971 - loss: 3.3427 - val_accuracy: 0.2875 - val_loss: 2.1628\n",
      "Epoch 6/10\n",
      "\u001B[1m5/5\u001B[0m \u001B[32m━━━━━━━━━━━━━━━━━━━━\u001B[0m\u001B[37m\u001B[0m \u001B[1m3s\u001B[0m 623ms/step - accuracy: 0.2677 - loss: 2.9385 - val_accuracy: 0.3562 - val_loss: 2.1417\n",
      "Epoch 7/10\n",
      "\u001B[1m5/5\u001B[0m \u001B[32m━━━━━━━━━━━━━━━━━━━━\u001B[0m\u001B[37m\u001B[0m \u001B[1m3s\u001B[0m 618ms/step - accuracy: 0.2587 - loss: 3.1561 - val_accuracy: 0.2937 - val_loss: 2.1669\n",
      "Epoch 8/10\n",
      "\u001B[1m5/5\u001B[0m \u001B[32m━━━━━━━━━━━━━━━━━━━━\u001B[0m\u001B[37m\u001B[0m \u001B[1m3s\u001B[0m 614ms/step - accuracy: 0.3102 - loss: 2.8944 - val_accuracy: 0.2875 - val_loss: 2.1695\n",
      "Epoch 9/10\n",
      "\u001B[1m5/5\u001B[0m \u001B[32m━━━━━━━━━━━━━━━━━━━━\u001B[0m\u001B[37m\u001B[0m \u001B[1m3s\u001B[0m 614ms/step - accuracy: 0.2168 - loss: 3.5775 - val_accuracy: 0.2937 - val_loss: 2.1555\n",
      "Epoch 10/10\n",
      "\u001B[1m5/5\u001B[0m \u001B[32m━━━━━━━━━━━━━━━━━━━━\u001B[0m\u001B[37m\u001B[0m \u001B[1m3s\u001B[0m 614ms/step - accuracy: 0.1987 - loss: 3.5234 - val_accuracy: 0.2125 - val_loss: 2.5419\n"
     ]
    }
   ],
   "source": [
    "initial_epochs = 10\n",
    "\n",
    "history = model.fit(train_dataset,\n",
    "                    epochs=initial_epochs,\n",
    "                    steps_per_epoch=5,\n",
    "                    validation_data=validation_dataset,\n",
    "                    validation_steps=5)"
   ],
   "metadata": {
    "collapsed": false,
    "ExecuteTime": {
     "end_time": "2024-05-01T17:35:45.600584Z",
     "start_time": "2024-05-01T17:35:13.435846Z"
    }
   },
   "id": "13c2641425b961f8",
   "execution_count": 12
  },
  {
   "cell_type": "code",
   "outputs": [],
   "source": [
    "# acc = history.history['accuracy']\n",
    "# val_acc = history.history['val_accuracy']\n",
    "# \n",
    "# loss = history.history['loss']\n",
    "# val_loss = history.history['val_loss']\n",
    "# \n",
    "# plt.figure(figsize=(8, 8))\n",
    "# plt.subplot(2, 1, 1)\n",
    "# plt.plot(acc, label='Training Accuracy')\n",
    "# plt.plot(val_acc, label='Validation Accuracy')\n",
    "# plt.legend(loc='lower right')\n",
    "# plt.ylabel('Accuracy')\n",
    "# plt.ylim([0, .5])\n",
    "# plt.title('Training and Validation Accuracy')\n",
    "# \n",
    "# plt.subplot(2, 1, 2)\n",
    "# plt.plot(loss, label='Training Loss')\n",
    "# plt.plot(val_loss, label='Validation Loss')\n",
    "# plt.legend(loc='upper right')\n",
    "# plt.ylabel('Cross Entropy')\n",
    "# plt.title('Training and Validation Loss')\n",
    "# plt.xlabel('epoch')\n",
    "# plt.ylim([0, 10])\n",
    "# plt.show()"
   ],
   "metadata": {
    "collapsed": false,
    "ExecuteTime": {
     "end_time": "2024-05-01T17:35:45.605090Z",
     "start_time": "2024-05-01T17:35:45.601585Z"
    }
   },
   "id": "8492f7380af3b1a3",
   "execution_count": 13
  },
  {
   "cell_type": "markdown",
   "source": [
    "### Customization\n",
    "1) Feature Extraction\n",
    "2) Fine-Tuning"
   ],
   "metadata": {
    "collapsed": false
   },
   "id": "44995519b11c85d9"
  },
  {
   "cell_type": "code",
   "outputs": [],
   "source": [
    "base_model.trainable = True"
   ],
   "metadata": {
    "collapsed": false,
    "ExecuteTime": {
     "end_time": "2024-05-01T17:35:45.615106Z",
     "start_time": "2024-05-01T17:35:45.607094Z"
    }
   },
   "id": "9464e981f00f2d5f",
   "execution_count": 14
  },
  {
   "cell_type": "code",
   "outputs": [
    {
     "name": "stdout",
     "output_type": "stream",
     "text": [
      "Number of layers in the base model:  154\n"
     ]
    }
   ],
   "source": [
    "# Let's take a look to see how many layers are in the base model\n",
    "print(\"Number of layers in the base model: \", len(base_model.layers))\n",
    "\n",
    "# Fine-tune from this layer onwards\n",
    "fine_tune_at = 100\n",
    "\n",
    "# Freeze all the layers before the `fine_tune_at` layer\n",
    "for layer in base_model.layers[:fine_tune_at]:\n",
    "  layer.trainable = False"
   ],
   "metadata": {
    "collapsed": false,
    "ExecuteTime": {
     "end_time": "2024-05-01T17:35:45.621116Z",
     "start_time": "2024-05-01T17:35:45.615607Z"
    }
   },
   "id": "f1fcb09b703aa5a1",
   "execution_count": 15
  },
  {
   "cell_type": "code",
   "outputs": [],
   "source": [
    "# model.summary()"
   ],
   "metadata": {
    "collapsed": false,
    "ExecuteTime": {
     "end_time": "2024-05-01T17:35:45.626123Z",
     "start_time": "2024-05-01T17:35:45.622117Z"
    }
   },
   "id": "69df5e4b48494ed6",
   "execution_count": 16
  },
  {
   "cell_type": "code",
   "outputs": [],
   "source": [
    "model.compile(optimizer=tf.keras.optimizers.Adam(learning_rate=base_learning_rate/10),\n",
    "              loss=tf.keras.losses.SparseCategoricalCrossentropy(from_logits=True), # False when we have a Softmax layer\n",
    "              metrics=['accuracy'])"
   ],
   "metadata": {
    "collapsed": false,
    "ExecuteTime": {
     "end_time": "2024-05-01T17:35:45.633635Z",
     "start_time": "2024-05-01T17:35:45.626623Z"
    }
   },
   "id": "5fd6c9334ff2d9dd",
   "execution_count": 17
  },
  {
   "cell_type": "code",
   "outputs": [
    {
     "name": "stdout",
     "output_type": "stream",
     "text": [
      "Epoch 11/20\n",
      "\u001B[1m5/5\u001B[0m \u001B[32m━━━━━━━━━━━━━━━━━━━━\u001B[0m\u001B[37m\u001B[0m \u001B[1m13s\u001B[0m 1s/step - accuracy: 0.2211 - loss: 5.9212 - val_accuracy: 0.2750 - val_loss: 2.2585\n",
      "Epoch 12/20\n",
      "\u001B[1m5/5\u001B[0m \u001B[32m━━━━━━━━━━━━━━━━━━━━\u001B[0m\u001B[37m\u001B[0m \u001B[1m4s\u001B[0m 808ms/step - accuracy: 0.3022 - loss: 5.7755 - val_accuracy: 0.2375 - val_loss: 2.4212\n",
      "Epoch 13/20\n",
      "\u001B[1m5/5\u001B[0m \u001B[32m━━━━━━━━━━━━━━━━━━━━\u001B[0m\u001B[37m\u001B[0m \u001B[1m4s\u001B[0m 833ms/step - accuracy: 0.2396 - loss: 5.1575 - val_accuracy: 0.2688 - val_loss: 2.0993\n",
      "Epoch 14/20\n",
      "\u001B[1m5/5\u001B[0m \u001B[32m━━━━━━━━━━━━━━━━━━━━\u001B[0m\u001B[37m\u001B[0m \u001B[1m4s\u001B[0m 836ms/step - accuracy: 0.2594 - loss: 4.9652 - val_accuracy: 0.2937 - val_loss: 2.0631\n",
      "Epoch 15/20\n",
      "\u001B[1m5/5\u001B[0m \u001B[32m━━━━━━━━━━━━━━━━━━━━\u001B[0m\u001B[37m\u001B[0m \u001B[1m4s\u001B[0m 844ms/step - accuracy: 0.2776 - loss: 4.6181 - val_accuracy: 0.2625 - val_loss: 2.1158\n",
      "Epoch 16/20\n",
      "\u001B[1m5/5\u001B[0m \u001B[32m━━━━━━━━━━━━━━━━━━━━\u001B[0m\u001B[37m\u001B[0m \u001B[1m4s\u001B[0m 827ms/step - accuracy: 0.3059 - loss: 4.8334 - val_accuracy: 0.2688 - val_loss: 2.2389\n",
      "Epoch 17/20\n",
      "\u001B[1m5/5\u001B[0m \u001B[32m━━━━━━━━━━━━━━━━━━━━\u001B[0m\u001B[37m\u001B[0m \u001B[1m4s\u001B[0m 835ms/step - accuracy: 0.2524 - loss: 4.9866 - val_accuracy: 0.2313 - val_loss: 2.2668\n",
      "Epoch 18/20\n",
      "\u001B[1m5/5\u001B[0m \u001B[32m━━━━━━━━━━━━━━━━━━━━\u001B[0m\u001B[37m\u001B[0m \u001B[1m4s\u001B[0m 826ms/step - accuracy: 0.2956 - loss: 4.6025 - val_accuracy: 0.2688 - val_loss: 2.2086\n",
      "Epoch 19/20\n",
      "\u001B[1m5/5\u001B[0m \u001B[32m━━━━━━━━━━━━━━━━━━━━\u001B[0m\u001B[37m\u001B[0m \u001B[1m4s\u001B[0m 877ms/step - accuracy: 0.3589 - loss: 3.9746 - val_accuracy: 0.2937 - val_loss: 2.2293\n",
      "Epoch 20/20\n",
      "\u001B[1m5/5\u001B[0m \u001B[32m━━━━━━━━━━━━━━━━━━━━\u001B[0m\u001B[37m\u001B[0m \u001B[1m4s\u001B[0m 841ms/step - accuracy: 0.2634 - loss: 4.9764 - val_accuracy: 0.2125 - val_loss: 2.3651\n"
     ]
    }
   ],
   "source": [
    "fine_tune_epochs = 10\n",
    "total_epochs =  initial_epochs + fine_tune_epochs\n",
    "\n",
    "history_fine = model.fit(train_dataset,\n",
    "                         epochs=total_epochs,\n",
    "                         initial_epoch=len(history.epoch),\n",
    "                         steps_per_epoch=5,\n",
    "                         validation_data=validation_dataset,\n",
    "                         validation_steps=5)"
   ],
   "metadata": {
    "collapsed": false,
    "ExecuteTime": {
     "end_time": "2024-05-01T17:36:33.735267Z",
     "start_time": "2024-05-01T17:35:45.634135Z"
    }
   },
   "id": "a1fcdf30b27e330d",
   "execution_count": 18
  },
  {
   "cell_type": "code",
   "outputs": [
    {
     "name": "stdout",
     "output_type": "stream",
     "text": [
      "\u001B[1m37/37\u001B[0m \u001B[32m━━━━━━━━━━━━━━━━━━━━\u001B[0m\u001B[37m\u001B[0m \u001B[1m11s\u001B[0m 290ms/step - accuracy: 0.2358 - loss: 2.2936\n",
      "Test accuracy : 0.24662162363529205\n"
     ]
    }
   ],
   "source": [
    "loss, accuracy = model.evaluate(test_dataset)\n",
    "print('Test accuracy :', accuracy)"
   ],
   "metadata": {
    "collapsed": false,
    "ExecuteTime": {
     "end_time": "2024-05-01T17:36:44.527788Z",
     "start_time": "2024-05-01T17:36:33.736269Z"
    }
   },
   "id": "62c38e6490bb84be",
   "execution_count": 19
  },
  {
   "cell_type": "code",
   "outputs": [],
   "source": [
    "# acc += history_fine.history['accuracy']\n",
    "# val_acc += history_fine.history['val_accuracy']\n",
    "# \n",
    "# loss += history_fine.history['loss']\n",
    "# val_loss += history_fine.history['val_loss']"
   ],
   "metadata": {
    "collapsed": false,
    "ExecuteTime": {
     "end_time": "2024-05-01T17:36:44.531294Z",
     "start_time": "2024-05-01T17:36:44.528790Z"
    }
   },
   "id": "108ab22ee0bbe9b2",
   "execution_count": 20
  },
  {
   "cell_type": "code",
   "outputs": [],
   "source": [
    "# acc = history.history['accuracy']\n",
    "# val_acc = history.history['val_accuracy']\n",
    "# \n",
    "# loss = history.history['loss']\n",
    "# val_loss = history.history['val_loss']\n",
    "# \n",
    "# plt.figure(figsize=(8, 8))\n",
    "# plt.subplot(2, 1, 1)\n",
    "# plt.plot(acc, label='Training Accuracy')\n",
    "# plt.plot(val_acc, label='Validation Accuracy')\n",
    "# plt.legend(loc='lower right')\n",
    "# plt.ylabel('Accuracy')\n",
    "# plt.ylim([0, 1])\n",
    "# plt.title('Training and Validation Accuracy')\n",
    "# \n",
    "# plt.subplot(2, 1, 2)\n",
    "# plt.plot(loss, label='Training Loss')\n",
    "# plt.plot(val_loss, label='Validation Loss')\n",
    "# plt.legend(loc='upper right')\n",
    "# plt.ylabel('Cross Entropy')\n",
    "# plt.title('Training and Validation Loss')\n",
    "# plt.xlabel('epoch')\n",
    "# plt.ylim([0, 10])\n",
    "# plt.show()"
   ],
   "metadata": {
    "collapsed": false,
    "ExecuteTime": {
     "end_time": "2024-05-01T17:36:44.536802Z",
     "start_time": "2024-05-01T17:36:44.531794Z"
    }
   },
   "id": "4a0193ea8c91d943",
   "execution_count": 21
  },
  {
   "cell_type": "code",
   "outputs": [],
   "source": [
    "# Add a softmax layer to our model and apply our test data\n",
    "# probability_model = tf.keras.Sequential([model, tf.keras.layers.Softmax()])\n",
    "# image_batch, label_batch = test_dataset.as_numpy_iterator().next()\n",
    "# predictions = probability_model.predict(image_batch)"
   ],
   "metadata": {
    "collapsed": false,
    "ExecuteTime": {
     "end_time": "2024-05-01T17:36:44.542310Z",
     "start_time": "2024-05-01T17:36:44.537303Z"
    }
   },
   "id": "6d7b517250283fea",
   "execution_count": 22
  },
  {
   "cell_type": "code",
   "outputs": [],
   "source": [
    "# plt.figure(figsize=(10, 10))\n",
    "# for i in range(9):\n",
    "#   ax = plt.subplot(3, 3, i + 1)\n",
    "#   plt.imshow(image_batch[i].astype(\"uint8\"))\n",
    "#   guess = str(class_names[np.argmax(predictions[i+9])])\n",
    "#   actual = str(class_names[label_batch[i+9]])\n",
    "#   title = \"Prediction: \" + guess + \"\\n\" + \"Actual: \" + actual\n",
    "#   plt.title(title)\n",
    "#   plt.axis(\"off\")"
   ],
   "metadata": {
    "collapsed": false,
    "ExecuteTime": {
     "end_time": "2024-05-01T17:36:44.547318Z",
     "start_time": "2024-05-01T17:36:44.542811Z"
    }
   },
   "id": "a4daaa4ff9673eac",
   "execution_count": 23
  }
 ],
 "metadata": {
  "kernelspec": {
   "display_name": "Python 3",
   "language": "python",
   "name": "python3"
  },
  "language_info": {
   "codemirror_mode": {
    "name": "ipython",
    "version": 2
   },
   "file_extension": ".py",
   "mimetype": "text/x-python",
   "name": "python",
   "nbconvert_exporter": "python",
   "pygments_lexer": "ipython2",
   "version": "2.7.6"
  }
 },
 "nbformat": 4,
 "nbformat_minor": 5
}
