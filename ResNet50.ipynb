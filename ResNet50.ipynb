{
 "cells": [
  {
   "cell_type": "code",
   "execution_count": 63,
   "id": "initial_id",
   "metadata": {
    "collapsed": true,
    "ExecuteTime": {
     "end_time": "2024-04-29T14:37:53.267021Z",
     "start_time": "2024-04-29T14:37:53.254502Z"
    }
   },
   "outputs": [],
   "source": [
    "import os\n",
    "import gc\n",
    "\n",
    "import matplotlib.pyplot as plt\n",
    "import numpy as np\n",
    "import pandas as pd\n",
    "\n",
    "import tensorflow as tf"
   ]
  },
  {
   "cell_type": "code",
   "outputs": [],
   "source": [
    "# Global Variables\n",
    "BATCH_SIZE = 32\n",
    "IMG_SIZE = (128, 128)"
   ],
   "metadata": {
    "collapsed": false,
    "ExecuteTime": {
     "end_time": "2024-04-29T14:37:53.640093Z",
     "start_time": "2024-04-29T14:37:53.636587Z"
    }
   },
   "id": "2324f86499fe55f4",
   "execution_count": 64
  },
  {
   "cell_type": "code",
   "outputs": [
    {
     "name": "stdout",
     "output_type": "stream",
     "text": [
      "Found 16000 files belonging to 8 classes.\n",
      "Found 16000 files belonging to 8 classes.\n"
     ]
    }
   ],
   "source": [
    "# Paths: For local machine\n",
    "train_dir = 'C:/Users/Nick/Documents/SchoolStuff/spring2024/machineLearning/final_project/tradingpatterns/stock_patterns/train'\n",
    "validation_dir = 'C:/Users/Nick/Documents/SchoolStuff/spring2024/machineLearning/final_project/tradingpatterns/stock_patterns/validation'\n",
    "\n",
    "# Create training and validation dataset\n",
    "train_dataset = tf.keras.utils.image_dataset_from_directory(train_dir,\n",
    "                                                            shuffle=True,\n",
    "                                                            batch_size=BATCH_SIZE,\n",
    "                                                            image_size=IMG_SIZE)\n",
    "\n",
    "validation_dataset = tf.keras.utils.image_dataset_from_directory(validation_dir,\n",
    "                                                                 shuffle=True,\n",
    "                                                                 batch_size=BATCH_SIZE,\n",
    "                                                                 image_size=IMG_SIZE)"
   ],
   "metadata": {
    "collapsed": false,
    "ExecuteTime": {
     "end_time": "2024-04-29T14:37:56.396815Z",
     "start_time": "2024-04-29T14:37:54.271560Z"
    }
   },
   "id": "7d0649ea817f8775",
   "execution_count": 65
  },
  {
   "cell_type": "code",
   "outputs": [],
   "source": [
    "val_batches = tf.data.experimental.cardinality(validation_dataset)\n",
    "test_dataset = validation_dataset.take(val_batches // 5)\n",
    "validation_dataset = validation_dataset.skip(val_batches // 5)\n",
    "preprocess_input = tf.keras.applications.mobilenet_v2.preprocess_input"
   ],
   "metadata": {
    "collapsed": false,
    "ExecuteTime": {
     "end_time": "2024-04-29T14:37:57.405359Z",
     "start_time": "2024-04-29T14:37:57.387228Z"
    }
   },
   "id": "d184f0d637da4e86",
   "execution_count": 66
  },
  {
   "cell_type": "code",
   "outputs": [],
   "source": [
    "# Create the base model from the pre-trained model MobileNet V2\n",
    "IMG_SHAPE = IMG_SIZE + (3,)\n",
    "base_model = tf.keras.applications.ResNet50(input_shape=IMG_SHAPE,\n",
    "                                            include_top=False,\n",
    "                                            weights='imagenet')"
   ],
   "metadata": {
    "collapsed": false,
    "ExecuteTime": {
     "end_time": "2024-04-29T14:37:58.989786Z",
     "start_time": "2024-04-29T14:37:57.932166Z"
    }
   },
   "id": "d7da387c0b1a736f",
   "execution_count": 67
  },
  {
   "cell_type": "code",
   "outputs": [],
   "source": [
    "# This feature extractor converts each 255x255 image into a 5x5x1280 block of features\n",
    "image_batch, label_batch = next(iter(train_dataset))\n",
    "feature_batch = base_model(image_batch)"
   ],
   "metadata": {
    "collapsed": false,
    "ExecuteTime": {
     "end_time": "2024-04-29T14:38:00.141050Z",
     "start_time": "2024-04-29T14:37:58.990788Z"
    }
   },
   "id": "e17aa5e2dce7cb63",
   "execution_count": 68
  },
  {
   "cell_type": "code",
   "outputs": [],
   "source": [
    "base_model.trainable = False\n",
    "\n",
    "# Adding a classification head\n",
    "global_average_layer = tf.keras.layers.GlobalAveragePooling2D()\n",
    "feature_batch_average = global_average_layer(feature_batch)"
   ],
   "metadata": {
    "collapsed": false,
    "ExecuteTime": {
     "end_time": "2024-04-29T14:38:00.150564Z",
     "start_time": "2024-04-29T14:38:00.142051Z"
    }
   },
   "id": "faa24acc268c1c6c",
   "execution_count": 69
  },
  {
   "cell_type": "code",
   "outputs": [],
   "source": [
    "# Add a dense layer to convert it to a single prediction per image\n",
    "# Test relu, leaky_relu, and sigmoid\n",
    "prediction_layer = tf.keras.layers.Dense(1, activation='sigmoid')\n",
    "prediction_batch = prediction_layer(feature_batch_average)\n",
    "\n",
    "inputs = tf.keras.Input(shape=(128, 128, 3))\n",
    "x = preprocess_input(inputs)\n",
    "x = base_model(x, training=False)\n",
    "x = global_average_layer(x)\n",
    "x = tf.keras.layers.Dropout(0.2)(x)\n",
    "outputs = prediction_layer(x)\n",
    "model = tf.keras.Model(inputs, outputs)\n",
    "\n",
    "# We use binary accuracy here because of the Sigmoid?\n",
    "# If we use a different activator then I am not sure \n",
    "base_learning_rate = 0.0001\n",
    "model.compile(optimizer=tf.keras.optimizers.RMSprop(learning_rate=base_learning_rate),\n",
    "              loss=tf.keras.losses.BinaryCrossentropy(),\n",
    "              metrics=[tf.keras.metrics.BinaryAccuracy(threshold=0.5, name='accuracy')])"
   ],
   "metadata": {
    "collapsed": false,
    "ExecuteTime": {
     "end_time": "2024-04-29T14:51:04.125837Z",
     "start_time": "2024-04-29T14:51:04.105306Z"
    }
   },
   "id": "9221c2b852cd47f7",
   "execution_count": 83
  },
  {
   "cell_type": "code",
   "outputs": [
    {
     "name": "stdout",
     "output_type": "stream",
     "text": [
      "\u001B[1m400/400\u001B[0m \u001B[32m━━━━━━━━━━━━━━━━━━━━\u001B[0m\u001B[37m\u001B[0m \u001B[1m101s\u001B[0m 248ms/step - accuracy: 0.1261 - loss: 2.0480\n"
     ]
    }
   ],
   "source": [
    "initial_epochs = 10\n",
    "loss0, accuracy0 = model.evaluate(validation_dataset)"
   ],
   "metadata": {
    "collapsed": false,
    "ExecuteTime": {
     "end_time": "2024-04-29T14:52:46.306342Z",
     "start_time": "2024-04-29T14:51:04.870478Z"
    }
   },
   "id": "56f62986b50b1212",
   "execution_count": 84
  },
  {
   "cell_type": "code",
   "outputs": [
    {
     "name": "stdout",
     "output_type": "stream",
     "text": [
      "Epoch 1/10\n",
      "\u001B[1m500/500\u001B[0m \u001B[32m━━━━━━━━━━━━━━━━━━━━\u001B[0m\u001B[37m\u001B[0m \u001B[1m220s\u001B[0m 431ms/step - accuracy: 0.1267 - loss: -21.0735 - val_accuracy: 0.1250 - val_loss: -39.6517\n",
      "Epoch 2/10\n",
      "\u001B[1m500/500\u001B[0m \u001B[32m━━━━━━━━━━━━━━━━━━━━\u001B[0m\u001B[37m\u001B[0m \u001B[1m215s\u001B[0m 431ms/step - accuracy: 0.1273 - loss: -37.6078 - val_accuracy: 0.1250 - val_loss: -39.6517\n",
      "Epoch 3/10\n",
      "\u001B[1m500/500\u001B[0m \u001B[32m━━━━━━━━━━━━━━━━━━━━\u001B[0m\u001B[37m\u001B[0m \u001B[1m216s\u001B[0m 432ms/step - accuracy: 0.1274 - loss: -38.4647 - val_accuracy: 0.1250 - val_loss: -39.6517\n",
      "Epoch 4/10\n",
      "\u001B[1m500/500\u001B[0m \u001B[32m━━━━━━━━━━━━━━━━━━━━\u001B[0m\u001B[37m\u001B[0m \u001B[1m217s\u001B[0m 434ms/step - accuracy: 0.1273 - loss: -38.6367 - val_accuracy: 0.1250 - val_loss: -39.6517\n",
      "Epoch 5/10\n",
      "\u001B[1m500/500\u001B[0m \u001B[32m━━━━━━━━━━━━━━━━━━━━\u001B[0m\u001B[37m\u001B[0m \u001B[1m214s\u001B[0m 429ms/step - accuracy: 0.1273 - loss: -39.0507 - val_accuracy: 0.1250 - val_loss: -39.6517\n",
      "Epoch 6/10\n",
      "\u001B[1m500/500\u001B[0m \u001B[32m━━━━━━━━━━━━━━━━━━━━\u001B[0m\u001B[37m\u001B[0m \u001B[1m204s\u001B[0m 409ms/step - accuracy: 0.1273 - loss: -39.3146 - val_accuracy: 0.1250 - val_loss: -39.6517\n",
      "Epoch 7/10\n",
      "\u001B[1m500/500\u001B[0m \u001B[32m━━━━━━━━━━━━━━━━━━━━\u001B[0m\u001B[37m\u001B[0m \u001B[1m206s\u001B[0m 412ms/step - accuracy: 0.1273 - loss: -39.4026 - val_accuracy: 0.1250 - val_loss: -39.6517\n",
      "Epoch 8/10\n",
      "\u001B[1m500/500\u001B[0m \u001B[32m━━━━━━━━━━━━━━━━━━━━\u001B[0m\u001B[37m\u001B[0m \u001B[1m206s\u001B[0m 413ms/step - accuracy: 0.1273 - loss: -39.3462 - val_accuracy: 0.1250 - val_loss: -39.6517\n",
      "Epoch 9/10\n",
      "\u001B[1m500/500\u001B[0m \u001B[32m━━━━━━━━━━━━━━━━━━━━\u001B[0m\u001B[37m\u001B[0m \u001B[1m208s\u001B[0m 415ms/step - accuracy: 0.1273 - loss: -39.4180 - val_accuracy: 0.1250 - val_loss: -39.6517\n",
      "Epoch 10/10\n",
      "\u001B[1m500/500\u001B[0m \u001B[32m━━━━━━━━━━━━━━━━━━━━\u001B[0m\u001B[37m\u001B[0m \u001B[1m206s\u001B[0m 412ms/step - accuracy: 0.1273 - loss: -39.4919 - val_accuracy: 0.1250 - val_loss: -39.6517\n"
     ]
    }
   ],
   "source": [
    "history = model.fit(train_dataset,\n",
    "                    epochs=initial_epochs,\n",
    "                    validation_data=validation_dataset)"
   ],
   "metadata": {
    "collapsed": false,
    "ExecuteTime": {
     "end_time": "2024-04-29T13:34:45.811978Z",
     "start_time": "2024-04-29T12:59:34.075544Z"
    }
   },
   "id": "ac59b79512053fe8",
   "execution_count": 60
  },
  {
   "cell_type": "code",
   "outputs": [
    {
     "data": {
      "text/plain": "<Figure size 800x800 with 2 Axes>",
      "image/png": "[encoded data removed]"
     },
     "metadata": {},
     "output_type": "display_data"
    }
   ],
   "source": [
    "acc = history.history['accuracy']\n",
    "val_acc = history.history['val_accuracy']\n",
    "\n",
    "loss = history.history['loss']\n",
    "val_loss = history.history['val_loss']\n",
    "\n",
    "plt.figure(figsize=(8, 8))\n",
    "plt.subplot(2, 1, 1)\n",
    "plt.plot(acc, label='Training Accuracy')\n",
    "plt.plot(val_acc, label='Validation Accuracy')\n",
    "plt.legend(loc='lower right')\n",
    "plt.ylabel('Accuracy')\n",
    "plt.ylim([min(plt.ylim()),1])\n",
    "plt.title('Training and Validation Accuracy')\n",
    "\n",
    "plt.subplot(2, 1, 2)\n",
    "plt.plot(loss, label='Training Loss')\n",
    "plt.plot(val_loss, label='Validation Loss')\n",
    "plt.legend(loc='upper right')\n",
    "plt.ylabel('Cross Entropy')\n",
    "plt.ylim([0,1.0])\n",
    "plt.title('Training and Validation Loss')\n",
    "plt.xlabel('epoch')\n",
    "plt.show()"
   ],
   "metadata": {
    "collapsed": false,
    "ExecuteTime": {
     "end_time": "2024-04-29T13:34:59.904062Z",
     "start_time": "2024-04-29T13:34:59.623132Z"
    }
   },
   "id": "71d5b762f53482bc",
   "execution_count": 62
  },
  {
   "cell_type": "code",
   "outputs": [],
   "source": [
    "base_model.trainable = True\n",
    "\n",
    "# Fine-tune from this layer onwards\n",
    "fine_tune_at = 100\n",
    "\n",
    "# Freeze all the layers before the `fine_tune_at` layer\n",
    "for layer in base_model.layers[:fine_tune_at]:\n",
    "  layer.trainable = False"
   ],
   "metadata": {
    "collapsed": false
   },
   "id": "fb3c311e8311276e"
  },
  {
   "cell_type": "code",
   "outputs": [],
   "source": [
    "model.compile(optimizer=tf.keras.optimizers.Adam(learning_rate=base_learning_rate/10),\n",
    "              loss=tf.keras.losses.BinaryCrossentropy(),\n",
    "              metrics=[tf.keras.metrics.BinaryAccuracy(threshold=0.5, name='accuracy')])"
   ],
   "metadata": {
    "collapsed": false
   },
   "id": "b60df04800ab0e29"
  },
  {
   "cell_type": "code",
   "outputs": [],
   "source": [
    "fine_tune_epochs = 10\n",
    "total_epochs =  initial_epochs + fine_tune_epochs\n",
    "\n",
    "history_fine = model.fit(train_dataset,\n",
    "                         epochs=total_epochs,\n",
    "                         initial_epoch=len(history.epoch),\n",
    "                         validation_data=validation_dataset)"
   ],
   "metadata": {
    "collapsed": false
   },
   "id": "f51a8ce538a9546b"
  }
 ],
 "metadata": {
  "kernelspec": {
   "display_name": "Python 3",
   "language": "python",
   "name": "python3"
  },
  "language_info": {
   "codemirror_mode": {
    "name": "ipython",
    "version": 2
   },
   "file_extension": ".py",
   "mimetype": "text/x-python",
   "name": "python",
   "nbconvert_exporter": "python",
   "pygments_lexer": "ipython2",
   "version": "2.7.6"
  }
 },
 "nbformat": 4,
 "nbformat_minor": 5
}
