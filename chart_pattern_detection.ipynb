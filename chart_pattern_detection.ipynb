{
 "cells": [
  {
   "cell_type": "code",
   "outputs": [],
   "source": [
    "import pandas as pd\n",
    "import numpy as np\n",
    "\n",
    "from chart_patterns.chart_patterns.doubles import find_doubles_pattern\n",
    "from chart_patterns.chart_patterns.head_and_shoulders import find_head_and_shoulders_pattern\n",
    "from chart_patterns.chart_patterns.inverse_head_and_shoulders import find_inverse_head_and_shoulders\n",
    "from chart_patterns.chart_patterns.plotting import display_chart_pattern"
   ],
   "metadata": {
    "collapsed": false,
    "ExecuteTime": {
     "end_time": "2024-04-22T12:10:53.437303400Z",
     "start_time": "2024-04-22T12:10:52.185498100Z"
    }
   },
   "id": "4f0021fbf4da81c8",
   "execution_count": 2
  },
  {
   "cell_type": "code",
   "execution_count": 3,
   "id": "initial_id",
   "metadata": {
    "collapsed": true,
    "ExecuteTime": {
     "end_time": "2024-04-22T12:14:46.991566300Z",
     "start_time": "2024-04-22T12:10:54.430886400Z"
    }
   },
   "outputs": [],
   "source": [
    "# read in your ohlc data \n",
    "ohlc_doubles_data = pd.read_csv(\"chart_patterns/data/eurusd-4h.csv\")  #headers include - open, high, low, close\n",
    "\n",
    "# Find the double bottom pattern\n",
    "ohlc_doubles_data = find_doubles_pattern(ohlc_doubles_data, double=\"bottoms\")\n",
    "\n",
    "# Find the double tops pattern\n",
    "ohlc_doubles_data = find_doubles_pattern(ohlc_doubles_data, double=\"tops\")"
   ]
  },
  {
   "cell_type": "code",
   "outputs": [
    {
     "name": "stderr",
     "output_type": "stream",
     "text": [
      "C:\\Users\\nlalt\\Documents\\School\\2024Spring\\machineLearning\\finalProject\\venv\\lib\\site-packages\\pandas\\core\\frame.py:5039: SettingWithCopyWarning: \n",
      "A value is trying to be set on a copy of a slice from a DataFrame\n",
      "\n",
      "See the caveats in the documentation: https://pandas.pydata.org/pandas-docs/stable/user_guide/indexing.html#returning-a-view-versus-a-copy\n",
      "  return super().rename(\n",
      "C:\\Users\\nlalt\\Documents\\School\\2024Spring\\machineLearning\\finalProject\\venv\\lib\\site-packages\\pandas\\core\\frame.py:5039: SettingWithCopyWarning:\n",
      "\n",
      "\n",
      "A value is trying to be set on a copy of a slice from a DataFrame\n",
      "\n",
      "See the caveats in the documentation: https://pandas.pydata.org/pandas-docs/stable/user_guide/indexing.html#returning-a-view-versus-a-copy\n",
      "\n"
     ]
    },
    {
     "ename": "SystemExit",
     "evalue": "",
     "output_type": "error",
     "traceback": [
      "An exception has occurred, use %tb to see the full traceback.\n",
      "\u001B[1;31mSystemExit\u001B[0m\n"
     ]
    },
    {
     "name": "stderr",
     "output_type": "stream",
     "text": [
      "C:\\Users\\nlalt\\Documents\\School\\2024Spring\\machineLearning\\finalProject\\venv\\lib\\site-packages\\IPython\\core\\interactiveshell.py:3585: UserWarning:\n",
      "\n",
      "To exit: use 'exit', 'quit', or Ctrl-D.\n",
      "\n"
     ]
    }
   ],
   "source": [
    " # Plot the results\n",
    "display_chart_pattern(ohlc_doubles_data, pattern=\"double\")"
   ],
   "metadata": {
    "collapsed": false,
    "ExecuteTime": {
     "end_time": "2024-04-22T12:15:57.355289Z",
     "start_time": "2024-04-22T12:15:03.018156600Z"
    }
   },
   "id": "3b107b2e3ae09f1b",
   "execution_count": 4
  },
  {
   "cell_type": "code",
   "outputs": [],
   "source": [
    "# Plot the results \n",
    "display_chart_pattern(ohlc_doubles_data, pattern=\"double\") # If multiple patterns were found, then plots will save inside a folder named images/double "
   ],
   "metadata": {
    "collapsed": false
   },
   "id": "725c3a552e4436d3"
  },
  {
   "cell_type": "code",
   "outputs": [
    {
     "data": {
      "text/plain": "                  Date      open      high       low     close     volume\n0  2022-04-19-09-30-00  5.106067  5.115055  5.099318  5.113643  16.590533",
      "text/html": "<div>\n<style scoped>\n    .dataframe tbody tr th:only-of-type {\n        vertical-align: middle;\n    }\n\n    .dataframe tbody tr th {\n        vertical-align: top;\n    }\n\n    .dataframe thead th {\n        text-align: right;\n    }\n</style>\n<table border=\"1\" class=\"dataframe\">\n  <thead>\n    <tr style=\"text-align: right;\">\n      <th></th>\n      <th>Date</th>\n      <th>open</th>\n      <th>high</th>\n      <th>low</th>\n      <th>close</th>\n      <th>volume</th>\n    </tr>\n  </thead>\n  <tbody>\n    <tr>\n      <th>0</th>\n      <td>2022-04-19-09-30-00</td>\n      <td>5.106067</td>\n      <td>5.115055</td>\n      <td>5.099318</td>\n      <td>5.113643</td>\n      <td>16.590533</td>\n    </tr>\n  </tbody>\n</table>\n</div>"
     },
     "execution_count": 12,
     "metadata": {},
     "output_type": "execute_result"
    }
   ],
   "source": [
    "# read in your aapl data \n",
    "aapl_hs = pd.read_csv(\"data/AAPL_data.csv\") # headers must include - open, high, low, close\n",
    "temp = pd.to_datetime(aapl_hs['Datetime'])\n",
    "# Apply numeric and log to the data\n",
    "aapl_hs = aapl_hs.apply(pd.to_numeric, errors='coerce')\n",
    "aapl_hs = np.log(aapl_hs)\n",
    "\n",
    "# Add the datetime we saved earlier back in\n",
    "aapl_hs['Datetime'] = temp\n",
    "\n",
    "aapl_hs = aapl_hs[['Datetime', 'open', 'high', 'low', 'close', 'volume']]\n",
    "aapl_hs.rename(columns={\"Datetime\": \"Date\"}, inplace=True)\n",
    "aapl_hs['Date'] = aapl_hs['Date'].dt.strftime('%Y-%m-%d-%H-%M-%S')\n",
    "\n",
    "aapl_hs.head(1)"
   ],
   "metadata": {
    "collapsed": false,
    "ExecuteTime": {
     "end_time": "2024-04-20T14:21:10.871164Z",
     "start_time": "2024-04-20T14:21:10.809570Z"
    }
   },
   "id": "522c653fb59d5699",
   "execution_count": 12
  },
  {
   "cell_type": "code",
   "outputs": [],
   "source": [
    "# Find the head and shoulers pattern\n",
    "aapl_hs = find_head_and_shoulders_pattern(aapl_hs)"
   ],
   "metadata": {
    "collapsed": false
   },
   "id": "88cc3973be892a66",
   "execution_count": null
  },
  {
   "cell_type": "code",
   "outputs": [
    {
     "data": {
      "text/plain": "                  Date      open      high       low     close     volume  \\\n0  2022-04-19-09-30-00  5.106067  5.115055  5.099318  5.113643  16.590533   \n\n   hs_lookback chart_type hs_idx hs_point  pivot  pivot_pos  short_pivot  \\\n0           60                []       []      0        NaN            0   \n\n   short_pivot_pos  \n0              NaN  ",
      "text/html": "<div>\n<style scoped>\n    .dataframe tbody tr th:only-of-type {\n        vertical-align: middle;\n    }\n\n    .dataframe tbody tr th {\n        vertical-align: top;\n    }\n\n    .dataframe thead th {\n        text-align: right;\n    }\n</style>\n<table border=\"1\" class=\"dataframe\">\n  <thead>\n    <tr style=\"text-align: right;\">\n      <th></th>\n      <th>Date</th>\n      <th>open</th>\n      <th>high</th>\n      <th>low</th>\n      <th>close</th>\n      <th>volume</th>\n      <th>hs_lookback</th>\n      <th>chart_type</th>\n      <th>hs_idx</th>\n      <th>hs_point</th>\n      <th>pivot</th>\n      <th>pivot_pos</th>\n      <th>short_pivot</th>\n      <th>short_pivot_pos</th>\n    </tr>\n  </thead>\n  <tbody>\n    <tr>\n      <th>0</th>\n      <td>2022-04-19-09-30-00</td>\n      <td>5.106067</td>\n      <td>5.115055</td>\n      <td>5.099318</td>\n      <td>5.113643</td>\n      <td>16.590533</td>\n      <td>60</td>\n      <td></td>\n      <td>[]</td>\n      <td>[]</td>\n      <td>0</td>\n      <td>NaN</td>\n      <td>0</td>\n      <td>NaN</td>\n    </tr>\n  </tbody>\n</table>\n</div>"
     },
     "execution_count": 17,
     "metadata": {},
     "output_type": "execute_result"
    }
   ],
   "source": [
    "aapl_hs.head(1)"
   ],
   "metadata": {
    "collapsed": false,
    "ExecuteTime": {
     "end_time": "2024-04-20T14:24:18.109239Z",
     "start_time": "2024-04-20T14:24:18.091712Z"
    }
   },
   "id": "cbf05c890619d3fd",
   "execution_count": 17
  },
  {
   "cell_type": "code",
   "outputs": [
    {
     "data": {
      "text/plain": "                     Date      open      high       low     close\n1065  2022-11-23-10-30-00  5.019694  5.022761  5.017876  5.019265",
      "text/html": "<div>\n<style scoped>\n    .dataframe tbody tr th:only-of-type {\n        vertical-align: middle;\n    }\n\n    .dataframe tbody tr th {\n        vertical-align: top;\n    }\n\n    .dataframe thead th {\n        text-align: right;\n    }\n</style>\n<table border=\"1\" class=\"dataframe\">\n  <thead>\n    <tr style=\"text-align: right;\">\n      <th></th>\n      <th>Date</th>\n      <th>open</th>\n      <th>high</th>\n      <th>low</th>\n      <th>close</th>\n    </tr>\n  </thead>\n  <tbody>\n    <tr>\n      <th>1065</th>\n      <td>2022-11-23-10-30-00</td>\n      <td>5.019694</td>\n      <td>5.022761</td>\n      <td>5.017876</td>\n      <td>5.019265</td>\n    </tr>\n  </tbody>\n</table>\n</div>"
     },
     "execution_count": 21,
     "metadata": {},
     "output_type": "execute_result"
    }
   ],
   "source": [
    "# TODO: Ended here\n",
    "hs_chart = aapl_hs[aapl_hs['chart_type'] != '']\n",
    "hs_chart.iloc[:, 0:5]"
   ],
   "metadata": {
    "collapsed": false,
    "ExecuteTime": {
     "end_time": "2024-04-20T14:27:12.831658Z",
     "start_time": "2024-04-20T14:27:12.822645Z"
    }
   },
   "id": "cb12e0a5cf2d161f",
   "execution_count": 21
  },
  {
   "cell_type": "code",
   "outputs": [],
   "source": [],
   "metadata": {
    "collapsed": false
   },
   "id": "b703a0caa5abc3bd"
  },
  {
   "cell_type": "code",
   "outputs": [],
   "source": [
    "# Plot the results \n",
    "display_chart_pattern(aapl_hs, pattern=\"hs\") # If multiple patterns were found, then plots will saved inside a folder named images/hs  "
   ],
   "metadata": {
    "collapsed": false,
    "ExecuteTime": {
     "end_time": "2024-04-20T14:14:33.311183Z",
     "start_time": "2024-04-20T14:14:07.204727Z"
    }
   },
   "id": "e44ea112abee738a",
   "execution_count": 11
  },
  {
   "cell_type": "code",
   "outputs": [
    {
     "name": "stdout",
     "output_type": "stream",
     "text": [
      "head_ratio_before: 0.9922523080342613\n",
      "head_ratio_after : 0.9969214327301149\n",
      "head_ratio_before: 0.997524007345194\n",
      "head_ratio_after : 0.9966014782066029\n",
      "head_ratio_before: 0.9926806765761148\n",
      "head_ratio_after : 0.9922060179650943\n",
      "head_ratio_before: 0.9888700319690571\n",
      "head_ratio_after : 0.9899640444110791\n",
      "head_ratio_before: 0.9834308070181053\n",
      "head_ratio_after : 0.9904356724439396\n",
      "head_ratio_before: 0.9980854799164574\n",
      "head_ratio_after : 0.9966976997249343\n",
      "head_ratio_before: 0.9827143276570758\n",
      "head_ratio_after : 0.9914102706505239\n",
      "head_ratio_before: 0.997632223288519\n",
      "head_ratio_after : 0.99366636293795\n",
      "head_ratio_before: 0.9969341418971682\n",
      "head_ratio_after : 0.9837695388684342\n",
      "head_ratio_before: 0.9857999314833847\n",
      "head_ratio_after : 0.9887298778497431\n",
      "head_ratio_before: 0.9976806422836754\n",
      "head_ratio_after : 0.9980100479194739\n",
      "head_ratio_before: 0.9965379090041133\n",
      "head_ratio_after : 0.9980072560899327\n",
      "head_ratio_before: 0.9952440716031442\n",
      "head_ratio_after : 0.9980789613142553\n"
     ]
    },
    {
     "name": "stderr",
     "output_type": "stream",
     "text": [
      "C:\\Users\\Nick\\Documents\\SchoolStuff\\spring2024\\machineLearning\\final_project\\venv\\lib\\site-packages\\pandas\\core\\frame.py:5039: SettingWithCopyWarning:\n",
      "\n",
      "\n",
      "A value is trying to be set on a copy of a slice from a DataFrame\n",
      "\n",
      "See the caveats in the documentation: https://pandas.pydata.org/pandas-docs/stable/user_guide/indexing.html#returning-a-view-versus-a-copy\n",
      "\n"
     ]
    },
    {
     "ename": "SystemExit",
     "evalue": "",
     "output_type": "error",
     "traceback": [
      "An exception has occurred, use %tb to see the full traceback.\n",
      "\u001B[1;31mSystemExit\u001B[0m\n"
     ]
    },
    {
     "name": "stderr",
     "output_type": "stream",
     "text": [
      "C:\\Users\\Nick\\Documents\\SchoolStuff\\spring2024\\machineLearning\\final_project\\venv\\lib\\site-packages\\IPython\\core\\interactiveshell.py:3585: UserWarning:\n",
      "\n",
      "To exit: use 'exit', 'quit', or Ctrl-D.\n",
      "\n"
     ]
    }
   ],
   "source": [
    "\n",
    "\n",
    "# read in your ohlc data \n",
    "ohlc = pd.read_csv(\"chart_patterns/data/eurusd-4h.csv\")  # headers must include - open, high, low, close\n",
    "\n",
    "# Find inversr head and shoulders\n",
    "ohlc = find_inverse_head_and_shoulders(ohlc)\n",
    "\n",
    "# Plot the results \n",
    "display_chart_pattern(ohlc, pattern=\"ihs\") # If multiple patterns were found, then plots will saved inside a folder named images/ihs  "
   ],
   "metadata": {
    "collapsed": false,
    "ExecuteTime": {
     "end_time": "2024-04-19T16:27:52.619326Z",
     "start_time": "2024-04-19T16:25:35.480430Z"
    }
   },
   "id": "8e1aabad186c87d4",
   "execution_count": 5
  }
 ],
 "metadata": {
  "kernelspec": {
   "display_name": "Python 3",
   "language": "python",
   "name": "python3"
  },
  "language_info": {
   "codemirror_mode": {
    "name": "ipython",
    "version": 2
   },
   "file_extension": ".py",
   "mimetype": "text/x-python",
   "name": "python",
   "nbconvert_exporter": "python",
   "pygments_lexer": "ipython2",
   "version": "2.7.6"
  }
 },
 "nbformat": 4,
 "nbformat_minor": 5
}
