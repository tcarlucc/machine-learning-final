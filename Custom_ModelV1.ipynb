{
 "cells": [
  {
   "cell_type": "code",
   "execution_count": 1,
   "id": "initial_id",
   "metadata": {
    "collapsed": true,
    "ExecuteTime": {
     "end_time": "2024-04-30T20:35:14.376709Z",
     "start_time": "2024-04-30T20:35:10.561368Z"
    }
   },
   "outputs": [],
   "source": [
    "import os\n",
    "import gc\n",
    "\n",
    "import numpy as np\n",
    "import pandas as pd\n",
    "import matplotlib.pyplot as plt\n",
    "\n",
    "from skimage.io import imread\n",
    "from skimage.transform import resize\n",
    "\n",
    "from sklearn.model_selection import train_test_split\n",
    "\n",
    "# TensorFlow and tf.keras\n",
    "import tensorflow as tf\n",
    "from tensorflow import keras\n",
    "from tensorflow.keras import layers, models\n",
    "\n",
    "from tensorflow.keras.utils import to_categorical\n",
    "from tensorflow.keras.datasets import cifar10\n",
    "from tensorflow.keras.models import Sequential\n",
    "from tensorflow.keras.layers import Dense, Flatten\n",
    "from tensorflow.keras import optimizers"
   ]
  },
  {
   "cell_type": "code",
   "outputs": [],
   "source": [
    "IMG_SIZE = 224\n",
    "BATCH_SIZE = 32\n",
    "EPOCHS = 10"
   ],
   "metadata": {
    "collapsed": false,
    "ExecuteTime": {
     "end_time": "2024-04-30T20:35:14.381717Z",
     "start_time": "2024-04-30T20:35:14.378212Z"
    }
   },
   "id": "f5760e1c880447cb",
   "execution_count": 2
  },
  {
   "cell_type": "code",
   "outputs": [],
   "source": [
    "# Paths: For local machine\n",
    "# data_dir = 'C:/Users/Nick/Desktop/stock images/train'\n",
    "# categories = ['chan_down', 'chan_up', 'doub_bot', 'doub_top', 'hs', 'tri', 'wed_down', 'wed_up']\n",
    "\n",
    "# Paths: For local machine\n",
    "train_dir = 'C:/Users/Nick/Desktop/stock images/train'\n",
    "validation_dir = 'C:/Users/Nick/Desktop/stock images/validation'\n",
    "\n",
    "\n",
    "# train_dir = 'C:/Users/Nick/Documents/SchoolStuff/spring2024/machineLearning/final_project/tradingpatterns/stock_patterns/train'\n",
    "# validation_dir = 'C:/Users/Nick/Documents/SchoolStuff/spring2024/machineLearning/final_project/tradingpatterns/stock_patterns/validation'"
   ],
   "metadata": {
    "collapsed": false,
    "ExecuteTime": {
     "end_time": "2024-04-30T20:35:14.387726Z",
     "start_time": "2024-04-30T20:35:14.382718Z"
    }
   },
   "id": "f447af3ecb20e1d1",
   "execution_count": 3
  },
  {
   "cell_type": "code",
   "outputs": [],
   "source": [
    "# def mapto1hot(ytrain, yval, ytest):\n",
    "#     # One hot encoding for the number of categories we will be looking at.,\n",
    "#     ytrain_1hot = keras.utils.to_categorical(ytrain, num_classes = len(categories))\n",
    "#     yval_1hot = keras.utils.to_categorical(yval, num_classes = len(categories))\n",
    "#     ytest_1hot = keras.utils.to_categorical(ytest, num_classes = len(categories))\n",
    "#     \n",
    "#     return ytrain_1hot, yval_1hot, ytest_1hot"
   ],
   "metadata": {
    "collapsed": false,
    "ExecuteTime": {
     "end_time": "2024-04-30T20:35:14.393234Z",
     "start_time": "2024-04-30T20:35:14.388727Z"
    }
   },
   "id": "5d9ee2bf23feb44c",
   "execution_count": 4
  },
  {
   "cell_type": "code",
   "outputs": [],
   "source": [
    "# def convert_images(data: list, labels: list):\n",
    "#     for category_idx, category in enumerate(categories):\n",
    "#         count = 0\n",
    "#         \n",
    "#         for file in os.listdir(data_dir + '/' + category):\n",
    "#             image = imread(data_dir + '/' + category + '/' + file)\n",
    "#             image = resize(image, (IMG_SHAPE, IMG_SHAPE))\n",
    "#             data.append(image)\n",
    "#             labels.append(category_idx)\n",
    "#             count += 1\n",
    "#             if count > 4000:\n",
    "#                 break\n",
    "#             \n",
    "#     return data, labels"
   ],
   "metadata": {
    "collapsed": false,
    "ExecuteTime": {
     "end_time": "2024-04-30T20:35:14.399243Z",
     "start_time": "2024-04-30T20:35:14.394737Z"
    }
   },
   "id": "7c47427257959d17",
   "execution_count": 5
  },
  {
   "cell_type": "code",
   "outputs": [],
   "source": [
    "def show_history(history):    \n",
    "    acc = history.history['accuracy']\n",
    "    val_acc = history.history['val_accuracy']\n",
    "    \n",
    "    loss = history.history['loss']\n",
    "    val_loss = history.history['val_loss']\n",
    "    \n",
    "    plt.figure(figsize=(8, 8))\n",
    "    plt.subplot(2, 1, 1)\n",
    "    plt.plot(acc, label='Training Accuracy')\n",
    "    plt.plot(val_acc, label='Validation Accuracy')\n",
    "    plt.legend(loc='upper right')\n",
    "    plt.ylabel('Accuracy')\n",
    "    plt.ylim([0,0.3])\n",
    "    plt.title('Training and Validation Accuracy')\n",
    "    \n",
    "    plt.subplot(2, 1, 2)\n",
    "    plt.plot(loss, label='Training Loss')\n",
    "    plt.plot(val_loss, label='Validation Loss')\n",
    "    plt.legend(loc='upper right')\n",
    "    plt.ylabel('Cross Entropy')\n",
    "    plt.title('Training and Validation Loss')\n",
    "    plt.xlabel('epoch')\n",
    "    plt.show()"
   ],
   "metadata": {
    "collapsed": false,
    "ExecuteTime": {
     "end_time": "2024-04-30T20:35:14.405753Z",
     "start_time": "2024-04-30T20:35:14.399744Z"
    }
   },
   "id": "5365e6096c2a46f4",
   "execution_count": 6
  },
  {
   "cell_type": "code",
   "outputs": [],
   "source": [
    "# data = []\n",
    "# labels = []"
   ],
   "metadata": {
    "collapsed": false,
    "ExecuteTime": {
     "end_time": "2024-04-30T20:35:14.410761Z",
     "start_time": "2024-04-30T20:35:14.406755Z"
    }
   },
   "id": "768fe69cca558dee",
   "execution_count": 7
  },
  {
   "cell_type": "code",
   "outputs": [],
   "source": [
    "# data, labels = convert_images(data, labels)\n",
    "# data1 = np.asarray(data)\n",
    "# labels1 = np.asarray(labels)\n",
    "# # Split data into train and test sets using 42 to make reproducable results\n",
    "# xtrain, xtest, ytrain, ytest = train_test_split(data1, labels1, test_size=0.2, random_state=42, shuffle=True, stratify=labels1)\n",
    "\n",
    "# # Normalize the data by dividing 1 by 255 (rgb value),\n",
    "# xtrain = xtrain/255\n",
    "# xtest = xtest/255\n",
    "# \n",
    "# # Create validation set\n",
    "# xtrain, xval, ytrain, yval = train_test_split(xtrain, ytrain, test_size=0.2)\n",
    "# \n",
    "# # One Hot Encoding\n",
    "# ytrain_1hot, yval_1hot, ytest_1hot = mapto1hot(ytrain, yval, ytest)"
   ],
   "metadata": {
    "collapsed": false,
    "ExecuteTime": {
     "end_time": "2024-04-30T20:35:14.418773Z",
     "start_time": "2024-04-30T20:35:14.411262Z"
    }
   },
   "id": "6949df368437c67e",
   "execution_count": 8
  },
  {
   "cell_type": "code",
   "outputs": [
    {
     "name": "stdout",
     "output_type": "stream",
     "text": [
      "Found 67613 files belonging to 8 classes.\n",
      "Found 19833 files belonging to 8 classes.\n"
     ]
    }
   ],
   "source": [
    "# Create training and validation dataset\n",
    "train_ds  = tf.keras.utils.image_dataset_from_directory(train_dir,\n",
    "                                                            shuffle=True,\n",
    "                                                            batch_size=BATCH_SIZE,\n",
    "                                                            image_size=(IMG_SIZE, IMG_SIZE))\n",
    "\n",
    "val_ds  = tf.keras.utils.image_dataset_from_directory(validation_dir,\n",
    "                                                                 shuffle=True,\n",
    "                                                                 batch_size=BATCH_SIZE,\n",
    "                                                                 image_size=(IMG_SIZE, IMG_SIZE))\n",
    "class_names = train_ds.class_names"
   ],
   "metadata": {
    "collapsed": false,
    "ExecuteTime": {
     "end_time": "2024-04-30T20:35:44.297010Z",
     "start_time": "2024-04-30T20:35:38.834148Z"
    }
   },
   "id": "66f71dfad344143e",
   "execution_count": 18
  },
  {
   "cell_type": "code",
   "outputs": [],
   "source": [
    "# Test fucntion to see how the images work with this pixal count\n",
    "# plt.figure(figsize=(10, 10))\n",
    "# for images, labels in train_ds.take(1):\n",
    "#   for i in range(9):\n",
    "#     ax = plt.subplot(3, 3, i + 1)\n",
    "#     plt.imshow(images[i].numpy().astype(\"uint8\"))\n",
    "#     plt.title(class_names[labels[i]])\n",
    "#     plt.axis(\"off\")"
   ],
   "metadata": {
    "collapsed": false
   },
   "id": "2907c1ba22e376df",
   "execution_count": null
  },
  {
   "cell_type": "code",
   "outputs": [
    {
     "name": "stdout",
     "output_type": "stream",
     "text": [
      "(32, 224, 224, 3)\n",
      "(32,)\n"
     ]
    }
   ],
   "source": [
    "# Create a test set\n",
    "for image_batch, labels_batch in train_ds:\n",
    "  print(image_batch.shape)\n",
    "  print(labels_batch.shape)\n",
    "  break"
   ],
   "metadata": {
    "collapsed": false,
    "ExecuteTime": {
     "end_time": "2024-04-30T20:35:51.427425Z",
     "start_time": "2024-04-30T20:35:51.385361Z"
    }
   },
   "id": "300645bc85727399",
   "execution_count": 20
  },
  {
   "cell_type": "code",
   "outputs": [],
   "source": [
    "# Create a test set\n",
    "val_batches = tf.data.experimental.cardinality(val_ds)\n",
    "test_dataset = val_ds.take(val_batches // 5)\n",
    "validation_dataset = val_ds.skip(val_batches // 5)"
   ],
   "metadata": {
    "collapsed": false,
    "ExecuteTime": {
     "end_time": "2024-04-30T20:35:54.157104Z",
     "start_time": "2024-04-30T20:35:54.148591Z"
    }
   },
   "id": "18653a332a5fe69e",
   "execution_count": 21
  },
  {
   "cell_type": "code",
   "outputs": [],
   "source": [
    "num_classes = len(class_names)\n",
    "model = keras.Sequential([\n",
    "    keras.layers.Rescaling(1./255, input_shape=(IMG_SIZE, IMG_SIZE, 3)),\n",
    "    keras.layers.Conv2D(16, 3, padding='same', activation='relu'),\n",
    "    keras.layers.MaxPooling2D(),\n",
    "    keras.layers.Conv2D(32, 3, padding='same', activation='relu'),\n",
    "    keras.layers.MaxPooling2D(),\n",
    "    keras.layers.Conv2D(64, 3, padding='same', activation='relu'),\n",
    "    keras.layers.MaxPooling2D(),\n",
    "    keras.layers.Flatten(),\n",
    "    keras.layers.Dense(128, activation='relu'),\n",
    "    keras.layers.Dense(num_classes,  activation='softmax')\n",
    "])"
   ],
   "metadata": {
    "collapsed": false,
    "ExecuteTime": {
     "end_time": "2024-04-30T21:09:51.635031Z",
     "start_time": "2024-04-30T21:09:51.590963Z"
    }
   },
   "id": "56b87d6f3da9d466",
   "execution_count": 44
  },
  {
   "cell_type": "code",
   "outputs": [],
   "source": [
    "model.compile(optimizer=tf.keras.optimizers.Adam(learning_rate=0.001),\n",
    "              loss=tf.keras.losses.SparseCategoricalCrossentropy(from_logits=False),\n",
    "              metrics=['accuracy'])"
   ],
   "metadata": {
    "collapsed": false,
    "ExecuteTime": {
     "end_time": "2024-04-30T21:09:54.190443Z",
     "start_time": "2024-04-30T21:09:54.184433Z"
    }
   },
   "id": "7ef2694bc28be398",
   "execution_count": 45
  },
  {
   "cell_type": "code",
   "outputs": [
    {
     "name": "stdout",
     "output_type": "stream",
     "text": [
      "Epoch 1/10\n",
      "\u001B[1m10/10\u001B[0m \u001B[32m━━━━━━━━━━━━━━━━━━━━\u001B[0m\u001B[37m\u001B[0m \u001B[1m3s\u001B[0m 232ms/step - accuracy: 0.1301 - loss: 4.8414 - val_accuracy: 0.1031 - val_loss: 2.0974\n",
      "Epoch 2/10\n",
      "\u001B[1m10/10\u001B[0m \u001B[32m━━━━━━━━━━━━━━━━━━━━\u001B[0m\u001B[37m\u001B[0m \u001B[1m2s\u001B[0m 226ms/step - accuracy: 0.0798 - loss: 2.1043 - val_accuracy: 0.1781 - val_loss: 2.0643\n",
      "Epoch 3/10\n",
      "\u001B[1m10/10\u001B[0m \u001B[32m━━━━━━━━━━━━━━━━━━━━\u001B[0m\u001B[37m\u001B[0m \u001B[1m2s\u001B[0m 223ms/step - accuracy: 0.1071 - loss: 2.0836 - val_accuracy: 0.2094 - val_loss: 2.0755\n",
      "Epoch 4/10\n",
      "\u001B[1m10/10\u001B[0m \u001B[32m━━━━━━━━━━━━━━━━━━━━\u001B[0m\u001B[37m\u001B[0m \u001B[1m2s\u001B[0m 217ms/step - accuracy: 0.1533 - loss: 2.0782 - val_accuracy: 0.1969 - val_loss: 2.0748\n",
      "Epoch 5/10\n",
      "\u001B[1m10/10\u001B[0m \u001B[32m━━━━━━━━━━━━━━━━━━━━\u001B[0m\u001B[37m\u001B[0m \u001B[1m2s\u001B[0m 223ms/step - accuracy: 0.1994 - loss: 2.0739 - val_accuracy: 0.2031 - val_loss: 2.0390\n",
      "Epoch 6/10\n",
      "\u001B[1m10/10\u001B[0m \u001B[32m━━━━━━━━━━━━━━━━━━━━\u001B[0m\u001B[37m\u001B[0m \u001B[1m2s\u001B[0m 217ms/step - accuracy: 0.1701 - loss: 2.0704 - val_accuracy: 0.2094 - val_loss: 2.0527\n",
      "Epoch 7/10\n",
      "\u001B[1m10/10\u001B[0m \u001B[32m━━━━━━━━━━━━━━━━━━━━\u001B[0m\u001B[37m\u001B[0m \u001B[1m2s\u001B[0m 218ms/step - accuracy: 0.1596 - loss: 2.0707 - val_accuracy: 0.2062 - val_loss: 2.0558\n",
      "Epoch 8/10\n",
      "\u001B[1m10/10\u001B[0m \u001B[32m━━━━━━━━━━━━━━━━━━━━\u001B[0m\u001B[37m\u001B[0m \u001B[1m2s\u001B[0m 220ms/step - accuracy: 0.1334 - loss: 2.0759 - val_accuracy: 0.1906 - val_loss: 2.0666\n",
      "Epoch 9/10\n",
      "\u001B[1m10/10\u001B[0m \u001B[32m━━━━━━━━━━━━━━━━━━━━\u001B[0m\u001B[37m\u001B[0m \u001B[1m2s\u001B[0m 221ms/step - accuracy: 0.1312 - loss: 2.0804 - val_accuracy: 0.1562 - val_loss: 2.0744\n",
      "Epoch 10/10\n",
      "\u001B[1m10/10\u001B[0m \u001B[32m━━━━━━━━━━━━━━━━━━━━\u001B[0m\u001B[37m\u001B[0m \u001B[1m2s\u001B[0m 233ms/step - accuracy: 0.1931 - loss: 2.0705 - val_accuracy: 0.1906 - val_loss: 2.0694\n"
     ]
    }
   ],
   "source": [
    "epochs = 10\n",
    "history = model.fit(train_ds,\n",
    "                    validation_data=val_ds,\n",
    "                    steps_per_epoch=10,\n",
    "                    epochs=epochs,\n",
    "                    validation_steps=10)"
   ],
   "metadata": {
    "collapsed": false,
    "ExecuteTime": {
     "end_time": "2024-04-30T21:10:22.370580Z",
     "start_time": "2024-04-30T21:09:59.454501Z"
    }
   },
   "id": "d83c198b5565fd1a",
   "execution_count": 46
  },
  {
   "cell_type": "code",
   "outputs": [
    {
     "data": {
      "text/plain": "<Figure size 800x800 with 2 Axes>",
      "image/png": "[encoded data removed]"
     },
     "metadata": {},
     "output_type": "display_data"
    }
   ],
   "source": [
    "show_history(history)"
   ],
   "metadata": {
    "collapsed": false,
    "ExecuteTime": {
     "end_time": "2024-04-30T21:10:28.095343Z",
     "start_time": "2024-04-30T21:10:27.881015Z"
    }
   },
   "id": "73ba39135fdcbb37",
   "execution_count": 47
  },
  {
   "cell_type": "code",
   "outputs": [
    {
     "data": {
      "text/plain": "27730"
     },
     "execution_count": 37,
     "metadata": {},
     "output_type": "execute_result"
    }
   ],
   "source": [
    "gc.collect()"
   ],
   "metadata": {
    "collapsed": false,
    "ExecuteTime": {
     "end_time": "2024-04-30T20:34:25.847421Z",
     "start_time": "2024-04-30T20:34:25.684172Z"
    }
   },
   "id": "6a01dd994d06c780",
   "execution_count": 37
  }
 ],
 "metadata": {
  "kernelspec": {
   "display_name": "Python 3",
   "language": "python",
   "name": "python3"
  },
  "language_info": {
   "codemirror_mode": {
    "name": "ipython",
    "version": 2
   },
   "file_extension": ".py",
   "mimetype": "text/x-python",
   "name": "python",
   "nbconvert_exporter": "python",
   "pygments_lexer": "ipython2",
   "version": "2.7.6"
  }
 },
 "nbformat": 4,
 "nbformat_minor": 5
}
