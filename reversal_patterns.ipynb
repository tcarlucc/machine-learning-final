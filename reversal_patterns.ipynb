{
 "cells": [
  {
   "cell_type": "code",
   "execution_count": 14,
   "id": "initial_id",
   "metadata": {
    "collapsed": true,
    "ExecuteTime": {
     "end_time": "2024-04-18T01:09:04.604751Z",
     "start_time": "2024-04-18T01:09:04.600745Z"
    }
   },
   "outputs": [],
   "source": [
    "# Importing libraries\n",
    "import os\n",
    "import warnings\n",
    "warnings.filterwarnings('ignore')\n",
    "\n",
    "from datetime import datetime, timedelta\n",
    "import math\n",
    "import numpy as np \n",
    "import pandas as pd\n",
    "import matplotlib.pyplot as plt\n",
    "import mplfinance as mpf\n",
    "import scipy\n",
    "import yfinance as yf\n",
    "\n",
    "from neurotrader.download_data import download_df\n",
    "from neurotrader.directional_change import directional_change\n",
    "from neurotrader.perceptually_important import find_pips\n",
    "from neurotrader.head_shoulders import find_hs_patterns, get_pattern_return, HSPattern# plot_hs"
   ]
  },
  {
   "cell_type": "markdown",
   "source": [
    "# Reversal Pattern Detection Algorithm\n",
    "- Look at the 1 day intervals for now\n",
    "- Want to look at min by min at some point\n",
    "- Goal: If a pattern is detected, how much wieght should we give the buying/selling power of that pattern\n",
    "- AKA HOW ACCURATE THAT PATTERN IS FOR a certain stock (Profit factor)\n",
    "- See which patterns are most common\n",
    "- Look for a way to add an \"Early Detection\" of a pattern\n",
    "\n",
    "## TODO:\n",
    "- Run each program to see output, see how to generate data we can add to neural network\n",
    "- \n",
    "\n",
    "## How to apply to a neural network\n",
    "- For a stock, determine what error threshold to use by calculating the profit factor on known data\n",
    "-   HAVE TO OPTIMIZE HIS CODE FOR THIS APPROACH\n",
    "- Determine most common pattern\n",
    "- Determine most profitable pattern\n",
    "- Determine most accurate pattern\n",
    "- Find a way to detect patterns before the occure (test to see if market finishes the pattern)\n",
    "- Mess with different exit methods. Those are the hyperparameters\n",
    "- Run this on different stock\n",
    "\n",
    "### Idea:\n",
    "Train a NN to detect different patterns, testing different exit strategies on each pattern. Have it assign a buy/sell confidence value to these patterns. Then test this on unseen new data. Try to impliment flag detection here too\n",
    "\n",
    "We can further test this by training the network on each stock individually, trying to make predictions off of early identification"
   ],
   "metadata": {
    "collapsed": false
   },
   "id": "46e8416a5544a711"
  },
  {
   "cell_type": "markdown",
   "source": [
    "# Testing Different Algorithms for finding local extrema\n",
    "- Rolling Window\n",
    "- Directional Change\n",
    "- Perceptually Important Points"
   ],
   "metadata": {
    "collapsed": false
   },
   "id": "1a21b1409dc3689"
  },
  {
   "cell_type": "code",
   "outputs": [
    {
     "name": "stderr",
     "output_type": "stream",
     "text": [
      "[*********************100%%**********************]  1 of 1 completed\n"
     ]
    },
    {
     "data": {
      "text/plain": "                 open       high        low   close  adj_close    volume  \\\nDate                                                                       \n2019-04-18  50.779999  51.037498  50.630001  50.965  49.063946  96783200   \n\n            adj_high    adj_low  \nDate                             \n2019-04-18  49.13374  48.741443  ",
      "text/html": "<div>\n<style scoped>\n    .dataframe tbody tr th:only-of-type {\n        vertical-align: middle;\n    }\n\n    .dataframe tbody tr th {\n        vertical-align: top;\n    }\n\n    .dataframe thead th {\n        text-align: right;\n    }\n</style>\n<table border=\"1\" class=\"dataframe\">\n  <thead>\n    <tr style=\"text-align: right;\">\n      <th></th>\n      <th>open</th>\n      <th>high</th>\n      <th>low</th>\n      <th>close</th>\n      <th>adj_close</th>\n      <th>volume</th>\n      <th>adj_high</th>\n      <th>adj_low</th>\n    </tr>\n    <tr>\n      <th>Date</th>\n      <th></th>\n      <th></th>\n      <th></th>\n      <th></th>\n      <th></th>\n      <th></th>\n      <th></th>\n      <th></th>\n    </tr>\n  </thead>\n  <tbody>\n    <tr>\n      <th>2019-04-18</th>\n      <td>50.779999</td>\n      <td>51.037498</td>\n      <td>50.630001</td>\n      <td>50.965</td>\n      <td>49.063946</td>\n      <td>96783200</td>\n      <td>49.13374</td>\n      <td>48.741443</td>\n    </tr>\n  </tbody>\n</table>\n</div>"
     },
     "execution_count": 34,
     "metadata": {},
     "output_type": "execute_result"
    }
   ],
   "source": [
    "# Trendline parameter\n",
    "lookback = 30\n",
    "data = download_df('AAPL', '5y')\n",
    "data.head(1)"
   ],
   "metadata": {
    "collapsed": false,
    "ExecuteTime": {
     "end_time": "2024-04-18T00:25:25.429004Z",
     "start_time": "2024-04-18T00:25:24.840603Z"
    }
   },
   "id": "8f3a318c80968f13",
   "execution_count": 34
  },
  {
   "cell_type": "code",
   "execution_count": 18,
   "outputs": [
    {
     "name": "stdout",
     "output_type": "stream",
     "text": [
      "[  2  12  18  31  41  50  63  71  90 108 118]\n",
      "[ 7 14 19 23 29 38 47 57 69 77 87]\n"
     ]
    }
   ],
   "source": [
    "# ROLLING WINDOW ALGORITHM\n",
    "# Use Scipy to get local extrema. BE CAREFUL NOT TO CHEAT WITH FUTURE DATA\n",
    "# Use close data because it is more stable than adj high and adj low\n",
    "arr = data['close'].to_numpy()\n",
    "bottoms = scipy.signal.argrelextrema(arr, np.less, order=3)\n",
    "tops = scipy.signal.argrelextrema(arr, np.greater, order=3)\n",
    "print(bottoms[0][0:11])\n",
    "print(tops[0][0:11])"
   ],
   "metadata": {
    "collapsed": false,
    "ExecuteTime": {
     "end_time": "2024-04-10T15:26:03.038839800Z",
     "start_time": "2024-04-10T15:26:03.002043800Z"
    }
   },
   "id": "88708ec73b95c76b"
  },
  {
   "cell_type": "code",
   "execution_count": 25,
   "outputs": [
    {
     "name": "stdout",
     "output_type": "stream",
     "text": [
      "[0, 53, 57, 102, 118, 129, 139, 156, 198, 252]\n",
      "[162.02999877929688, 185.27000427246094, 193.97000122070312, 189.6999969482422, 170.42999267578125, 180.7100067138672, 166.88999938964844, 191.4499969482422, 195.17999267578125, 167.62649536132812]\n"
     ]
    }
   ],
   "source": [
    "# Perceptually Important Points\n",
    "PIP = 10\n",
    "pips_x, pips_y = find_pips(arr, PIP, 1)\n",
    "print(pips_x)\n",
    "print(pips_y)"
   ],
   "metadata": {
    "collapsed": false,
    "ExecuteTime": {
     "end_time": "2024-04-10T15:31:30.163888700Z",
     "start_time": "2024-04-10T15:31:30.150238700Z"
    }
   },
   "id": "5fb19d8c5a5253f0"
  },
  {
   "cell_type": "markdown",
   "source": [
    "# Building an ML model to detect patterns in a rolling window.\n",
    "Abstract: We want to use mathematical equations to detect patterns in our stock data in our data. We will look at those patterns and tie a value to them. We will then use a rolling window technique to make calculations on unseen data???\n",
    "- Use a 72-hour trend rolling window\n",
    "- LOOK FOR FEATURES that could show a trend\n",
    "- The Head and Shoulders is not a common occurance. Look to suplement this data with other patterns?\n",
    "- A lot of papers and programs create a bunch of synthetic data to train models on"
   ],
   "metadata": {
    "collapsed": false
   },
   "id": "e40ec33b80bedb32"
  },
  {
   "cell_type": "code",
   "outputs": [
    {
     "name": "stderr",
     "output_type": "stream",
     "text": [
      "[*********************100%%**********************]  1 of 1 completed\n"
     ]
    },
    {
     "data": {
      "text/plain": "                 open       high        low      close  adj_close    volume  \\\nDate                                                                          \n2014-04-21  40.130001  40.150002  39.790001  39.939999  33.821396  22221200   \n\n             adj_high    adj_low  \nDate                              \n2014-04-21  33.999227  33.694377  ",
      "text/html": "<div>\n<style scoped>\n    .dataframe tbody tr th:only-of-type {\n        vertical-align: middle;\n    }\n\n    .dataframe tbody tr th {\n        vertical-align: top;\n    }\n\n    .dataframe thead th {\n        text-align: right;\n    }\n</style>\n<table border=\"1\" class=\"dataframe\">\n  <thead>\n    <tr style=\"text-align: right;\">\n      <th></th>\n      <th>open</th>\n      <th>high</th>\n      <th>low</th>\n      <th>close</th>\n      <th>adj_close</th>\n      <th>volume</th>\n      <th>adj_high</th>\n      <th>adj_low</th>\n    </tr>\n    <tr>\n      <th>Date</th>\n      <th></th>\n      <th></th>\n      <th></th>\n      <th></th>\n      <th></th>\n      <th></th>\n      <th></th>\n      <th></th>\n    </tr>\n  </thead>\n  <tbody>\n    <tr>\n      <th>2014-04-21</th>\n      <td>40.130001</td>\n      <td>40.150002</td>\n      <td>39.790001</td>\n      <td>39.939999</td>\n      <td>33.821396</td>\n      <td>22221200</td>\n      <td>33.999227</td>\n      <td>33.694377</td>\n    </tr>\n  </tbody>\n</table>\n</div>"
     },
     "execution_count": 31,
     "metadata": {},
     "output_type": "execute_result"
    }
   ],
   "source": [
    "data = download_df('MSFT', '10y')\n",
    "data.head(1)"
   ],
   "metadata": {
    "collapsed": false,
    "ExecuteTime": {
     "end_time": "2024-04-18T01:10:15.773678Z",
     "start_time": "2024-04-18T01:10:15.578880Z"
    }
   },
   "id": "10080ee5718b8357",
   "execution_count": 31
  },
  {
   "cell_type": "code",
   "execution_count": 32,
   "outputs": [],
   "source": [
    "# Detect HS in our dataset:\n",
    "# Convert our data to a logorithmic form and then only select the \"close\" column\n",
    "data_norm = np.log(data)\n",
    "dat_slice = data_norm['close'].to_numpy()"
   ],
   "metadata": {
    "collapsed": false,
    "ExecuteTime": {
     "end_time": "2024-04-18T01:10:17.362109Z",
     "start_time": "2024-04-18T01:10:17.358604Z"
    }
   },
   "id": "4ed849176d10fa00"
  },
  {
   "cell_type": "code",
   "outputs": [
    {
     "data": {
      "text/plain": "4"
     },
     "execution_count": 34,
     "metadata": {},
     "output_type": "execute_result"
    }
   ],
   "source": [
    "# Find HS Patterns:\n",
    "hs_patterns, ihs_patterns = find_hs_patterns(dat_slice, 6, early_find=False)\n",
    "len(hs_patterns)"
   ],
   "metadata": {
    "collapsed": false,
    "ExecuteTime": {
     "end_time": "2024-04-18T01:10:24.610703Z",
     "start_time": "2024-04-18T01:10:24.592675Z"
    }
   },
   "id": "474ecb4a5cb3eea4",
   "execution_count": 34
  },
  {
   "cell_type": "code",
   "outputs": [],
   "source": [
    "hs_df = pd.DataFrame()\n",
    "ihs_df = pd.DataFrame()"
   ],
   "metadata": {
    "collapsed": false,
    "ExecuteTime": {
     "end_time": "2024-04-18T01:10:25.021832Z",
     "start_time": "2024-04-18T01:10:25.018327Z"
    }
   },
   "id": "721d24d56885d0f6",
   "execution_count": 35
  },
  {
   "cell_type": "code",
   "outputs": [],
   "source": [
    "for i, hs in enumerate(hs_patterns):\n",
    "    hs_df.loc[i, 'head_width'] = hs.head_width\n",
    "    hs_df.loc[i, 'head_height'] = hs.head_height\n",
    "    hs_df.loc[i, 'r2'] = hs.pattern_r2\n",
    "    hs_df.loc[i, 'neck_slope'] = hs.neck_slope\n",
    "\n",
    "    hp = int(hs.head_width)\n",
    "    if hs.break_i + hp >= len(data):\n",
    "        hs_df.loc[i, 'hold_return'] = np.nan\n",
    "    else:\n",
    "        ret = -1 * (dat_slice[hs.break_i + hp] - dat_slice[hs.break_i])\n",
    "        hs_df.loc[i, 'hold_return'] = ret\n",
    "\n",
    "    hs_df.loc[i, 'stop_return'] = get_pattern_return(dat_slice, hs)\n",
    "for i, hs in enumerate(ihs_patterns):\n",
    "    ihs_df.loc[i, 'head_width'] = hs.head_width\n",
    "    ihs_df.loc[i, 'head_height'] = hs.head_height\n",
    "    ihs_df.loc[i, 'r2'] = hs.pattern_r2\n",
    "    ihs_df.loc[i, 'neck_slope'] = hs.neck_slope\n",
    "\n",
    "    hp = int(hs.head_width)\n",
    "    if hs.break_i + hp >= len(data):\n",
    "        ihs_df.loc[i, 'hold_return'] = np.nan\n",
    "    else:\n",
    "        ret = dat_slice[hs.break_i + hp] - dat_slice[hs.break_i]\n",
    "        ihs_df.loc[i, 'hold_return'] = ret\n",
    "\n",
    "    ihs_df.loc[i, 'stop_return'] = get_pattern_return(dat_slice, hs)"
   ],
   "metadata": {
    "collapsed": false,
    "ExecuteTime": {
     "end_time": "2024-04-18T01:10:25.481035Z",
     "start_time": "2024-04-18T01:10:25.465011Z"
    }
   },
   "id": "43b70d3cee2b26a9",
   "execution_count": 36
  },
  {
   "cell_type": "code",
   "outputs": [],
   "source": [
    "def plot_hs(candle_data: pd.DataFrame, pat: HSPattern, pad: int = 2):\n",
    "    if pad < 0:\n",
    "        pad = 0\n",
    "\n",
    "    idx = candle_data.index\n",
    "    data = candle_data.iloc[pat.start_i:pat.break_i + 1 + pad]\n",
    "\n",
    "    plt.style.use('dark_background')\n",
    "    fig = plt.gcf()\n",
    "    ax = fig.gca()\n",
    "\n",
    "    l0 = [(idx[pat.start_i], pat.neck_start), (idx[pat.l_shoulder], pat.l_shoulder_p)]\n",
    "    l1 = [(idx[pat.l_shoulder], pat.l_shoulder_p), (idx[pat.l_armpit], pat.l_armpit_p)]\n",
    "    l2 = [(idx[pat.l_armpit], pat.l_armpit_p), (idx[pat.head], pat.head_p)]\n",
    "    l3 = [(idx[pat.head], pat.head_p), (idx[pat.r_armpit], pat.r_armpit_p)]\n",
    "    l4 = [(idx[pat.r_armpit], pat.r_armpit_p), (idx[pat.r_shoulder], pat.r_shoulder_p)]\n",
    "    l5 = [(idx[pat.r_shoulder], pat.r_shoulder_p), (idx[pat.break_i], pat.neck_end)]\n",
    "    neck = [(idx[pat.start_i], pat.neck_start), (idx[pat.break_i], pat.neck_end)]\n",
    "\n",
    "    mpf.plot(data, alines=dict(alines=[l0, l1, l2, l3, l4, l5, neck], colors=['w', 'w', 'w', 'w', 'w', 'w', 'r']),\n",
    "             type='candle', style='charles', ax=ax)\n",
    "    x = len(data) // 2 - len(data) * 0.1\n",
    "    if pat.inverted:\n",
    "        y = pat.head_p + pat.head_height * 1.25\n",
    "    else:\n",
    "        y = pat.head_p - pat.head_height * 1.25\n",
    "\n",
    "    ax.text(x, y,\n",
    "            f\"BTC-USDT 1H ({idx[pat.start_i].strftime('%Y-%m-%d %H:%M')} - {idx[pat.break_i].strftime('%Y-%m-%d %H:%M')})\",\n",
    "            color='white', fontsize='xx-large')\n",
    "    plt.show()"
   ],
   "metadata": {
    "collapsed": false,
    "ExecuteTime": {
     "end_time": "2024-04-18T01:10:26.029875Z",
     "start_time": "2024-04-18T01:10:26.022864Z"
    }
   },
   "id": "951c0f21670ba13d",
   "execution_count": 37
  },
  {
   "cell_type": "code",
   "outputs": [
    {
     "data": {
      "text/plain": "<Figure size 640x480 with 1 Axes>",
      "image/png": "[encoded data removed]"
     },
     "metadata": {},
     "output_type": "display_data"
    }
   ],
   "source": [
    "plot_hs(data, hs_patterns[2], pad=0)"
   ],
   "metadata": {
    "collapsed": false,
    "ExecuteTime": {
     "end_time": "2024-04-18T01:10:46.081064Z",
     "start_time": "2024-04-18T01:10:45.973400Z"
    }
   },
   "id": "5fd3739bce90dc93",
   "execution_count": 45
  },
  {
   "cell_type": "code",
   "outputs": [
    {
     "data": {
      "text/plain": "Date\n2020-01-15    163.179993\n2020-01-16    166.169998\n2020-01-17    167.100006\n2020-01-21    166.500000\n2020-01-22    165.699997\n2020-01-23    166.720001\n2020-01-24    165.039993\n2020-01-27    162.279999\n2020-01-28    165.460007\n2020-01-29    168.039993\n2020-01-30    172.779999\n2020-01-31    170.229996\n2020-02-03    174.380005\n2020-02-04    180.119995\n2020-02-05    179.899994\n2020-02-06    183.630005\n2020-02-07    183.889999\n2020-02-10    188.699997\n2020-02-11    184.440002\n2020-02-12    184.710007\n2020-02-13    183.710007\n2020-02-14    185.350006\n2020-02-18    187.229996\n2020-02-19    187.279999\n2020-02-20    184.419998\n2020-02-21    178.589996\n2020-02-24    170.889999\n2020-02-25    168.070007\n2020-02-26    170.169998\n2020-02-27    158.179993\n2020-02-28    162.009995\n2020-03-02    172.789993\n2020-03-03    164.509995\n2020-03-04    170.550003\n2020-03-05    166.270004\n2020-03-06    161.570007\n2020-03-09    150.619995\nName: close, dtype: float64"
     },
     "execution_count": 52,
     "metadata": {},
     "output_type": "execute_result"
    }
   ],
   "source": [
    "data.loc['2020-01-15':'2020-03-09']['close']"
   ],
   "metadata": {
    "collapsed": false,
    "ExecuteTime": {
     "end_time": "2024-04-18T01:14:12.192025Z",
     "start_time": "2024-04-18T01:14:12.182510Z"
    }
   },
   "id": "c793af3cfa386fdb",
   "execution_count": 52
  },
  {
   "cell_type": "code",
   "outputs": [],
   "source": [],
   "metadata": {
    "collapsed": false
   },
   "id": "20482d62b5d9a6a6"
  }
 ],
 "metadata": {
  "kernelspec": {
   "display_name": "Python 3",
   "language": "python",
   "name": "python3"
  },
  "language_info": {
   "codemirror_mode": {
    "name": "ipython",
    "version": 2
   },
   "file_extension": ".py",
   "mimetype": "text/x-python",
   "name": "python",
   "nbconvert_exporter": "python",
   "pygments_lexer": "ipython2",
   "version": "2.7.6"
  }
 },
 "nbformat": 4,
 "nbformat_minor": 5
}
