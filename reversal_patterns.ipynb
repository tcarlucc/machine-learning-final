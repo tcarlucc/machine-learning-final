{
 "cells": [
  {
   "cell_type": "code",
   "execution_count": 1,
   "id": "initial_id",
   "metadata": {
    "collapsed": true,
    "ExecuteTime": {
     "end_time": "2024-04-10T15:07:01.173514900Z",
     "start_time": "2024-04-10T15:07:00.290854900Z"
    }
   },
   "outputs": [],
   "source": [
    "# Importing libraries\n",
    "import os\n",
    "import warnings\n",
    "warnings.filterwarnings('ignore')\n",
    "\n",
    "from datetime import datetime, timedelta\n",
    "import math\n",
    "import numpy as np \n",
    "import pandas as pd\n",
    "import matplotlib.pyplot as plt\n",
    "import scipy\n",
    "import yfinance as yf\n",
    "\n",
    "from neurotrader.download_data import download_df"
   ]
  },
  {
   "cell_type": "markdown",
   "source": [
    "# Reversal Pattern Detection Algorithm\n",
    "- Look at the 1 day intervals for now\n",
    "- Want to look at min by min at some point\n",
    " "
   ],
   "metadata": {
    "collapsed": false
   },
   "id": "46e8416a5544a711"
  },
  {
   "cell_type": "code",
   "execution_count": 2,
   "outputs": [
    {
     "name": "stdout",
     "output_type": "stream",
     "text": [
      "[*********************100%***********************]  1 of 1 completed\n"
     ]
    },
    {
     "data": {
      "text/plain": "                  open        high         low       close   adj_close  \\\nDate                                                                     \n2023-04-10  161.419998  162.029999  160.080002  162.029999  161.169724   \n2023-04-11  162.350006  162.360001  160.509995  160.800003  159.946259   \n2023-04-12  161.220001  162.059998  159.779999  160.100006  159.249969   \n2023-04-13  161.630005  165.800003  161.419998  165.559998  164.680969   \n2023-04-14  164.589996  166.320007  163.820007  165.210007  164.332840   \n\n              volume    adj_high     adj_low  \nDate                                          \n2023-04-10  47716900  161.169724  159.230080  \n2023-04-11  47644200  161.497974  159.657790  \n2023-04-12  50133100  161.199555  158.931661  \n2023-04-13  68445600  164.919700  160.562951  \n2023-04-14  49386500  165.436947  162.950221  ",
      "text/html": "<div>\n<style scoped>\n    .dataframe tbody tr th:only-of-type {\n        vertical-align: middle;\n    }\n\n    .dataframe tbody tr th {\n        vertical-align: top;\n    }\n\n    .dataframe thead th {\n        text-align: right;\n    }\n</style>\n<table border=\"1\" class=\"dataframe\">\n  <thead>\n    <tr style=\"text-align: right;\">\n      <th></th>\n      <th>open</th>\n      <th>high</th>\n      <th>low</th>\n      <th>close</th>\n      <th>adj_close</th>\n      <th>volume</th>\n      <th>adj_high</th>\n      <th>adj_low</th>\n    </tr>\n    <tr>\n      <th>Date</th>\n      <th></th>\n      <th></th>\n      <th></th>\n      <th></th>\n      <th></th>\n      <th></th>\n      <th></th>\n      <th></th>\n    </tr>\n  </thead>\n  <tbody>\n    <tr>\n      <th>2023-04-10</th>\n      <td>161.419998</td>\n      <td>162.029999</td>\n      <td>160.080002</td>\n      <td>162.029999</td>\n      <td>161.169724</td>\n      <td>47716900</td>\n      <td>161.169724</td>\n      <td>159.230080</td>\n    </tr>\n    <tr>\n      <th>2023-04-11</th>\n      <td>162.350006</td>\n      <td>162.360001</td>\n      <td>160.509995</td>\n      <td>160.800003</td>\n      <td>159.946259</td>\n      <td>47644200</td>\n      <td>161.497974</td>\n      <td>159.657790</td>\n    </tr>\n    <tr>\n      <th>2023-04-12</th>\n      <td>161.220001</td>\n      <td>162.059998</td>\n      <td>159.779999</td>\n      <td>160.100006</td>\n      <td>159.249969</td>\n      <td>50133100</td>\n      <td>161.199555</td>\n      <td>158.931661</td>\n    </tr>\n    <tr>\n      <th>2023-04-13</th>\n      <td>161.630005</td>\n      <td>165.800003</td>\n      <td>161.419998</td>\n      <td>165.559998</td>\n      <td>164.680969</td>\n      <td>68445600</td>\n      <td>164.919700</td>\n      <td>160.562951</td>\n    </tr>\n    <tr>\n      <th>2023-04-14</th>\n      <td>164.589996</td>\n      <td>166.320007</td>\n      <td>163.820007</td>\n      <td>165.210007</td>\n      <td>164.332840</td>\n      <td>49386500</td>\n      <td>165.436947</td>\n      <td>162.950221</td>\n    </tr>\n  </tbody>\n</table>\n</div>"
     },
     "execution_count": 2,
     "metadata": {},
     "output_type": "execute_result"
    }
   ],
   "source": [
    "# Trendline parameter\n",
    "lookback = 30\n",
    "\n",
    "data = download_df('AAPL', '1y')\n",
    "data.head()"
   ],
   "metadata": {
    "collapsed": false,
    "ExecuteTime": {
     "end_time": "2024-04-10T15:07:05.857395Z",
     "start_time": "2024-04-10T15:07:05.623648600Z"
    }
   },
   "id": "3d57b61d4335a53b"
  },
  {
   "cell_type": "code",
   "execution_count": 3,
   "outputs": [],
   "source": [
    "# ROLLING WINDOW ALGORITHM\n",
    "# Use Scipy to get local extrema. BE CAREFUL NOT TO CHEAT WITH FUTURE DATA\n",
    "# Use close data because it is more stable then adj high and adj low\n",
    "arr = data['close'].to_numpy()\n",
    "bottoms = scipy.signal.argrelextrema(arr, np.less, order=3)\n",
    "tops = scipy.signal.argrelextrema(arr, np.greater, order=3)"
   ],
   "metadata": {
    "collapsed": false,
    "ExecuteTime": {
     "end_time": "2024-04-10T15:07:21.377703Z",
     "start_time": "2024-04-10T15:07:20.897752200Z"
    }
   },
   "id": "88708ec73b95c76b"
  },
  {
   "cell_type": "code",
   "execution_count": null,
   "outputs": [],
   "source": [],
   "metadata": {
    "collapsed": false
   },
   "id": "95ad657e7dd34a04"
  }
 ],
 "metadata": {
  "kernelspec": {
   "display_name": "Python 3",
   "language": "python",
   "name": "python3"
  },
  "language_info": {
   "codemirror_mode": {
    "name": "ipython",
    "version": 2
   },
   "file_extension": ".py",
   "mimetype": "text/x-python",
   "name": "python",
   "nbconvert_exporter": "python",
   "pygments_lexer": "ipython2",
   "version": "2.7.6"
  }
 },
 "nbformat": 4,
 "nbformat_minor": 5
}
