{
 "cells": [
  {
   "cell_type": "code",
   "execution_count": 9,
   "id": "initial_id",
   "metadata": {
    "collapsed": true,
    "ExecuteTime": {
     "end_time": "2024-04-18T00:16:25.456055Z",
     "start_time": "2024-04-18T00:16:25.446540Z"
    }
   },
   "outputs": [],
   "source": [
    "# Importing libraries\n",
    "import os\n",
    "import warnings\n",
    "warnings.filterwarnings('ignore')\n",
    "\n",
    "from datetime import datetime, timedelta\n",
    "import math\n",
    "import numpy as np \n",
    "import pandas as pd\n",
    "import matplotlib.pyplot as plt\n",
    "import scipy\n",
    "import yfinance as yf\n",
    "\n",
    "from neurotrader.download_data import download_df\n",
    "from neurotrader.directional_change import directional_change\n",
    "from neurotrader.perceptually_important import find_pips\n",
    "from neurotrader.head_shoulders import find_hs_patterns, get_pattern_return, plot_hs"
   ]
  },
  {
   "cell_type": "markdown",
   "source": [
    "# Reversal Pattern Detection Algorithm\n",
    "- Look at the 1 day intervals for now\n",
    "- Want to look at min by min at some point\n",
    "- Goal: If a pattern is detected, how much wieght should we give the buying/selling power of that pattern\n",
    "- AKA HOW ACCURATE THAT PATTERN IS FOR a certain stock (Profit factor)\n",
    "- See which patterns are most common\n",
    "- Look for a way to add an \"Early Detection\" of a pattern\n",
    "\n",
    "## TODO:\n",
    "- Run each program to see output, see how to generate data we can add to neural network\n",
    "- \n",
    "\n",
    "## How to apply to a neural network\n",
    "- For a stock, determine what error threshold to use by calculating the profit factor on known data\n",
    "-   HAVE TO OPTIMIZE HIS CODE FOR THIS APPROACH\n",
    "- Determine most common pattern\n",
    "- Determine most profitable pattern\n",
    "- Determine most accurate pattern\n",
    "- Find a way to detect patterns before the occure (test to see if market finishes the pattern)\n",
    "- Mess with different exit methods. Those are the hyperparameters\n",
    "- Run this on different stock\n",
    "\n",
    "### Idea:\n",
    "Train a NN to detect different patterns, testing different exit strategies on each pattern. Have it assign a buy/sell confidence value to these patterns. Then test this on unseen new data. Try to impliment flag detection here too\n",
    "\n",
    "We can further test this by training the network on each stock individually, trying to make predictions off of early identification"
   ],
   "metadata": {
    "collapsed": false
   },
   "id": "46e8416a5544a711"
  },
  {
   "cell_type": "markdown",
   "source": [
    "# Testing Different Algorithms for finding local extrema\n",
    "- Rolling Window\n",
    "- Directional Change\n",
    "- Perceptually Important Points"
   ],
   "metadata": {
    "collapsed": false
   },
   "id": "1a21b1409dc3689"
  },
  {
   "cell_type": "code",
   "outputs": [
    {
     "name": "stderr",
     "output_type": "stream",
     "text": [
      "[*********************100%%**********************]  1 of 1 completed\n"
     ]
    },
    {
     "data": {
      "text/plain": "                 open       high        low   close  adj_close    volume  \\\nDate                                                                       \n2019-04-18  50.779999  51.037498  50.630001  50.965  49.063946  96783200   \n\n            adj_high    adj_low  \nDate                             \n2019-04-18  49.13374  48.741443  ",
      "text/html": "<div>\n<style scoped>\n    .dataframe tbody tr th:only-of-type {\n        vertical-align: middle;\n    }\n\n    .dataframe tbody tr th {\n        vertical-align: top;\n    }\n\n    .dataframe thead th {\n        text-align: right;\n    }\n</style>\n<table border=\"1\" class=\"dataframe\">\n  <thead>\n    <tr style=\"text-align: right;\">\n      <th></th>\n      <th>open</th>\n      <th>high</th>\n      <th>low</th>\n      <th>close</th>\n      <th>adj_close</th>\n      <th>volume</th>\n      <th>adj_high</th>\n      <th>adj_low</th>\n    </tr>\n    <tr>\n      <th>Date</th>\n      <th></th>\n      <th></th>\n      <th></th>\n      <th></th>\n      <th></th>\n      <th></th>\n      <th></th>\n      <th></th>\n    </tr>\n  </thead>\n  <tbody>\n    <tr>\n      <th>2019-04-18</th>\n      <td>50.779999</td>\n      <td>51.037498</td>\n      <td>50.630001</td>\n      <td>50.965</td>\n      <td>49.063946</td>\n      <td>96783200</td>\n      <td>49.13374</td>\n      <td>48.741443</td>\n    </tr>\n  </tbody>\n</table>\n</div>"
     },
     "execution_count": 34,
     "metadata": {},
     "output_type": "execute_result"
    }
   ],
   "source": [
    "# Trendline parameter\n",
    "lookback = 30\n",
    "data = download_df('AAPL', '5y')\n",
    "data.head(1)"
   ],
   "metadata": {
    "collapsed": false,
    "ExecuteTime": {
     "end_time": "2024-04-18T00:25:25.429004Z",
     "start_time": "2024-04-18T00:25:24.840603Z"
    }
   },
   "id": "8f3a318c80968f13",
   "execution_count": 34
  },
  {
   "cell_type": "code",
   "execution_count": 18,
   "outputs": [
    {
     "name": "stdout",
     "output_type": "stream",
     "text": [
      "[  2  12  18  31  41  50  63  71  90 108 118]\n",
      "[ 7 14 19 23 29 38 47 57 69 77 87]\n"
     ]
    }
   ],
   "source": [
    "# ROLLING WINDOW ALGORITHM\n",
    "# Use Scipy to get local extrema. BE CAREFUL NOT TO CHEAT WITH FUTURE DATA\n",
    "# Use close data because it is more stable than adj high and adj low\n",
    "arr = data['close'].to_numpy()\n",
    "bottoms = scipy.signal.argrelextrema(arr, np.less, order=3)\n",
    "tops = scipy.signal.argrelextrema(arr, np.greater, order=3)\n",
    "print(bottoms[0][0:11])\n",
    "print(tops[0][0:11])"
   ],
   "metadata": {
    "collapsed": false,
    "ExecuteTime": {
     "end_time": "2024-04-10T15:26:03.038839800Z",
     "start_time": "2024-04-10T15:26:03.002043800Z"
    }
   },
   "id": "88708ec73b95c76b"
  },
  {
   "cell_type": "code",
   "execution_count": 25,
   "outputs": [
    {
     "name": "stdout",
     "output_type": "stream",
     "text": [
      "[0, 53, 57, 102, 118, 129, 139, 156, 198, 252]\n",
      "[162.02999877929688, 185.27000427246094, 193.97000122070312, 189.6999969482422, 170.42999267578125, 180.7100067138672, 166.88999938964844, 191.4499969482422, 195.17999267578125, 167.62649536132812]\n"
     ]
    }
   ],
   "source": [
    "# Perceptually Important Points\n",
    "PIP = 10\n",
    "pips_x, pips_y = find_pips(arr, PIP, 1)\n",
    "print(pips_x)\n",
    "print(pips_y)"
   ],
   "metadata": {
    "collapsed": false,
    "ExecuteTime": {
     "end_time": "2024-04-10T15:31:30.163888700Z",
     "start_time": "2024-04-10T15:31:30.150238700Z"
    }
   },
   "id": "5fb19d8c5a5253f0"
  },
  {
   "cell_type": "markdown",
   "source": [
    "# Building an ML model to detect patterns in a rolling window.\n",
    "Abstract: We want to use mathematical equations to detect patterns in our stock data in our data. We will look at those patterns and tie a value to them. We will then use a rolling window technique to make calculations on unseen data???\n",
    "- Use a 72-hour trend rolling window\n",
    "- LOOK FOR FEATURES that could show a trend\n",
    "- The Head and Shoulders is not a common occurance. Look to suplement this data with other patterns?\n",
    "- A lot of papers and programs create a bunch of synthetic data to train models on"
   ],
   "metadata": {
    "collapsed": false
   },
   "id": "e40ec33b80bedb32"
  },
  {
   "cell_type": "code",
   "outputs": [
    {
     "name": "stderr",
     "output_type": "stream",
     "text": [
      "[*********************100%%**********************]  1 of 1 completed\n"
     ]
    },
    {
     "data": {
      "text/plain": "                 open       high        low   close  adj_close    volume  \\\nDate                                                                       \n2019-04-18  50.779999  51.037498  50.630001  50.965  49.063946  96783200   \n\n            adj_high    adj_low  \nDate                             \n2019-04-18  49.13374  48.741443  ",
      "text/html": "<div>\n<style scoped>\n    .dataframe tbody tr th:only-of-type {\n        vertical-align: middle;\n    }\n\n    .dataframe tbody tr th {\n        vertical-align: top;\n    }\n\n    .dataframe thead th {\n        text-align: right;\n    }\n</style>\n<table border=\"1\" class=\"dataframe\">\n  <thead>\n    <tr style=\"text-align: right;\">\n      <th></th>\n      <th>open</th>\n      <th>high</th>\n      <th>low</th>\n      <th>close</th>\n      <th>adj_close</th>\n      <th>volume</th>\n      <th>adj_high</th>\n      <th>adj_low</th>\n    </tr>\n    <tr>\n      <th>Date</th>\n      <th></th>\n      <th></th>\n      <th></th>\n      <th></th>\n      <th></th>\n      <th></th>\n      <th></th>\n      <th></th>\n    </tr>\n  </thead>\n  <tbody>\n    <tr>\n      <th>2019-04-18</th>\n      <td>50.779999</td>\n      <td>51.037498</td>\n      <td>50.630001</td>\n      <td>50.965</td>\n      <td>49.063946</td>\n      <td>96783200</td>\n      <td>49.13374</td>\n      <td>48.741443</td>\n    </tr>\n  </tbody>\n</table>\n</div>"
     },
     "execution_count": 47,
     "metadata": {},
     "output_type": "execute_result"
    }
   ],
   "source": [
    "data = download_df('AAPL', '5y')\n",
    "data.head(1)"
   ],
   "metadata": {
    "collapsed": false,
    "ExecuteTime": {
     "end_time": "2024-04-18T00:35:11.027785Z",
     "start_time": "2024-04-18T00:35:10.458413Z"
    }
   },
   "id": "10080ee5718b8357",
   "execution_count": 47
  },
  {
   "cell_type": "code",
   "execution_count": 36,
   "outputs": [
    {
     "data": {
      "text/plain": "array([3.93113913, 3.9344203 , 3.94874057, 3.9471971 , 3.93808053])"
     },
     "execution_count": 36,
     "metadata": {},
     "output_type": "execute_result"
    }
   ],
   "source": [
    "# Detect HS in our dataset:\n",
    "# Convert our data to a logorithmic form\n",
    "data_norm = np.log(data)\n",
    "dat_slice = data_norm['close'].to_numpy()"
   ],
   "metadata": {
    "collapsed": false,
    "ExecuteTime": {
     "end_time": "2024-04-18T00:25:34.937056Z",
     "start_time": "2024-04-18T00:25:34.933050Z"
    }
   },
   "id": "4ed849176d10fa00"
  },
  {
   "cell_type": "code",
   "outputs": [],
   "source": [
    "hs_patterns, ihs_patterns = find_hs_patterns(dat_slice, 6, early_find=False)"
   ],
   "metadata": {
    "collapsed": false,
    "ExecuteTime": {
     "end_time": "2024-04-18T00:29:18.552308Z",
     "start_time": "2024-04-18T00:29:18.543294Z"
    }
   },
   "id": "474ecb4a5cb3eea4",
   "execution_count": 41
  },
  {
   "cell_type": "code",
   "outputs": [],
   "source": [
    "hs_df = pd.DataFrame()\n",
    "ihs_df = pd.DataFrame()"
   ],
   "metadata": {
    "collapsed": false,
    "ExecuteTime": {
     "end_time": "2024-04-18T00:29:19.705072Z",
     "start_time": "2024-04-18T00:29:19.702068Z"
    }
   },
   "id": "721d24d56885d0f6",
   "execution_count": 42
  },
  {
   "cell_type": "code",
   "outputs": [
    {
     "data": {
      "text/plain": "   head_width  head_height        r2  neck_slope  hold_return  stop_return\n0        12.0     0.059859  0.694522    0.001097    -0.015878     0.063572",
      "text/html": "<div>\n<style scoped>\n    .dataframe tbody tr th:only-of-type {\n        vertical-align: middle;\n    }\n\n    .dataframe tbody tr th {\n        vertical-align: top;\n    }\n\n    .dataframe thead th {\n        text-align: right;\n    }\n</style>\n<table border=\"1\" class=\"dataframe\">\n  <thead>\n    <tr style=\"text-align: right;\">\n      <th></th>\n      <th>head_width</th>\n      <th>head_height</th>\n      <th>r2</th>\n      <th>neck_slope</th>\n      <th>hold_return</th>\n      <th>stop_return</th>\n    </tr>\n  </thead>\n  <tbody>\n    <tr>\n      <th>0</th>\n      <td>12.0</td>\n      <td>0.059859</td>\n      <td>0.694522</td>\n      <td>0.001097</td>\n      <td>-0.015878</td>\n      <td>0.063572</td>\n    </tr>\n  </tbody>\n</table>\n</div>"
     },
     "execution_count": 43,
     "metadata": {},
     "output_type": "execute_result"
    }
   ],
   "source": [
    "for i, hs in enumerate(hs_patterns):\n",
    "    hs_df.loc[i, 'head_width'] = hs.head_width\n",
    "    hs_df.loc[i, 'head_height'] = hs.head_height\n",
    "    hs_df.loc[i, 'r2'] = hs.pattern_r2\n",
    "    hs_df.loc[i, 'neck_slope'] = hs.neck_slope\n",
    "\n",
    "    hp = int(hs.head_width)\n",
    "    if hs.break_i + hp >= len(data):\n",
    "        hs_df.loc[i, 'hold_return'] = np.nan\n",
    "    else:\n",
    "        ret = -1 * (dat_slice[hs.break_i + hp] - dat_slice[hs.break_i])\n",
    "        hs_df.loc[i, 'hold_return'] = ret\n",
    "\n",
    "    hs_df.loc[i, 'stop_return'] = get_pattern_return(dat_slice, hs)\n",
    "hs_df"
   ],
   "metadata": {
    "collapsed": false,
    "ExecuteTime": {
     "end_time": "2024-04-18T00:29:27.138950Z",
     "start_time": "2024-04-18T00:29:27.127933Z"
    }
   },
   "id": "43b70d3cee2b26a9",
   "execution_count": 43
  },
  {
   "cell_type": "code",
   "outputs": [],
   "source": [
    "for i, hs in enumerate(ihs_patterns):\n",
    "    ihs_df.loc[i, 'head_width'] = hs.head_width\n",
    "    ihs_df.loc[i, 'head_height'] = hs.head_height\n",
    "    ihs_df.loc[i, 'r2'] = hs.pattern_r2\n",
    "    ihs_df.loc[i, 'neck_slope'] = hs.neck_slope\n",
    "\n",
    "    hp = int(hs.head_width)\n",
    "    if hs.break_i + hp >= len(data):\n",
    "        ihs_df.loc[i, 'hold_return'] = np.nan\n",
    "    else:\n",
    "        ret = dat_slice[hs.break_i + hp] - dat_slice[hs.break_i]\n",
    "        ihs_df.loc[i, 'hold_return'] = ret\n",
    "\n",
    "    ihs_df.loc[i, 'stop_return'] = get_pattern_return(dat_slice, hs)"
   ],
   "metadata": {
    "collapsed": false,
    "ExecuteTime": {
     "end_time": "2024-04-18T00:34:51.680673Z",
     "start_time": "2024-04-18T00:34:51.675165Z"
    }
   },
   "id": "3f602b387dbf4171",
   "execution_count": 46
  },
  {
   "cell_type": "code",
   "outputs": [
    {
     "data": {
      "text/plain": "<Figure size 640x480 with 1 Axes>",
      "image/png": "[encoded data removed]"
     },
     "metadata": {},
     "output_type": "display_data"
    }
   ],
   "source": [
    "plot_hs(data, hs_patterns[0], pad=0)"
   ],
   "metadata": {
    "collapsed": false,
    "ExecuteTime": {
     "end_time": "2024-04-18T00:29:38.546910Z",
     "start_time": "2024-04-18T00:29:38.413707Z"
    }
   },
   "id": "5fd3739bce90dc93",
   "execution_count": 45
  },
  {
   "cell_type": "code",
   "outputs": [],
   "source": [],
   "metadata": {
    "collapsed": false
   },
   "id": "c793af3cfa386fdb"
  }
 ],
 "metadata": {
  "kernelspec": {
   "display_name": "Python 3",
   "language": "python",
   "name": "python3"
  },
  "language_info": {
   "codemirror_mode": {
    "name": "ipython",
    "version": 2
   },
   "file_extension": ".py",
   "mimetype": "text/x-python",
   "name": "python",
   "nbconvert_exporter": "python",
   "pygments_lexer": "ipython2",
   "version": "2.7.6"
  }
 },
 "nbformat": 4,
 "nbformat_minor": 5
}
