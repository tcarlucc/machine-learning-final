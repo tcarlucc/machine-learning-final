{
 "cells": [
  {
   "cell_type": "code",
   "execution_count": 2,
   "id": "initial_id",
   "metadata": {
    "collapsed": true,
    "ExecuteTime": {
     "end_time": "2024-04-10T14:37:59.913396100Z",
     "start_time": "2024-04-10T14:37:54.371800600Z"
    }
   },
   "outputs": [],
   "source": [
    "# Importing libraries\n",
    "import os\n",
    "import warnings\n",
    "warnings.filterwarnings('ignore')\n",
    "\n",
    "import numpy as np \n",
    "import pandas as pd\n",
    "import matplotlib.pyplot as plt\n",
    "plt.style.use('fivethirtyeight') \n",
    "\n",
    "import math\n",
    "\n",
    "from datetime import datetime, timedelta\n",
    "\n",
    "import yfinance as yf\n",
    "from sklearn.linear_model import LinearRegression\n",
    "\n",
    "from joblib import Memory\n",
    "\n",
    "import scipy"
   ]
  },
  {
   "cell_type": "markdown",
   "source": [
    "# Reversal Pattern Detection Algorithm\n",
    "- Look at the 1 day intervals for now\n",
    "- Want to look at min by min at some point\n",
    " "
   ],
   "metadata": {
    "collapsed": false
   },
   "id": "46e8416a5544a711"
  },
  {
   "cell_type": "code",
   "execution_count": 11,
   "outputs": [
    {
     "name": "stdout",
     "output_type": "stream",
     "text": [
      "[*********************100%***********************]  1 of 1 completed\n"
     ]
    },
    {
     "data": {
      "text/plain": "                open      high       low     close  adj_close     volume  \\\nDate                                                                       \n2023-04-10  5.084010  5.087781  5.075674  5.087781   5.082458  17.680796   \n2023-04-11  5.089755  5.089816  5.078356  5.080161   5.074838  17.679271   \n2023-04-12  5.082770  5.087967  5.073798  5.075799   5.070475  17.730192   \n2023-04-13  5.085310  5.110782  5.084010  5.109334   5.104010  18.041550   \n2023-04-14  5.103458  5.113914  5.098768  5.107217   5.101894  17.715188   \n\n            adj_high   adj_low  \nDate                            \n2023-04-10  5.082458  5.070350  \n2023-04-11  5.084493  5.073033  \n2023-04-12  5.082643  5.068474  \n2023-04-13  5.105459  5.078686  \n2023-04-14  5.108590  5.093445  ",
      "text/html": "<div>\n<style scoped>\n    .dataframe tbody tr th:only-of-type {\n        vertical-align: middle;\n    }\n\n    .dataframe tbody tr th {\n        vertical-align: top;\n    }\n\n    .dataframe thead th {\n        text-align: right;\n    }\n</style>\n<table border=\"1\" class=\"dataframe\">\n  <thead>\n    <tr style=\"text-align: right;\">\n      <th></th>\n      <th>open</th>\n      <th>high</th>\n      <th>low</th>\n      <th>close</th>\n      <th>adj_close</th>\n      <th>volume</th>\n      <th>adj_high</th>\n      <th>adj_low</th>\n    </tr>\n    <tr>\n      <th>Date</th>\n      <th></th>\n      <th></th>\n      <th></th>\n      <th></th>\n      <th></th>\n      <th></th>\n      <th></th>\n      <th></th>\n    </tr>\n  </thead>\n  <tbody>\n    <tr>\n      <th>2023-04-10</th>\n      <td>5.084010</td>\n      <td>5.087781</td>\n      <td>5.075674</td>\n      <td>5.087781</td>\n      <td>5.082458</td>\n      <td>17.680796</td>\n      <td>5.082458</td>\n      <td>5.070350</td>\n    </tr>\n    <tr>\n      <th>2023-04-11</th>\n      <td>5.089755</td>\n      <td>5.089816</td>\n      <td>5.078356</td>\n      <td>5.080161</td>\n      <td>5.074838</td>\n      <td>17.679271</td>\n      <td>5.084493</td>\n      <td>5.073033</td>\n    </tr>\n    <tr>\n      <th>2023-04-12</th>\n      <td>5.082770</td>\n      <td>5.087967</td>\n      <td>5.073798</td>\n      <td>5.075799</td>\n      <td>5.070475</td>\n      <td>17.730192</td>\n      <td>5.082643</td>\n      <td>5.068474</td>\n    </tr>\n    <tr>\n      <th>2023-04-13</th>\n      <td>5.085310</td>\n      <td>5.110782</td>\n      <td>5.084010</td>\n      <td>5.109334</td>\n      <td>5.104010</td>\n      <td>18.041550</td>\n      <td>5.105459</td>\n      <td>5.078686</td>\n    </tr>\n    <tr>\n      <th>2023-04-14</th>\n      <td>5.103458</td>\n      <td>5.113914</td>\n      <td>5.098768</td>\n      <td>5.107217</td>\n      <td>5.101894</td>\n      <td>17.715188</td>\n      <td>5.108590</td>\n      <td>5.093445</td>\n    </tr>\n  </tbody>\n</table>\n</div>"
     },
     "execution_count": 11,
     "metadata": {},
     "output_type": "execute_result"
    }
   ],
   "source": [
    "# Trendline parameter\n",
    "lookback = 30\n",
    "\n",
    "data = yf.download('AAPL', period=\"1y\", interval=\"1d\")\n",
    "data.rename(columns={'Adj Close': 'Adj_Close'}, inplace=True)\n",
    "\n",
    "# Add adj high and low, which may be important later\n",
    "data['Adj_High'] = data['Adj_Close'] * data['High'] / data['Close']\n",
    "data['Adj_Low'] = data['Adj_Close'] * data['Low'] / data['Close']\n",
    "\n",
    "data.columns = [x.lower() for x in data.columns]\n",
    "data = np.log(data)\n",
    "data.head()"
   ],
   "metadata": {
    "collapsed": false,
    "ExecuteTime": {
     "end_time": "2024-04-10T14:44:30.470299200Z",
     "start_time": "2024-04-10T14:44:30.281789300Z"
    }
   },
   "id": "3d57b61d4335a53b"
  },
  {
   "cell_type": "code",
   "execution_count": 5,
   "outputs": [],
   "source": [
    "arr = data['close'].to_numpy()\n",
    "bottoms = scipy.signal.argrelextrema(arr, np.less, order=3)\n",
    "tops = scipy.signal.argrelextrema(arr, np.greater, order=3)"
   ],
   "metadata": {
    "collapsed": false,
    "ExecuteTime": {
     "end_time": "2024-04-10T14:40:17.781186500Z",
     "start_time": "2024-04-10T14:40:17.600836700Z"
    }
   },
   "id": "88708ec73b95c76b"
  },
  {
   "cell_type": "code",
   "execution_count": 10,
   "outputs": [
    {
     "data": {
      "text/plain": "(array([  1,  16,  21,  27,  39,  50,  55,  62,  75,  91,  99, 117, 122,\n        136, 141, 153, 166, 175, 180, 190, 211, 217, 226, 244], dtype=int64),)"
     },
     "execution_count": 10,
     "metadata": {},
     "output_type": "execute_result"
    }
   ],
   "source": [
    "bottoms"
   ],
   "metadata": {
    "collapsed": false,
    "ExecuteTime": {
     "end_time": "2024-04-10T14:40:46.915946100Z",
     "start_time": "2024-04-10T14:40:46.900654400Z"
    }
   },
   "id": "2153debeedf2616a"
  },
  {
   "cell_type": "code",
   "execution_count": null,
   "outputs": [],
   "source": [],
   "metadata": {
    "collapsed": false
   },
   "id": "d3018d9d9af33cbc"
  }
 ],
 "metadata": {
  "kernelspec": {
   "display_name": "Python 3",
   "language": "python",
   "name": "python3"
  },
  "language_info": {
   "codemirror_mode": {
    "name": "ipython",
    "version": 2
   },
   "file_extension": ".py",
   "mimetype": "text/x-python",
   "name": "python",
   "nbconvert_exporter": "python",
   "pygments_lexer": "ipython2",
   "version": "2.7.6"
  }
 },
 "nbformat": 4,
 "nbformat_minor": 5
}
