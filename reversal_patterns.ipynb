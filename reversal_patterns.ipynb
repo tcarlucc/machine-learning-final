{
 "cells": [
  {
   "cell_type": "code",
   "execution_count": 20,
   "id": "initial_id",
   "metadata": {
    "collapsed": true,
    "ExecuteTime": {
     "end_time": "2024-04-10T15:30:39.034296100Z",
     "start_time": "2024-04-10T15:30:39.003308300Z"
    }
   },
   "outputs": [],
   "source": [
    "# Importing libraries\n",
    "import os\n",
    "import warnings\n",
    "warnings.filterwarnings('ignore')\n",
    "\n",
    "from datetime import datetime, timedelta\n",
    "import math\n",
    "import numpy as np \n",
    "import pandas as pd\n",
    "import matplotlib.pyplot as plt\n",
    "import scipy\n",
    "import yfinance as yf\n",
    "\n",
    "from neurotrader.download_data import download_df\n",
    "from neurotrader.directional_change import directional_change\n",
    "from neurotrader.perceptually_important import find_pips"
   ]
  },
  {
   "cell_type": "markdown",
   "source": [
    "# Reversal Pattern Detection Algorithm\n",
    "- Look at the 1 day intervals for now\n",
    "- Want to look at min by min at some point\n",
    "- Goal: If a pattern is detected, how much wieght should we give the buying/selling power of that pattern\n",
    "- AKA HOW ACCURATE THAT PATTERN IS FOR a certain stock\n",
    "- Look for a way to add an \"Early Detection\" of a pattern. Do this by checking for ratios not including the point \"D\"\n",
    "\n",
    "## TODO:\n",
    "- Research and add different pattern ratios\n",
    "- GARTLEY, BAT, BUTTERFLY, CRAB, DEEP_CRAB, CYPHER, SHARK\n",
    "- Run each program to see output, see how to generate data we can add to neural network\n",
    "- Directional change can be innacurate on the beginning of the data\n",
    "- \n",
    " "
   ],
   "metadata": {
    "collapsed": false
   },
   "id": "46e8416a5544a711"
  },
  {
   "cell_type": "code",
   "execution_count": 1,
   "outputs": [
    {
     "ename": "NameError",
     "evalue": "name 'download_df' is not defined",
     "output_type": "error",
     "traceback": [
      "\u001B[1;31m---------------------------------------------------------------------------\u001B[0m",
      "\u001B[1;31mNameError\u001B[0m                                 Traceback (most recent call last)",
      "Cell \u001B[1;32mIn[1], line 4\u001B[0m\n\u001B[0;32m      1\u001B[0m \u001B[38;5;66;03m# Trendline parameter\u001B[39;00m\n\u001B[0;32m      2\u001B[0m lookback \u001B[38;5;241m=\u001B[39m \u001B[38;5;241m30\u001B[39m\n\u001B[1;32m----> 4\u001B[0m data \u001B[38;5;241m=\u001B[39m \u001B[43mdownload_df\u001B[49m(\u001B[38;5;124m'\u001B[39m\u001B[38;5;124mAAPL\u001B[39m\u001B[38;5;124m'\u001B[39m, \u001B[38;5;124m'\u001B[39m\u001B[38;5;124m1y\u001B[39m\u001B[38;5;124m'\u001B[39m)\n\u001B[0;32m      5\u001B[0m data\u001B[38;5;241m.\u001B[39mhead(\u001B[38;5;241m1\u001B[39m)\n",
      "\u001B[1;31mNameError\u001B[0m: name 'download_df' is not defined"
     ]
    }
   ],
   "source": [
    "# Trendline parameter\n",
    "lookback = 30\n",
    "\n",
    "data = download_df('AAPL', '1y')\n",
    "data.head(1)"
   ],
   "metadata": {
    "collapsed": false,
    "ExecuteTime": {
     "end_time": "2024-04-17T20:09:55.379785Z",
     "start_time": "2024-04-17T20:09:55.102361Z"
    }
   },
   "id": "3d57b61d4335a53b"
  },
  {
   "cell_type": "markdown",
   "source": [
    "# Testing Different Algorithms for finding local extrema\n",
    "- Rolling Window\n",
    "- Directional Change\n",
    "- Perceptually Important Points"
   ],
   "metadata": {
    "collapsed": false
   },
   "id": "1a21b1409dc3689"
  },
  {
   "cell_type": "code",
   "execution_count": 18,
   "outputs": [
    {
     "name": "stdout",
     "output_type": "stream",
     "text": [
      "[  2  12  18  31  41  50  63  71  90 108 118]\n",
      "[ 7 14 19 23 29 38 47 57 69 77 87]\n"
     ]
    }
   ],
   "source": [
    "# ROLLING WINDOW ALGORITHM\n",
    "# Use Scipy to get local extrema. BE CAREFUL NOT TO CHEAT WITH FUTURE DATA\n",
    "# Use close data because it is more stable than adj high and adj low\n",
    "arr = data['close'].to_numpy()\n",
    "bottoms = scipy.signal.argrelextrema(arr, np.less, order=3)\n",
    "tops = scipy.signal.argrelextrema(arr, np.greater, order=3)\n",
    "print(bottoms[0][0:11])\n",
    "print(tops[0][0:11])"
   ],
   "metadata": {
    "collapsed": false,
    "ExecuteTime": {
     "end_time": "2024-04-10T15:26:03.038839800Z",
     "start_time": "2024-04-10T15:26:03.002043800Z"
    }
   },
   "id": "88708ec73b95c76b"
  },
  {
   "cell_type": "code",
   "execution_count": null,
   "outputs": [],
   "source": [
    "# Directional Change Algorithm"
   ],
   "metadata": {
    "collapsed": false
   },
   "id": "95ad657e7dd34a04"
  },
  {
   "cell_type": "code",
   "execution_count": 25,
   "outputs": [
    {
     "name": "stdout",
     "output_type": "stream",
     "text": [
      "[0, 53, 57, 102, 118, 129, 139, 156, 198, 252]\n",
      "[162.02999877929688, 185.27000427246094, 193.97000122070312, 189.6999969482422, 170.42999267578125, 180.7100067138672, 166.88999938964844, 191.4499969482422, 195.17999267578125, 167.62649536132812]\n"
     ]
    }
   ],
   "source": [
    "# Perceptually Important Points\n",
    "PIP = 10\n",
    "pips_x, pips_y = find_pips(arr, PIP, 1)\n",
    "print(pips_x)\n",
    "print(pips_y)"
   ],
   "metadata": {
    "collapsed": false,
    "ExecuteTime": {
     "end_time": "2024-04-10T15:31:30.163888700Z",
     "start_time": "2024-04-10T15:31:30.150238700Z"
    }
   },
   "id": "5fb19d8c5a5253f0"
  },
  {
   "cell_type": "code",
   "execution_count": null,
   "outputs": [],
   "source": [],
   "metadata": {
    "collapsed": false
   },
   "id": "4ed849176d10fa00"
  }
 ],
 "metadata": {
  "kernelspec": {
   "display_name": "Python 3",
   "language": "python",
   "name": "python3"
  },
  "language_info": {
   "codemirror_mode": {
    "name": "ipython",
    "version": 2
   },
   "file_extension": ".py",
   "mimetype": "text/x-python",
   "name": "python",
   "nbconvert_exporter": "python",
   "pygments_lexer": "ipython2",
   "version": "2.7.6"
  }
 },
 "nbformat": 4,
 "nbformat_minor": 5
}
