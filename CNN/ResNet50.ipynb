{
 "cells": [
  {
   "cell_type": "code",
   "execution_count": 1,
   "id": "initial_id",
   "metadata": {
    "collapsed": true,
    "ExecuteTime": {
     "end_time": "2024-05-01T19:18:47.340826Z",
     "start_time": "2024-05-01T19:18:44.565575Z"
    }
   },
   "outputs": [],
   "source": [
    "import os\n",
    "import gc\n",
    "\n",
    "import matplotlib.pyplot as plt\n",
    "import numpy as np\n",
    "import pandas as pd\n",
    "\n",
    "import tensorflow as tf"
   ]
  },
  {
   "cell_type": "code",
   "outputs": [],
   "source": [
    "# Global Variables\n",
    "BATCH_SIZE = 16\n",
    "IMG_SIZE = 128"
   ],
   "metadata": {
    "collapsed": false,
    "ExecuteTime": {
     "end_time": "2024-05-01T19:18:47.344832Z",
     "start_time": "2024-05-01T19:18:47.342328Z"
    }
   },
   "id": "2324f86499fe55f4",
   "execution_count": 2
  },
  {
   "cell_type": "code",
   "outputs": [
    {
     "name": "stdout",
     "output_type": "stream",
     "text": [
      "Found 6404 files belonging to 4 classes.\n",
      "Found 5984 files belonging to 4 classes.\n"
     ]
    }
   ],
   "source": [
    "# Paths: For local machine\n",
    "train_dir = 'C:/Users/Nick/Documents/SchoolStuff/spring2024/machineLearning/final_project/tradingpatterns/stock_patterns/train'\n",
    "validation_dir = 'C:/Users/Nick/Documents/SchoolStuff/spring2024/machineLearning/final_project/tradingpatterns/stock_patterns/validation'\n",
    "\n",
    "# Create training and validation dataset\n",
    "train_dataset = tf.keras.utils.image_dataset_from_directory(train_dir,\n",
    "                                                            shuffle=True,\n",
    "                                                            batch_size=BATCH_SIZE,\n",
    "                                                            color_mode='rgb',\n",
    "                                                            image_size=(IMG_SIZE, IMG_SIZE))\n",
    "\n",
    "validation_dataset = tf.keras.utils.image_dataset_from_directory(validation_dir,\n",
    "                                                                 shuffle=True,\n",
    "                                                                 batch_size=BATCH_SIZE,\n",
    "                                                                 color_mode='rgb',\n",
    "                                                                 image_size=(IMG_SIZE, IMG_SIZE))\n",
    "class_names = train_dataset.class_names"
   ],
   "metadata": {
    "collapsed": false,
    "ExecuteTime": {
     "end_time": "2024-05-01T19:18:48.301302Z",
     "start_time": "2024-05-01T19:18:47.345834Z"
    }
   },
   "id": "7d0649ea817f8775",
   "execution_count": 3
  },
  {
   "cell_type": "code",
   "outputs": [],
   "source": [
    "val_batches = tf.data.experimental.cardinality(validation_dataset)\n",
    "test_dataset = validation_dataset.take(val_batches // 5)\n",
    "validation_dataset = validation_dataset.skip(val_batches // 5)\n",
    "preprocess_input = tf.keras.applications.resnet.preprocess_input"
   ],
   "metadata": {
    "collapsed": false,
    "ExecuteTime": {
     "end_time": "2024-05-01T19:18:48.315319Z",
     "start_time": "2024-05-01T19:18:48.305304Z"
    }
   },
   "id": "d184f0d637da4e86",
   "execution_count": 4
  },
  {
   "cell_type": "code",
   "outputs": [],
   "source": [
    "# Create the base model from the pre-trained model MobileNet V2\n",
    "IMG_SHAPE = (IMG_SIZE, IMG_SIZE) + (3,)\n",
    "base_model = tf.keras.applications.ResNet50(input_shape=IMG_SHAPE,\n",
    "                                            include_top=False,\n",
    "                                            weights='imagenet')"
   ],
   "metadata": {
    "collapsed": false,
    "ExecuteTime": {
     "end_time": "2024-05-01T19:18:49.226214Z",
     "start_time": "2024-05-01T19:18:48.316821Z"
    }
   },
   "id": "d7da387c0b1a736f",
   "execution_count": 5
  },
  {
   "cell_type": "code",
   "outputs": [],
   "source": [
    "# This feature extractor converts each 255x255 image into a 5x5x1280 block of features\n",
    "image_batch, label_batch = next(iter(train_dataset))\n",
    "feature_batch = base_model(image_batch)"
   ],
   "metadata": {
    "collapsed": false,
    "ExecuteTime": {
     "end_time": "2024-05-01T19:18:49.718468Z",
     "start_time": "2024-05-01T19:18:49.227216Z"
    }
   },
   "id": "e17aa5e2dce7cb63",
   "execution_count": 6
  },
  {
   "cell_type": "code",
   "outputs": [],
   "source": [
    "base_model.trainable = False\n",
    "\n",
    "# Adding a classification head\n",
    "global_max_layer = tf.keras.layers.GlobalMaxPooling2D()\n",
    "feature_batch_max = global_max_layer(feature_batch)"
   ],
   "metadata": {
    "collapsed": false,
    "ExecuteTime": {
     "end_time": "2024-05-01T19:18:49.730988Z",
     "start_time": "2024-05-01T19:18:49.719470Z"
    }
   },
   "id": "faa24acc268c1c6c",
   "execution_count": 7
  },
  {
   "cell_type": "code",
   "outputs": [],
   "source": [
    "# Add a dense layer to convert it to a single prediction per image\n",
    "# Test relu, leaky_relu, and sigmoid\n",
    "prediction_layer = tf.keras.layers.Dense(len(class_names))\n",
    "prediction_batch = prediction_layer(feature_batch_max)\n",
    "\n",
    "inputs = tf.keras.Input(shape=(IMG_SIZE, IMG_SIZE, 3))\n",
    "# Add the preprocessing layer\n",
    "x = preprocess_input(inputs)\n",
    "# Add the base model after, keeping training to false\n",
    "x = base_model(x, training=False)\n",
    "# Add max pooling layer\n",
    "x = global_max_layer(x)\n",
    "# Add dropout layer\n",
    "x = tf.keras.layers.Dropout(0.2)(x)\n",
    "# Add softmax prediction layer\n",
    "outputs = prediction_layer(x)\n",
    "# Create a model from inputs, outputs.\n",
    "model = tf.keras.Model(inputs, outputs)\n",
    "\n",
    "# We use binary accuracy here because of the Sigmoid?\n",
    "# If we use a different activator then I am not sure \n",
    "base_learning_rate = 0.0001\n",
    "model.compile(optimizer=tf.keras.optimizers.Adam(learning_rate=base_learning_rate),\n",
    "              loss=tf.keras.losses.SparseCategoricalCrossentropy(from_logits=True),\n",
    "              metrics=['accuracy'])"
   ],
   "metadata": {
    "collapsed": false,
    "ExecuteTime": {
     "end_time": "2024-05-01T19:18:49.772050Z",
     "start_time": "2024-05-01T19:18:49.731989Z"
    }
   },
   "id": "9221c2b852cd47f7",
   "execution_count": 8
  },
  {
   "cell_type": "code",
   "outputs": [
    {
     "name": "stdout",
     "output_type": "stream",
     "text": [
      "Epoch 1/10\n",
      "\u001B[1m10/10\u001B[0m \u001B[32m━━━━━━━━━━━━━━━━━━━━\u001B[0m\u001B[37m\u001B[0m \u001B[1m9s\u001B[0m 460ms/step - accuracy: 0.2378 - loss: 3.3591 - val_accuracy: 0.3375 - val_loss: 2.5440\n",
      "Epoch 2/10\n",
      "\u001B[1m10/10\u001B[0m \u001B[32m━━━━━━━━━━━━━━━━━━━━\u001B[0m\u001B[37m\u001B[0m \u001B[1m3s\u001B[0m 274ms/step - accuracy: 0.2575 - loss: 3.3779 - val_accuracy: 0.3375 - val_loss: 2.6073\n",
      "Epoch 3/10\n",
      "\u001B[1m10/10\u001B[0m \u001B[32m━━━━━━━━━━━━━━━━━━━━\u001B[0m\u001B[37m\u001B[0m \u001B[1m3s\u001B[0m 271ms/step - accuracy: 0.3021 - loss: 3.3566 - val_accuracy: 0.3313 - val_loss: 2.4653\n",
      "Epoch 4/10\n",
      "\u001B[1m10/10\u001B[0m \u001B[32m━━━━━━━━━━━━━━━━━━━━\u001B[0m\u001B[37m\u001B[0m \u001B[1m3s\u001B[0m 276ms/step - accuracy: 0.3127 - loss: 3.4075 - val_accuracy: 0.2688 - val_loss: 2.2749\n",
      "Epoch 5/10\n",
      "\u001B[1m10/10\u001B[0m \u001B[32m━━━━━━━━━━━━━━━━━━━━\u001B[0m\u001B[37m\u001B[0m \u001B[1m3s\u001B[0m 276ms/step - accuracy: 0.2646 - loss: 3.2409 - val_accuracy: 0.2375 - val_loss: 2.5403\n",
      "Epoch 6/10\n",
      "\u001B[1m10/10\u001B[0m \u001B[32m━━━━━━━━━━━━━━━━━━━━\u001B[0m\u001B[37m\u001B[0m \u001B[1m3s\u001B[0m 269ms/step - accuracy: 0.2704 - loss: 3.2797 - val_accuracy: 0.3187 - val_loss: 2.0563\n",
      "Epoch 7/10\n",
      "\u001B[1m10/10\u001B[0m \u001B[32m━━━━━━━━━━━━━━━━━━━━\u001B[0m\u001B[37m\u001B[0m \u001B[1m3s\u001B[0m 273ms/step - accuracy: 0.2858 - loss: 3.2335 - val_accuracy: 0.3875 - val_loss: 2.0473\n",
      "Epoch 8/10\n",
      "\u001B[1m10/10\u001B[0m \u001B[32m━━━━━━━━━━━━━━━━━━━━\u001B[0m\u001B[37m\u001B[0m \u001B[1m3s\u001B[0m 269ms/step - accuracy: 0.2970 - loss: 3.0068 - val_accuracy: 0.3375 - val_loss: 2.1319\n",
      "Epoch 9/10\n",
      "\u001B[1m10/10\u001B[0m \u001B[32m━━━━━━━━━━━━━━━━━━━━\u001B[0m\u001B[37m\u001B[0m \u001B[1m3s\u001B[0m 275ms/step - accuracy: 0.2969 - loss: 3.2073 - val_accuracy: 0.3063 - val_loss: 2.1574\n",
      "Epoch 10/10\n",
      "\u001B[1m10/10\u001B[0m \u001B[32m━━━━━━━━━━━━━━━━━━━━\u001B[0m\u001B[37m\u001B[0m \u001B[1m3s\u001B[0m 273ms/step - accuracy: 0.3097 - loss: 3.1372 - val_accuracy: 0.2562 - val_loss: 2.2549\n"
     ]
    }
   ],
   "source": [
    "initial_epochs = 10\n",
    "history = model.fit(train_dataset,\n",
    "                    epochs=initial_epochs,\n",
    "                    steps_per_epoch=10,\n",
    "                    validation_data=validation_dataset,\n",
    "                    validation_steps=10)"
   ],
   "metadata": {
    "collapsed": false,
    "ExecuteTime": {
     "end_time": "2024-05-01T19:19:21.958357Z",
     "start_time": "2024-05-01T19:18:49.773052Z"
    }
   },
   "id": "ac59b79512053fe8",
   "execution_count": 9
  },
  {
   "cell_type": "code",
   "outputs": [],
   "source": [
    "# acc = history.history['accuracy']\n",
    "# val_acc = history.history['val_accuracy']\n",
    "# \n",
    "# loss = history.history['loss']\n",
    "# val_loss = history.history['val_loss']\n",
    "# \n",
    "# plt.figure(figsize=(8, 8))\n",
    "# plt.subplot(2, 1, 1)\n",
    "# plt.plot(acc, label='Training Accuracy')\n",
    "# plt.plot(val_acc, label='Validation Accuracy')\n",
    "# plt.legend(loc='lower right')\n",
    "# plt.ylabel('Accuracy')\n",
    "# plt.ylim([0, .5])\n",
    "# plt.title('Training and Validation Accuracy')\n",
    "# \n",
    "# plt.subplot(2, 1, 2)\n",
    "# plt.plot(loss, label='Training Loss')\n",
    "# plt.plot(val_loss, label='Validation Loss')\n",
    "# plt.legend(loc='upper right')\n",
    "# plt.ylabel('Cross Entropy')\n",
    "# plt.title('Training and Validation Loss')\n",
    "# plt.xlabel('epoch')\n",
    "# plt.ylim([0, 10])\n",
    "# plt.show()"
   ],
   "metadata": {
    "collapsed": false,
    "ExecuteTime": {
     "end_time": "2024-05-01T19:19:21.962364Z",
     "start_time": "2024-05-01T19:19:21.959359Z"
    }
   },
   "id": "71d5b762f53482bc",
   "execution_count": 10
  },
  {
   "cell_type": "code",
   "outputs": [
    {
     "name": "stdout",
     "output_type": "stream",
     "text": [
      "Number of layers in the base model:  175\n"
     ]
    }
   ],
   "source": [
    "base_model.trainable = True\n",
    "\n",
    "print(\"Number of layers in the base model: \", len(base_model.layers))\n",
    "\n",
    "# Fine-tune from this layer onwards\n",
    "fine_tune_at = 120\n",
    "\n",
    "# Freeze all the layers before the `fine_tune_at` layer\n",
    "for layer in base_model.layers[:fine_tune_at]:\n",
    "  layer.trainable = False"
   ],
   "metadata": {
    "collapsed": false,
    "ExecuteTime": {
     "end_time": "2024-05-01T19:19:21.974883Z",
     "start_time": "2024-05-01T19:19:21.963365Z"
    }
   },
   "id": "fb3c311e8311276e",
   "execution_count": 11
  },
  {
   "cell_type": "code",
   "outputs": [],
   "source": [
    "model.compile(optimizer=tf.keras.optimizers.Adam(learning_rate=base_learning_rate/10),\n",
    "              loss=tf.keras.losses.SparseCategoricalCrossentropy(from_logits=True),\n",
    "              metrics=['accuracy'])"
   ],
   "metadata": {
    "collapsed": false,
    "ExecuteTime": {
     "end_time": "2024-05-01T19:19:21.981393Z",
     "start_time": "2024-05-01T19:19:21.975885Z"
    }
   },
   "id": "b60df04800ab0e29",
   "execution_count": 12
  },
  {
   "cell_type": "code",
   "outputs": [
    {
     "name": "stdout",
     "output_type": "stream",
     "text": [
      "Epoch 11/20\n",
      "\u001B[1m10/10\u001B[0m \u001B[32m━━━━━━━━━━━━━━━━━━━━\u001B[0m\u001B[37m\u001B[0m \u001B[1m17s\u001B[0m 629ms/step - accuracy: 0.2245 - loss: 4.8901 - val_accuracy: 0.2500 - val_loss: 2.4724\n",
      "Epoch 12/20\n",
      "\u001B[1m10/10\u001B[0m \u001B[32m━━━━━━━━━━━━━━━━━━━━\u001B[0m\u001B[37m\u001B[0m \u001B[1m4s\u001B[0m 448ms/step - accuracy: 0.2747 - loss: 4.4891 - val_accuracy: 0.3125 - val_loss: 2.2494\n",
      "Epoch 13/20\n",
      "\u001B[1m10/10\u001B[0m \u001B[32m━━━━━━━━━━━━━━━━━━━━\u001B[0m\u001B[37m\u001B[0m \u001B[1m4s\u001B[0m 446ms/step - accuracy: 0.2741 - loss: 4.4377 - val_accuracy: 0.2750 - val_loss: 2.6565\n",
      "Epoch 14/20\n",
      "\u001B[1m10/10\u001B[0m \u001B[32m━━━━━━━━━━━━━━━━━━━━\u001B[0m\u001B[37m\u001B[0m \u001B[1m4s\u001B[0m 446ms/step - accuracy: 0.3273 - loss: 3.7299 - val_accuracy: 0.2313 - val_loss: 2.8677\n",
      "Epoch 15/20\n",
      "\u001B[1m10/10\u001B[0m \u001B[32m━━━━━━━━━━━━━━━━━━━━\u001B[0m\u001B[37m\u001B[0m \u001B[1m4s\u001B[0m 446ms/step - accuracy: 0.2466 - loss: 4.4177 - val_accuracy: 0.3438 - val_loss: 2.7528\n",
      "Epoch 16/20\n",
      "\u001B[1m10/10\u001B[0m \u001B[32m━━━━━━━━━━━━━━━━━━━━\u001B[0m\u001B[37m\u001B[0m \u001B[1m4s\u001B[0m 446ms/step - accuracy: 0.1994 - loss: 4.0538 - val_accuracy: 0.3313 - val_loss: 2.6583\n",
      "Epoch 17/20\n",
      "\u001B[1m10/10\u001B[0m \u001B[32m━━━━━━━━━━━━━━━━━━━━\u001B[0m\u001B[37m\u001B[0m \u001B[1m4s\u001B[0m 448ms/step - accuracy: 0.2818 - loss: 3.9344 - val_accuracy: 0.3125 - val_loss: 2.5408\n",
      "Epoch 18/20\n",
      "\u001B[1m10/10\u001B[0m \u001B[32m━━━━━━━━━━━━━━━━━━━━\u001B[0m\u001B[37m\u001B[0m \u001B[1m4s\u001B[0m 449ms/step - accuracy: 0.2733 - loss: 4.4648 - val_accuracy: 0.2562 - val_loss: 2.6363\n",
      "Epoch 19/20\n",
      "\u001B[1m10/10\u001B[0m \u001B[32m━━━━━━━━━━━━━━━━━━━━\u001B[0m\u001B[37m\u001B[0m \u001B[1m4s\u001B[0m 452ms/step - accuracy: 0.2956 - loss: 3.9354 - val_accuracy: 0.2688 - val_loss: 2.5777\n",
      "Epoch 20/20\n",
      "\u001B[1m10/10\u001B[0m \u001B[32m━━━━━━━━━━━━━━━━━━━━\u001B[0m\u001B[37m\u001B[0m \u001B[1m4s\u001B[0m 449ms/step - accuracy: 0.3245 - loss: 3.6447 - val_accuracy: 0.2625 - val_loss: 2.8191\n"
     ]
    }
   ],
   "source": [
    "fine_tune_epochs = 10\n",
    "total_epochs =  initial_epochs + fine_tune_epochs\n",
    "\n",
    "history_fine = model.fit(train_dataset,\n",
    "                         epochs=total_epochs,\n",
    "                         initial_epoch=len(history.epoch),\n",
    "                         steps_per_epoch=10,\n",
    "                         validation_data=validation_dataset,\n",
    "                         validation_steps=10)"
   ],
   "metadata": {
    "collapsed": false,
    "ExecuteTime": {
     "end_time": "2024-05-01T19:20:17.796396Z",
     "start_time": "2024-05-01T19:19:21.982394Z"
    }
   },
   "id": "f51a8ce538a9546b",
   "execution_count": 13
  },
  {
   "cell_type": "code",
   "outputs": [
    {
     "name": "stdout",
     "output_type": "stream",
     "text": [
      "\u001B[1m74/74\u001B[0m \u001B[32m━━━━━━━━━━━━━━━━━━━━\u001B[0m\u001B[37m\u001B[0m \u001B[1m10s\u001B[0m 139ms/step - accuracy: 0.2989 - loss: 2.6542\n",
      "Test accuracy : 0.2922297418117523\n"
     ]
    }
   ],
   "source": [
    "loss, accuracy = model.evaluate(test_dataset)\n",
    "print('Test accuracy :', accuracy)"
   ],
   "metadata": {
    "collapsed": false,
    "ExecuteTime": {
     "end_time": "2024-05-01T19:20:28.093170Z",
     "start_time": "2024-05-01T19:20:17.798399Z"
    }
   },
   "id": "a54de76dc42730f6",
   "execution_count": 14
  },
  {
   "cell_type": "code",
   "outputs": [],
   "source": [
    "# acc += history_fine.history['accuracy']\n",
    "# val_acc += history_fine.history['val_accuracy']\n",
    "# \n",
    "# loss += history_fine.history['loss']\n",
    "# val_loss += history_fine.history['val_loss']\n",
    "# acc = history.history['accuracy']\n",
    "# val_acc = history.history['val_accuracy']\n",
    "# \n",
    "# loss = history.history['loss']\n",
    "# val_loss = history.history['val_loss']\n",
    "# \n",
    "# plt.figure(figsize=(8, 8))\n",
    "# plt.subplot(2, 1, 1)\n",
    "# plt.plot(acc, label='Training Accuracy')\n",
    "# plt.plot(val_acc, label='Validation Accuracy')\n",
    "# plt.legend(loc='lower right')\n",
    "# plt.ylabel('Accuracy')\n",
    "# plt.ylim([0, 1])\n",
    "# plt.title('Training and Validation Accuracy')\n",
    "# \n",
    "# plt.subplot(2, 1, 2)\n",
    "# plt.plot(loss, label='Training Loss')\n",
    "# plt.plot(val_loss, label='Validation Loss')\n",
    "# plt.legend(loc='upper right')\n",
    "# plt.ylabel('Cross Entropy')\n",
    "# plt.title('Training and Validation Loss')\n",
    "# plt.xlabel('epoch')\n",
    "# plt.ylim([0, 10])\n",
    "# plt.show()"
   ],
   "metadata": {
    "collapsed": false,
    "ExecuteTime": {
     "end_time": "2024-05-01T19:20:28.096675Z",
     "start_time": "2024-05-01T19:20:28.093670Z"
    }
   },
   "id": "6fb52cfe9ca689cd",
   "execution_count": 15
  },
  {
   "cell_type": "code",
   "outputs": [],
   "source": [
    "# Add a softmax layer to our model and apply our test data\n",
    "# probability_model = tf.keras.Sequential([model, tf.keras.layers.Softmax()])\n",
    "# image_batch, label_batch = test_dataset.as_numpy_iterator().next()\n",
    "# predictions = probability_model.predict(image_batch)"
   ],
   "metadata": {
    "collapsed": false,
    "ExecuteTime": {
     "end_time": "2024-05-01T19:20:28.107191Z",
     "start_time": "2024-05-01T19:20:28.097176Z"
    }
   },
   "id": "1589e51f2e74f493",
   "execution_count": 16
  },
  {
   "cell_type": "code",
   "outputs": [],
   "source": [
    "# plt.figure(figsize=(10, 10))\n",
    "# for i in range(9):\n",
    "#   ax = plt.subplot(3, 3, i + 1)\n",
    "#   plt.imshow(image_batch[i].astype(\"uint8\"))\n",
    "#   guess = str(class_names[np.argmax(predictions[i+9])])\n",
    "#   actual = str(class_names[label_batch[i+9]])\n",
    "#   title = \"Prediction: \" + guess + \"\\n\" + \"Actual: \" + actual\n",
    "#   plt.title(title)\n",
    "#   plt.axis(\"off\")"
   ],
   "metadata": {
    "collapsed": false,
    "ExecuteTime": {
     "end_time": "2024-05-01T19:20:28.112199Z",
     "start_time": "2024-05-01T19:20:28.107692Z"
    }
   },
   "id": "92b8d8a3fefc0ae6",
   "execution_count": 17
  }
 ],
 "metadata": {
  "kernelspec": {
   "display_name": "Python 3",
   "language": "python",
   "name": "python3"
  },
  "language_info": {
   "codemirror_mode": {
    "name": "ipython",
    "version": 2
   },
   "file_extension": ".py",
   "mimetype": "text/x-python",
   "name": "python",
   "nbconvert_exporter": "python",
   "pygments_lexer": "ipython2",
   "version": "2.7.6"
  }
 },
 "nbformat": 4,
 "nbformat_minor": 5
}
