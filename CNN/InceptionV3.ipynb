{
 "cells": [
  {
   "cell_type": "code",
   "execution_count": null,
   "id": "initial_id",
   "metadata": {
    "collapsed": true
   },
   "outputs": [],
   "source": [
    "import os\n",
    "import gc\n",
    "\n",
    "import matplotlib.pyplot as plt\n",
    "import numpy as np\n",
    "import pandas as pd\n",
    "\n",
    "import tensorflow as tf"
   ]
  },
  {
   "cell_type": "code",
   "outputs": [],
   "source": [
    "# Global Variables\n",
    "BATCH_SIZE = 32 # 32\n",
    "IMG_SIZE = 299 # 299"
   ],
   "metadata": {
    "collapsed": false
   },
   "id": "81a77673cd4db9dc",
   "execution_count": null
  },
  {
   "cell_type": "code",
   "outputs": [],
   "source": [
    "# Paths: For local machine\n",
    "train_dir = 'C:/Users/Nick/Documents/SchoolStuff/spring2024/machineLearning/final_project/CNN/tradingpatterns/stock_patterns/train'\n",
    "validation_dir = 'C:/Users/Nick/Documents/SchoolStuff/spring2024/machineLearning/final_project/CNN/tradingpatterns/stock_patterns/validation'\n",
    "\n",
    "# Create training and validation dataset\n",
    "train_dataset = tf.keras.utils.image_dataset_from_directory(train_dir,\n",
    "                                                            shuffle=True,\n",
    "                                                            batch_size=BATCH_SIZE,\n",
    "                                                            color_mode='rgb',\n",
    "                                                            image_size=(IMG_SIZE, IMG_SIZE))\n",
    "\n",
    "validation_dataset = tf.keras.utils.image_dataset_from_directory(validation_dir,\n",
    "                                                                 shuffle=True,\n",
    "                                                                 batch_size=BATCH_SIZE,\n",
    "                                                                 color_mode='rgb',\n",
    "                                                                 image_size=(IMG_SIZE, IMG_SIZE))\n",
    "class_names = train_dataset.class_names"
   ],
   "metadata": {
    "collapsed": false
   },
   "id": "b7cb90dfaffb6f11",
   "execution_count": null
  },
  {
   "cell_type": "code",
   "outputs": [],
   "source": [
    "val_batches = tf.data.experimental.cardinality(validation_dataset)\n",
    "test_dataset = validation_dataset.take(val_batches // 5)\n",
    "validation_dataset = validation_dataset.skip(val_batches // 5)\n",
    "preprocess_input = tf.keras.applications.inception_v3.preprocess_input"
   ],
   "metadata": {
    "collapsed": false
   },
   "id": "18ac06326b91a243",
   "execution_count": null
  },
  {
   "cell_type": "code",
   "outputs": [],
   "source": [
    "# Create the base model from the pre-trained model MobileNet V2\n",
    "IMG_SHAPE = (IMG_SIZE, IMG_SIZE) + (3,)\n",
    "base_model = tf.keras.applications.InceptionV3(input_shape=IMG_SHAPE,\n",
    "                                               include_top=False,\n",
    "                                               weights='imagenet')"
   ],
   "metadata": {
    "collapsed": false
   },
   "id": "341d1051636e823b",
   "execution_count": null
  },
  {
   "cell_type": "code",
   "outputs": [],
   "source": [
    "# This feature extractor converts each 255x255 image into a 5x5x1280 block of features\n",
    "image_batch, label_batch = next(iter(train_dataset))\n",
    "feature_batch = base_model(image_batch)"
   ],
   "metadata": {
    "collapsed": false
   },
   "id": "e81496d9099fd3e3",
   "execution_count": null
  },
  {
   "cell_type": "code",
   "outputs": [],
   "source": [
    "# Freeze the model\n",
    "base_model.trainable = False\n",
    "\n",
    "# Adding a classification head\n",
    "global_max_layer = tf.keras.layers.GlobalMaxPooling2D()\n",
    "feature_batch_max = global_max_layer(feature_batch)"
   ],
   "metadata": {
    "collapsed": false
   },
   "id": "216b862f3daf41a0",
   "execution_count": null
  },
  {
   "cell_type": "code",
   "outputs": [],
   "source": [
    "# Add a dense layer to convert it to a single prediction per image\n",
    "prediction_layer = tf.keras.layers.Dense(len(class_names))\n",
    "prediction_batch = prediction_layer(feature_batch_max)\n",
    "\n",
    "inputs = tf.keras.Input(shape=(IMG_SIZE, IMG_SIZE, 3))\n",
    "# Add the preprocessing layer\n",
    "x = preprocess_input(inputs)\n",
    "# Add the base model after, keeping training to false\n",
    "x = base_model(x, training=False)\n",
    "# Add max pooling layer\n",
    "x = global_max_layer(x)\n",
    "# Add dropout layer\n",
    "# x = tf.keras.layers.Dropout(0.2)(x)\n",
    "# Add softmax prediction layer\n",
    "outputs = prediction_layer(x)\n",
    "# Create a model from inputs, outputs.\n",
    "model = tf.keras.Model(inputs, outputs)"
   ],
   "metadata": {
    "collapsed": false
   },
   "id": "99991f15ae0cdb9b",
   "execution_count": null
  },
  {
   "cell_type": "code",
   "outputs": [],
   "source": [
    "# Compile the model\n",
    "base_learning_rate = 0.0001\n",
    "model.compile(optimizer=tf.keras.optimizers.Adam(learning_rate=base_learning_rate),\n",
    "              loss=tf.keras.losses.SparseCategoricalCrossentropy(from_logits=True),\n",
    "              metrics=['accuracy'])"
   ],
   "metadata": {
    "collapsed": false
   },
   "id": "9c4ae9f2e6bc2a1f",
   "execution_count": null
  },
  {
   "cell_type": "code",
   "outputs": [],
   "source": [
    "initial_epochs = 10\n",
    "\n",
    "history = model.fit(train_dataset,\n",
    "                    epochs=initial_epochs,\n",
    "                    validation_data=validation_dataset)"
   ],
   "metadata": {
    "collapsed": false
   },
   "id": "447ad033bb36f67a",
   "execution_count": null
  },
  {
   "cell_type": "code",
   "outputs": [],
   "source": [
    "acc = history.history['accuracy']\n",
    "val_acc = history.history['val_accuracy']\n",
    "\n",
    "loss = history.history['loss']\n",
    "val_loss = history.history['val_loss']\n",
    "# \n",
    "# plt.figure(figsize=(8, 8))\n",
    "# plt.subplot(2, 1, 1)\n",
    "# plt.plot(acc, label='Training Accuracy')\n",
    "# plt.plot(val_acc, label='Validation Accuracy')\n",
    "# plt.legend(loc='lower right')\n",
    "# plt.ylabel('Accuracy')\n",
    "# plt.ylim([0, .5])\n",
    "# plt.title('Training and Validation Accuracy')\n",
    "# \n",
    "# plt.subplot(2, 1, 2)\n",
    "# plt.plot(loss, label='Training Loss')\n",
    "# plt.plot(val_loss, label='Validation Loss')\n",
    "# plt.legend(loc='upper right')\n",
    "# plt.ylabel('Cross Entropy')\n",
    "# plt.title('Training and Validation Loss')\n",
    "# plt.xlabel('epoch')\n",
    "# plt.ylim([0, 10])\n",
    "# plt.show()"
   ],
   "metadata": {
    "collapsed": false
   },
   "id": "a7a012c02b024491",
   "execution_count": null
  },
  {
   "cell_type": "code",
   "outputs": [],
   "source": [
    "base_model.trainable = True"
   ],
   "metadata": {
    "collapsed": false
   },
   "id": "769c6ac1b915e62d",
   "execution_count": null
  },
  {
   "cell_type": "code",
   "outputs": [],
   "source": [
    "# Let's take a look to see how many layers are in the base model\n",
    "print(\"Number of layers in the base model: \", len(base_model.layers))\n",
    "\n",
    "# Fine-tune from this layer onwards\n",
    "fine_tune_at = 240\n",
    "\n",
    "# Freeze all the layers before the `fine_tune_at` layer\n",
    "for layer in base_model.layers[:fine_tune_at]:\n",
    "  layer.trainable = False"
   ],
   "metadata": {
    "collapsed": false
   },
   "id": "167b89533d5c4403",
   "execution_count": null
  },
  {
   "cell_type": "code",
   "outputs": [],
   "source": [
    "model.compile(optimizer=tf.keras.optimizers.Adam(learning_rate=base_learning_rate/15),\n",
    "              loss=tf.keras.losses.SparseCategoricalCrossentropy(from_logits=True), # False when we have a Softmax layer\n",
    "              metrics=['accuracy'])"
   ],
   "metadata": {
    "collapsed": false
   },
   "id": "f94e8acb278af424",
   "execution_count": null
  },
  {
   "cell_type": "code",
   "outputs": [],
   "source": [
    "fine_tune_epochs = 10\n",
    "total_epochs =  initial_epochs + fine_tune_epochs\n",
    "\n",
    "history_fine = model.fit(train_dataset,\n",
    "                         epochs=total_epochs,\n",
    "                         initial_epoch=len(history.epoch),\n",
    "                         validation_data=validation_dataset)"
   ],
   "metadata": {
    "collapsed": false
   },
   "id": "56eaf692eb898536",
   "execution_count": null
  },
  {
   "cell_type": "code",
   "outputs": [],
   "source": [
    "test_loss, test_accuracy = model.evaluate(test_dataset)\n",
    "print('Test accuracy :', test_accuracy)"
   ],
   "metadata": {
    "collapsed": false
   },
   "id": "49b007510455cd37",
   "execution_count": null
  },
  {
   "cell_type": "code",
   "outputs": [],
   "source": [
    "acc += history_fine.history['accuracy']\n",
    "val_acc += history_fine.history['val_accuracy']\n",
    "\n",
    "loss += history_fine.history['loss']\n",
    "val_loss += history_fine.history['val_loss']\n",
    "acc = history.history['accuracy']\n",
    "val_acc = history.history['val_accuracy']\n",
    "\n",
    "loss = history.history['loss']\n",
    "val_loss = history.history['val_loss']\n",
    "\n",
    "plt.figure(figsize=(8, 8))\n",
    "plt.subplot(2, 1, 1)\n",
    "plt.plot(acc, label='Training Accuracy')\n",
    "plt.plot(val_acc, label='Validation Accuracy')\n",
    "plt.legend(loc='lower right')\n",
    "plt.ylabel('Accuracy')\n",
    "plt.ylim([0, 1])\n",
    "plt.title('Training and Validation Accuracy')\n",
    "\n",
    "plt.subplot(2, 1, 2)\n",
    "plt.plot(loss, label='Training Loss')\n",
    "plt.plot(val_loss, label='Validation Loss')\n",
    "plt.legend(loc='upper right')\n",
    "plt.ylabel('Cross Entropy')\n",
    "plt.title('Training and Validation Loss')\n",
    "plt.xlabel('epoch')\n",
    "plt.ylim([0, 10])\n",
    "plt.show()"
   ],
   "metadata": {
    "collapsed": false
   },
   "id": "f92a03d13214a776",
   "execution_count": null
  },
  {
   "cell_type": "code",
   "outputs": [],
   "source": [
    "# Add a softmax layer to our model and apply our test data\n",
    "# probability_model = tf.keras.Sequential([model, tf.keras.layers.Softmax()])\n",
    "# image_batch, label_batch = test_dataset.as_numpy_iterator().next()\n",
    "# predictions = probability_model.predict(image_batch)"
   ],
   "metadata": {
    "collapsed": false
   },
   "id": "ad81f8da2af10c17",
   "execution_count": null
  },
  {
   "cell_type": "code",
   "outputs": [],
   "source": [
    "# plt.figure(figsize=(10, 10))\n",
    "# for i in range(9):\n",
    "#   ax = plt.subplot(3, 3, i + 1)\n",
    "#   plt.imshow(image_batch[i].astype(\"uint8\"))\n",
    "#   guess = str(class_names[np.argmax(predictions[i+9])])\n",
    "#   actual = str(class_names[label_batch[i+9]])\n",
    "#   title = \"Prediction: \" + guess + \"\\n\" + \"Actual: \" + actual\n",
    "#   plt.title(title)\n",
    "#   plt.axis(\"off\")"
   ],
   "metadata": {
    "collapsed": false
   },
   "id": "b59860dda114fbe7",
   "execution_count": null
  }
 ],
 "metadata": {
  "kernelspec": {
   "display_name": "Python 3",
   "language": "python",
   "name": "python3"
  },
  "language_info": {
   "codemirror_mode": {
    "name": "ipython",
    "version": 2
   },
   "file_extension": ".py",
   "mimetype": "text/x-python",
   "name": "python",
   "nbconvert_exporter": "python",
   "pygments_lexer": "ipython2",
   "version": "2.7.6"
  }
 },
 "nbformat": 4,
 "nbformat_minor": 5
}
