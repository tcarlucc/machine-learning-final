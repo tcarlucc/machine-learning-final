{
 "cells": [
  {
   "cell_type": "code",
   "execution_count": 2,
   "id": "initial_id",
   "metadata": {
    "collapsed": true,
    "ExecuteTime": {
     "end_time": "2024-03-17T02:06:48.323134Z",
     "start_time": "2024-03-17T02:06:47.334119Z"
    }
   },
   "outputs": [],
   "source": [
    "# Importing libraries\n",
    "import os\n",
    "import warnings\n",
    "warnings.filterwarnings('ignore')\n",
    "\n",
    "import numpy as np \n",
    "import pandas as pd\n",
    "import matplotlib.pyplot as plt\n",
    "plt.style.use('fivethirtyeight') \n",
    "\n",
    "import math\n",
    "\n",
    "from datetime import datetime, timedelta\n",
    "\n",
    "from yahoofinancials import YahooFinancials\n",
    "from joblib import Memory"
   ]
  },
  {
   "cell_type": "markdown",
   "source": [],
   "metadata": {
    "collapsed": false
   },
   "id": "4a3e1141b7ae94e1"
  },
  {
   "cell_type": "code",
   "outputs": [],
   "source": [
    "# Create a list of stocks from the directory. These will be used to while creating a dataframe\n",
    "list_of_stocks = os.listdir(\"Data/Stocks\")"
   ],
   "metadata": {
    "collapsed": false,
    "ExecuteTime": {
     "end_time": "2024-03-17T02:08:29.180184Z",
     "start_time": "2024-03-17T02:08:29.157149Z"
    }
   },
   "id": "b48f9872f0c47830",
   "execution_count": 4
  },
  {
   "cell_type": "code",
   "outputs": [],
   "source": [
    "# Create Stock Dataframe. Take the first n stocks from the list and create a dataframe from them\n",
    "def create_stock_dataframe(n):\n",
    "    stocks = pd.DataFrame({'Ticker' : []})\n",
    "    \n",
    "    for i in range(0, n):\n",
    "        # Read through the documents, adding in \n",
    "        data = pd.read_csv('Data/Stocks/' + list_of_stocks[i])\n",
    "        data['Date'] = pd.to_datetime(data['Date'])\n",
    "        data = data.set_index('Date')\n",
    "        ticker =  list_of_stocks[i].split('.')[0]\n",
    "        data = data['2016':'2017'].drop(['Open', 'High', 'Low', 'Volume', 'OpenInt'], axis=1).T\n",
    "        data.insert(0, 'Ticker', ticker)\n",
    "        data.insert(1, 'Pattern', \"\")\n",
    "        stocks = pd.concat([stocks, data])\n",
    "    return stocks"
   ],
   "metadata": {
    "collapsed": false,
    "ExecuteTime": {
     "end_time": "2024-03-17T03:42:19.537963Z",
     "start_time": "2024-03-17T03:42:19.522440Z"
    }
   },
   "id": "946f074d951c968",
   "execution_count": 172
  },
  {
   "cell_type": "code",
   "outputs": [
    {
     "data": {
      "text/plain": "      Ticker Pattern  2016-01-04 00:00:00  2016-01-05 00:00:00  \\\nClose      a                       39.979               39.842   \nClose     aa                       21.365               20.398   \nClose   aaap                       30.670               30.880   \nClose   aaba                       31.400               32.200   \nClose    aac                       18.520               19.460   \n\n       2016-01-06 00:00:00  2016-01-07 00:00:00  2016-01-08 00:00:00  \\\nClose               40.018               38.317               37.916   \nClose               18.946               18.197               17.757   \nClose               29.960               29.650               28.000   \nClose               32.160               30.160               30.630   \nClose               19.010               18.200               18.110   \n\n       2016-01-11 00:00:00  2016-01-12 00:00:00  2016-01-13 00:00:00  ...  \\\nClose               37.278               37.523               36.216  ...   \nClose               17.603               16.018               15.688  ...   \nClose               26.790               24.710               26.090  ...   \nClose               30.170               30.690               29.440  ...   \nClose               17.460               16.900               16.240  ...   \n\n       2017-10-30 00:00:00  2017-10-31 00:00:00  2017-11-01 00:00:00  \\\nClose                67.49                68.03                68.02   \nClose                47.42                47.78                47.70   \nClose                80.50                81.00                81.03   \nClose                68.86                70.12                70.59   \nClose                 8.20                 7.92                 7.55   \n\n       2017-11-02 00:00:00  2017-11-03 00:00:00  2017-11-06 00:00:00  \\\nClose                68.13                68.37                68.22   \nClose                47.46                47.12                47.29   \nClose                81.00                80.99                80.96   \nClose                70.51                70.23                71.71   \nClose                10.02                10.08                11.14   \n\n       2017-11-07 00:00:00  2017-11-08 00:00:00  2017-11-09 00:00:00  \\\nClose                68.25                68.11                67.47   \nClose                46.97                45.89                43.33   \nClose                81.00                80.93                81.00   \nClose                72.22                71.16                70.19   \nClose                11.07                11.11                10.88   \n\n       2017-11-10 00:00:00  \nClose                66.81  \nClose                43.01  \nClose                80.98  \nClose                70.56  \nClose                11.28  \n\n[5 rows x 472 columns]",
      "text/html": "<div>\n<style scoped>\n    .dataframe tbody tr th:only-of-type {\n        vertical-align: middle;\n    }\n\n    .dataframe tbody tr th {\n        vertical-align: top;\n    }\n\n    .dataframe thead th {\n        text-align: right;\n    }\n</style>\n<table border=\"1\" class=\"dataframe\">\n  <thead>\n    <tr style=\"text-align: right;\">\n      <th></th>\n      <th>Ticker</th>\n      <th>Pattern</th>\n      <th>2016-01-04 00:00:00</th>\n      <th>2016-01-05 00:00:00</th>\n      <th>2016-01-06 00:00:00</th>\n      <th>2016-01-07 00:00:00</th>\n      <th>2016-01-08 00:00:00</th>\n      <th>2016-01-11 00:00:00</th>\n      <th>2016-01-12 00:00:00</th>\n      <th>2016-01-13 00:00:00</th>\n      <th>...</th>\n      <th>2017-10-30 00:00:00</th>\n      <th>2017-10-31 00:00:00</th>\n      <th>2017-11-01 00:00:00</th>\n      <th>2017-11-02 00:00:00</th>\n      <th>2017-11-03 00:00:00</th>\n      <th>2017-11-06 00:00:00</th>\n      <th>2017-11-07 00:00:00</th>\n      <th>2017-11-08 00:00:00</th>\n      <th>2017-11-09 00:00:00</th>\n      <th>2017-11-10 00:00:00</th>\n    </tr>\n  </thead>\n  <tbody>\n    <tr>\n      <th>Close</th>\n      <td>a</td>\n      <td></td>\n      <td>39.979</td>\n      <td>39.842</td>\n      <td>40.018</td>\n      <td>38.317</td>\n      <td>37.916</td>\n      <td>37.278</td>\n      <td>37.523</td>\n      <td>36.216</td>\n      <td>...</td>\n      <td>67.49</td>\n      <td>68.03</td>\n      <td>68.02</td>\n      <td>68.13</td>\n      <td>68.37</td>\n      <td>68.22</td>\n      <td>68.25</td>\n      <td>68.11</td>\n      <td>67.47</td>\n      <td>66.81</td>\n    </tr>\n    <tr>\n      <th>Close</th>\n      <td>aa</td>\n      <td></td>\n      <td>21.365</td>\n      <td>20.398</td>\n      <td>18.946</td>\n      <td>18.197</td>\n      <td>17.757</td>\n      <td>17.603</td>\n      <td>16.018</td>\n      <td>15.688</td>\n      <td>...</td>\n      <td>47.42</td>\n      <td>47.78</td>\n      <td>47.70</td>\n      <td>47.46</td>\n      <td>47.12</td>\n      <td>47.29</td>\n      <td>46.97</td>\n      <td>45.89</td>\n      <td>43.33</td>\n      <td>43.01</td>\n    </tr>\n    <tr>\n      <th>Close</th>\n      <td>aaap</td>\n      <td></td>\n      <td>30.670</td>\n      <td>30.880</td>\n      <td>29.960</td>\n      <td>29.650</td>\n      <td>28.000</td>\n      <td>26.790</td>\n      <td>24.710</td>\n      <td>26.090</td>\n      <td>...</td>\n      <td>80.50</td>\n      <td>81.00</td>\n      <td>81.03</td>\n      <td>81.00</td>\n      <td>80.99</td>\n      <td>80.96</td>\n      <td>81.00</td>\n      <td>80.93</td>\n      <td>81.00</td>\n      <td>80.98</td>\n    </tr>\n    <tr>\n      <th>Close</th>\n      <td>aaba</td>\n      <td></td>\n      <td>31.400</td>\n      <td>32.200</td>\n      <td>32.160</td>\n      <td>30.160</td>\n      <td>30.630</td>\n      <td>30.170</td>\n      <td>30.690</td>\n      <td>29.440</td>\n      <td>...</td>\n      <td>68.86</td>\n      <td>70.12</td>\n      <td>70.59</td>\n      <td>70.51</td>\n      <td>70.23</td>\n      <td>71.71</td>\n      <td>72.22</td>\n      <td>71.16</td>\n      <td>70.19</td>\n      <td>70.56</td>\n    </tr>\n    <tr>\n      <th>Close</th>\n      <td>aac</td>\n      <td></td>\n      <td>18.520</td>\n      <td>19.460</td>\n      <td>19.010</td>\n      <td>18.200</td>\n      <td>18.110</td>\n      <td>17.460</td>\n      <td>16.900</td>\n      <td>16.240</td>\n      <td>...</td>\n      <td>8.20</td>\n      <td>7.92</td>\n      <td>7.55</td>\n      <td>10.02</td>\n      <td>10.08</td>\n      <td>11.14</td>\n      <td>11.07</td>\n      <td>11.11</td>\n      <td>10.88</td>\n      <td>11.28</td>\n    </tr>\n  </tbody>\n</table>\n<p>5 rows × 472 columns</p>\n</div>"
     },
     "execution_count": 173,
     "metadata": {},
     "output_type": "execute_result"
    }
   ],
   "source": [
    "stock_data = create_stock_dataframe(15)\n",
    "stock_data.head()"
   ],
   "metadata": {
    "collapsed": false,
    "ExecuteTime": {
     "end_time": "2024-03-17T03:42:22.782435Z",
     "start_time": "2024-03-17T03:42:22.697805Z"
    }
   },
   "id": "25da5cec2b5d0c1a",
   "execution_count": 173
  },
  {
   "cell_type": "code",
   "outputs": [],
   "source": [
    "def create_charts(data):\n",
    "    data.iloc[1].plot() \n",
    "    plt.title('Closing price of' + '' + 'over time (Monthly frequency)')"
   ],
   "metadata": {
    "collapsed": false,
    "ExecuteTime": {
     "end_time": "2024-03-17T03:32:24.973873Z",
     "start_time": "2024-03-17T03:32:24.956345Z"
    }
   },
   "id": "a0446b81945c3ea",
   "execution_count": 149
  },
  {
   "cell_type": "code",
   "outputs": [
    {
     "data": {
      "text/plain": "'a'"
     },
     "execution_count": 175,
     "metadata": {},
     "output_type": "execute_result"
    }
   ],
   "source": [
    "stock_data['Ticker'][0]"
   ],
   "metadata": {
    "collapsed": false,
    "ExecuteTime": {
     "end_time": "2024-03-17T03:42:28.495189Z",
     "start_time": "2024-03-17T03:42:28.477662Z"
    }
   },
   "id": "87a1760b478bf22d",
   "execution_count": 175
  },
  {
   "cell_type": "code",
   "outputs": [],
   "source": [
    "%%capture\n",
    "fig = plt.figure(figsize=(40, 20))\n",
    "stock_data.iloc[0][2:-1].interpolate().plot()\n",
    "\n",
    "plt.savefig('Images/' + stock_data['Ticker'][0] + '.png')"
   ],
   "metadata": {
    "collapsed": false,
    "ExecuteTime": {
     "end_time": "2024-03-17T03:50:49.202958Z",
     "start_time": "2024-03-17T03:50:48.667136Z"
    }
   },
   "id": "4d286afc78701ce3",
   "execution_count": 183
  }
 ],
 "metadata": {
  "kernelspec": {
   "display_name": "Python 3",
   "language": "python",
   "name": "python3"
  },
  "language_info": {
   "codemirror_mode": {
    "name": "ipython",
    "version": 2
   },
   "file_extension": ".py",
   "mimetype": "text/x-python",
   "name": "python",
   "nbconvert_exporter": "python",
   "pygments_lexer": "ipython2",
   "version": "2.7.6"
  }
 },
 "nbformat": 4,
 "nbformat_minor": 5
}
