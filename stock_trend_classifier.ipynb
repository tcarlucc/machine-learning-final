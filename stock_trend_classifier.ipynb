{
 "cells": [
  {
   "cell_type": "code",
   "execution_count": 2,
   "id": "initial_id",
   "metadata": {
    "collapsed": true,
    "ExecuteTime": {
     "end_time": "2024-03-17T02:06:48.323134Z",
     "start_time": "2024-03-17T02:06:47.334119Z"
    }
   },
   "outputs": [],
   "source": [
    "# Importing libraries\n",
    "import os\n",
    "import warnings\n",
    "warnings.filterwarnings('ignore')\n",
    "\n",
    "import numpy as np \n",
    "import pandas as pd\n",
    "import matplotlib.pyplot as plt\n",
    "plt.style.use('fivethirtyeight') \n",
    "\n",
    "import math\n",
    "\n",
    "from datetime import datetime, timedelta\n",
    "\n",
    "from yahoofinancials import YahooFinancials\n",
    "from joblib import Memory"
   ]
  },
  {
   "cell_type": "markdown",
   "source": [],
   "metadata": {
    "collapsed": false
   },
   "id": "4a3e1141b7ae94e1"
  },
  {
   "cell_type": "code",
   "outputs": [],
   "source": [
    "# Create a list of stocks from the directory. These will be used to while creating a dataframe\n",
    "list_of_stocks = os.listdir(\"Data/Stocks\")"
   ],
   "metadata": {
    "collapsed": false,
    "ExecuteTime": {
     "end_time": "2024-03-17T02:08:29.180184Z",
     "start_time": "2024-03-17T02:08:29.157149Z"
    }
   },
   "id": "b48f9872f0c47830",
   "execution_count": 4
  },
  {
   "cell_type": "code",
   "outputs": [],
   "source": [
    "# Create Stock Dataframe. Take the first n stocks from the list and create a dataframe from them\n",
    "def create_stock_dataframe(n):\n",
    "    stocks = pd.DataFrame({'Ticker' : []})\n",
    "    \n",
    "    for i in range(0, n):\n",
    "        # Read through the documents, reformatting the datatime so it can be used with pandas\n",
    "        data = pd.read_csv('Data/Stocks/' + list_of_stocks[i])\n",
    "        data['Date'] = pd.to_datetime(data['Date'])\n",
    "        data = data.set_index('Date')\n",
    "        ticker =  list_of_stocks[i].split('.')[0]\n",
    "        # Drop irrelevent columns and select desired range\n",
    "        # here I am selecting January and February from 2016\n",
    "        data = data['2016-01':'2016-2'].drop(['Open', 'High', 'Low', 'Volume', 'OpenInt'], axis=1).T\n",
    "        data.insert(0, 'Ticker', ticker)\n",
    "        data.insert(1, 'Pattern', \"\")\n",
    "        # Add the stock to the main dataframe, stocks\n",
    "        stocks = pd.concat([stocks, data])\n",
    "    return stocks"
   ],
   "metadata": {
    "collapsed": false,
    "ExecuteTime": {
     "end_time": "2024-03-17T14:34:26.002184Z",
     "start_time": "2024-03-17T14:34:25.996677Z"
    }
   },
   "id": "946f074d951c968",
   "execution_count": 194
  },
  {
   "cell_type": "code",
   "outputs": [
    {
     "data": {
      "text/plain": "      Ticker Pattern  2016-01-04 00:00:00  2016-01-05 00:00:00  \\\nClose      a                       39.979               39.842   \nClose     aa                       21.365               20.398   \nClose   aaap                       30.670               30.880   \nClose   aaba                       31.400               32.200   \nClose    aac                       18.520               19.460   \n\n       2016-01-06 00:00:00  2016-01-07 00:00:00  2016-01-08 00:00:00  \\\nClose               40.018               38.317               37.916   \nClose               18.946               18.197               17.757   \nClose               29.960               29.650               28.000   \nClose               32.160               30.160               30.630   \nClose               19.010               18.200               18.110   \n\n       2016-01-11 00:00:00  2016-01-12 00:00:00  2016-01-13 00:00:00  ...  \\\nClose               37.278               37.523               36.216  ...   \nClose               17.603               16.018               15.688  ...   \nClose               26.790               24.710               26.090  ...   \nClose               30.170               30.690               29.440  ...   \nClose               17.460               16.900               16.240  ...   \n\n       2016-02-16 00:00:00  2016-02-17 00:00:00  2016-02-18 00:00:00  \\\nClose               36.433               37.210               36.540   \nClose               17.944               18.829               17.944   \nClose               26.000               26.990               30.680   \nClose               29.280               29.370               29.420   \nClose               21.000               22.260               21.350   \n\n       2016-02-19 00:00:00  2016-02-22 00:00:00  2016-02-23 00:00:00  \\\nClose               36.786               37.365               36.521   \nClose               17.391               19.690               18.850   \nClose               31.100               32.000               31.330   \nClose               30.040               31.170               30.670   \nClose               21.450               22.680               23.240   \n\n       2016-02-24 00:00:00  2016-02-25 00:00:00  2016-02-26 00:00:00  \\\nClose               36.826               36.971               36.933   \nClose               19.359               19.601               19.601   \nClose               32.840               33.000               32.980   \nClose               30.950               31.360               31.370   \nClose               23.060               22.730               21.740   \n\n       2016-02-29 00:00:00  \nClose               36.698  \nClose               19.735  \nClose               33.635  \nClose               31.790  \nClose               20.400  \n\n[5 rows x 41 columns]",
      "text/html": "<div>\n<style scoped>\n    .dataframe tbody tr th:only-of-type {\n        vertical-align: middle;\n    }\n\n    .dataframe tbody tr th {\n        vertical-align: top;\n    }\n\n    .dataframe thead th {\n        text-align: right;\n    }\n</style>\n<table border=\"1\" class=\"dataframe\">\n  <thead>\n    <tr style=\"text-align: right;\">\n      <th></th>\n      <th>Ticker</th>\n      <th>Pattern</th>\n      <th>2016-01-04 00:00:00</th>\n      <th>2016-01-05 00:00:00</th>\n      <th>2016-01-06 00:00:00</th>\n      <th>2016-01-07 00:00:00</th>\n      <th>2016-01-08 00:00:00</th>\n      <th>2016-01-11 00:00:00</th>\n      <th>2016-01-12 00:00:00</th>\n      <th>2016-01-13 00:00:00</th>\n      <th>...</th>\n      <th>2016-02-16 00:00:00</th>\n      <th>2016-02-17 00:00:00</th>\n      <th>2016-02-18 00:00:00</th>\n      <th>2016-02-19 00:00:00</th>\n      <th>2016-02-22 00:00:00</th>\n      <th>2016-02-23 00:00:00</th>\n      <th>2016-02-24 00:00:00</th>\n      <th>2016-02-25 00:00:00</th>\n      <th>2016-02-26 00:00:00</th>\n      <th>2016-02-29 00:00:00</th>\n    </tr>\n  </thead>\n  <tbody>\n    <tr>\n      <th>Close</th>\n      <td>a</td>\n      <td></td>\n      <td>39.979</td>\n      <td>39.842</td>\n      <td>40.018</td>\n      <td>38.317</td>\n      <td>37.916</td>\n      <td>37.278</td>\n      <td>37.523</td>\n      <td>36.216</td>\n      <td>...</td>\n      <td>36.433</td>\n      <td>37.210</td>\n      <td>36.540</td>\n      <td>36.786</td>\n      <td>37.365</td>\n      <td>36.521</td>\n      <td>36.826</td>\n      <td>36.971</td>\n      <td>36.933</td>\n      <td>36.698</td>\n    </tr>\n    <tr>\n      <th>Close</th>\n      <td>aa</td>\n      <td></td>\n      <td>21.365</td>\n      <td>20.398</td>\n      <td>18.946</td>\n      <td>18.197</td>\n      <td>17.757</td>\n      <td>17.603</td>\n      <td>16.018</td>\n      <td>15.688</td>\n      <td>...</td>\n      <td>17.944</td>\n      <td>18.829</td>\n      <td>17.944</td>\n      <td>17.391</td>\n      <td>19.690</td>\n      <td>18.850</td>\n      <td>19.359</td>\n      <td>19.601</td>\n      <td>19.601</td>\n      <td>19.735</td>\n    </tr>\n    <tr>\n      <th>Close</th>\n      <td>aaap</td>\n      <td></td>\n      <td>30.670</td>\n      <td>30.880</td>\n      <td>29.960</td>\n      <td>29.650</td>\n      <td>28.000</td>\n      <td>26.790</td>\n      <td>24.710</td>\n      <td>26.090</td>\n      <td>...</td>\n      <td>26.000</td>\n      <td>26.990</td>\n      <td>30.680</td>\n      <td>31.100</td>\n      <td>32.000</td>\n      <td>31.330</td>\n      <td>32.840</td>\n      <td>33.000</td>\n      <td>32.980</td>\n      <td>33.635</td>\n    </tr>\n    <tr>\n      <th>Close</th>\n      <td>aaba</td>\n      <td></td>\n      <td>31.400</td>\n      <td>32.200</td>\n      <td>32.160</td>\n      <td>30.160</td>\n      <td>30.630</td>\n      <td>30.170</td>\n      <td>30.690</td>\n      <td>29.440</td>\n      <td>...</td>\n      <td>29.280</td>\n      <td>29.370</td>\n      <td>29.420</td>\n      <td>30.040</td>\n      <td>31.170</td>\n      <td>30.670</td>\n      <td>30.950</td>\n      <td>31.360</td>\n      <td>31.370</td>\n      <td>31.790</td>\n    </tr>\n    <tr>\n      <th>Close</th>\n      <td>aac</td>\n      <td></td>\n      <td>18.520</td>\n      <td>19.460</td>\n      <td>19.010</td>\n      <td>18.200</td>\n      <td>18.110</td>\n      <td>17.460</td>\n      <td>16.900</td>\n      <td>16.240</td>\n      <td>...</td>\n      <td>21.000</td>\n      <td>22.260</td>\n      <td>21.350</td>\n      <td>21.450</td>\n      <td>22.680</td>\n      <td>23.240</td>\n      <td>23.060</td>\n      <td>22.730</td>\n      <td>21.740</td>\n      <td>20.400</td>\n    </tr>\n  </tbody>\n</table>\n<p>5 rows × 41 columns</p>\n</div>"
     },
     "execution_count": 195,
     "metadata": {},
     "output_type": "execute_result"
    }
   ],
   "source": [
    "stock_data = create_stock_dataframe(15)\n",
    "stock_data.head()"
   ],
   "metadata": {
    "collapsed": false,
    "ExecuteTime": {
     "end_time": "2024-03-17T14:34:27.647706Z",
     "start_time": "2024-03-17T14:34:27.487961Z"
    }
   },
   "id": "25da5cec2b5d0c1a",
   "execution_count": 195
  },
  {
   "cell_type": "code",
   "outputs": [],
   "source": [
    "%%capture\n",
    "# Capture restricts the cell from producing output into the notebook\n",
    "# For each stock, create a graph and save it\n",
    "def create_charts(data):\n",
    "    for i in range(0, len(data)):\n",
    "        plt.figure(figsize=(40, 20))\n",
    "        data.iloc[i][2:-1].interpolate().plot()\n",
    "        \n",
    "        plt.savefig('Images/' + stock_data['Ticker'][i] + '.png')"
   ],
   "metadata": {
    "collapsed": false,
    "ExecuteTime": {
     "end_time": "2024-03-17T14:32:11.566680Z",
     "start_time": "2024-03-17T14:32:11.561172Z"
    }
   },
   "id": "a0446b81945c3ea",
   "execution_count": 191
  },
  {
   "cell_type": "code",
   "outputs": [],
   "source": [
    "%%capture\n",
    "create_charts(stock_data)"
   ],
   "metadata": {
    "collapsed": false,
    "ExecuteTime": {
     "end_time": "2024-03-17T14:32:35.038647Z",
     "start_time": "2024-03-17T14:32:27.566698Z"
    }
   },
   "id": "4d286afc78701ce3",
   "execution_count": 193
  },
  {
   "cell_type": "code",
   "outputs": [],
   "source": [],
   "metadata": {
    "collapsed": false
   },
   "id": "8202ce6ad25c12fd"
  }
 ],
 "metadata": {
  "kernelspec": {
   "display_name": "Python 3",
   "language": "python",
   "name": "python3"
  },
  "language_info": {
   "codemirror_mode": {
    "name": "ipython",
    "version": 2
   },
   "file_extension": ".py",
   "mimetype": "text/x-python",
   "name": "python",
   "nbconvert_exporter": "python",
   "pygments_lexer": "ipython2",
   "version": "2.7.6"
  }
 },
 "nbformat": 4,
 "nbformat_minor": 5
}
