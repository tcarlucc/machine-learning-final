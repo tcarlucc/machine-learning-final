{
 "cells": [
  {
   "cell_type": "code",
   "execution_count": 198,
   "id": "initial_id",
   "metadata": {
    "collapsed": true,
    "ExecuteTime": {
     "end_time": "2024-03-17T16:51:58.668805Z",
     "start_time": "2024-03-17T16:51:58.633251Z"
    }
   },
   "outputs": [],
   "source": [
    "# Importing libraries\n",
    "import os\n",
    "import warnings\n",
    "warnings.filterwarnings('ignore')\n",
    "\n",
    "import numpy as np \n",
    "import pandas as pd\n",
    "import matplotlib.pyplot as plt\n",
    "plt.style.use('fivethirtyeight') \n",
    "\n",
    "import math\n",
    "\n",
    "from datetime import datetime, timedelta\n",
    "\n",
    "import yfinance as yf\n",
    "\n",
    "from joblib import Memory"
   ]
  },
  {
   "cell_type": "markdown",
   "source": [],
   "metadata": {
    "collapsed": false
   },
   "id": "4a3e1141b7ae94e1"
  },
  {
   "cell_type": "code",
   "outputs": [
    {
     "name": "stdout",
     "output_type": "stream",
     "text": [
      "  Symbol     Security             GICS Sector               GICS Sub-Industry  \\\n",
      "0    MMM           3M             Industrials        Industrial Conglomerates   \n",
      "1    AOS  A. O. Smith             Industrials               Building Products   \n",
      "2    ABT       Abbott             Health Care           Health Care Equipment   \n",
      "3   ABBV       AbbVie             Health Care                   Biotechnology   \n",
      "4    ACN    Accenture  Information Technology  IT Consulting & Other Services   \n",
      "\n",
      "     Headquarters Location  Date added      CIK      Founded  \n",
      "0    Saint Paul, Minnesota  1957-03-04    66740         1902  \n",
      "1     Milwaukee, Wisconsin  2017-07-26    91142         1916  \n",
      "2  North Chicago, Illinois  1957-03-04     1800         1888  \n",
      "3  North Chicago, Illinois  2012-12-31  1551152  2013 (1888)  \n",
      "4          Dublin, Ireland  2011-07-06  1467373         1989  \n"
     ]
    },
    {
     "name": "stderr",
     "output_type": "stream",
     "text": [
      "[*********************100%%**********************]  503 of 503 completed\n",
      "\n",
      "6 Failed downloads:\n",
      "['BRK.B']: Exception('%ticker%: No timezone found, symbol may be delisted')\n",
      "['BF.B']: Exception('%ticker%: No price data found, symbol may be delisted (1d 2021-1-1 -> 2021-7-12)')\n",
      "['GEHC', 'VLTO', 'KVUE', 'CEG']: Exception(\"%ticker%: Data doesn't exist for startDate = 1609477200, endDate = 1626062400\")\n"
     ]
    }
   ],
   "source": [
    "# Read and print the stock tickers that make up S&P500\n",
    "tickers = pd.read_html(\n",
    "    'https://en.wikipedia.org/wiki/List_of_S%26P_500_companies')[0]\n",
    "\n",
    "# Get the data for these tickers from yahoo finance\n",
    "yf_top500 = yf.download(tickers.Symbol.to_list(),'2021-1-1','2021-7-12', auto_adjust=True)['Close']"
   ],
   "metadata": {
    "collapsed": false,
    "ExecuteTime": {
     "end_time": "2024-03-17T16:55:32.442385Z",
     "start_time": "2024-03-17T16:55:20.303784Z"
    }
   },
   "id": "3576b9904841f788",
   "execution_count": 209
  },
  {
   "cell_type": "code",
   "outputs": [
    {
     "data": {
      "text/plain": "503"
     },
     "execution_count": 210,
     "metadata": {},
     "output_type": "execute_result"
    }
   ],
   "source": [
    "top_500_stock_list = yf_top500.columns.to_list()\n",
    "len(top_500_stock_list)"
   ],
   "metadata": {
    "collapsed": false,
    "ExecuteTime": {
     "end_time": "2024-03-17T16:55:40.701040Z",
     "start_time": "2024-03-17T16:55:40.690524Z"
    }
   },
   "id": "2df324801f2448ad",
   "execution_count": 210
  },
  {
   "cell_type": "code",
   "outputs": [
    {
     "data": {
      "text/plain": "['a.us.txt',\n 'aa.us.txt',\n 'aaap.us.txt',\n 'aaba.us.txt',\n 'aac.us.txt',\n 'aal.us.txt',\n 'aamc.us.txt',\n 'aame.us.txt',\n 'aan.us.txt',\n 'aaoi.us.txt',\n 'aaon.us.txt',\n 'aap.us.txt',\n 'aapl.us.txt',\n 'aat.us.txt',\n 'aau.us.txt',\n 'aav.us.txt',\n 'aaww.us.txt',\n 'aaxn.us.txt',\n 'ab.us.txt',\n 'abac.us.txt',\n 'abax.us.txt',\n 'abb.us.txt',\n 'abbv.us.txt',\n 'abc.us.txt',\n 'abcb.us.txt',\n 'abcd.us.txt',\n 'abco.us.txt',\n 'abdc.us.txt',\n 'abe.us.txt',\n 'abeo.us.txt',\n 'abeow.us.txt',\n 'abev.us.txt',\n 'abg.us.txt',\n 'abil.us.txt',\n 'abio.us.txt',\n 'ablx.us.txt',\n 'abm.us.txt',\n 'abmd.us.txt',\n 'abr.us.txt',\n 'abrn.us.txt',\n 'abr_a.us.txt',\n 'abr_b.us.txt',\n 'abr_c.us.txt',\n 'abt.us.txt',\n 'abtx.us.txt',\n 'abus.us.txt',\n 'abx.us.txt',\n 'aby.us.txt',\n 'ac.us.txt',\n 'acad.us.txt',\n 'acbi.us.txt',\n 'acc.us.txt',\n 'acco.us.txt',\n 'accp.us.txt',\n 'acer.us.txt',\n 'acerw.us.txt',\n 'acet.us.txt',\n 'acfc.us.txt',\n 'acgl.us.txt',\n 'acglo.us.txt',\n 'acglp.us.txt',\n 'ach.us.txt',\n 'achc.us.txt',\n 'achn.us.txt',\n 'achv.us.txt',\n 'acia.us.txt',\n 'aciu.us.txt',\n 'aciw.us.txt',\n 'acls.us.txt',\n 'acm.us.txt',\n 'acmr.us.txt',\n 'acn.us.txt',\n 'acnb.us.txt',\n 'acor.us.txt',\n 'acp.us.txt',\n 'acre.us.txt',\n 'acrs.us.txt',\n 'acrx.us.txt',\n 'acsf.us.txt',\n 'acsi.us.txt',\n 'acst.us.txt',\n 'acta.us.txt',\n 'actg.us.txt',\n 'acu.us.txt',\n 'acv.us.txt',\n 'acxm.us.txt',\n 'acy.us.txt',\n 'adap.us.txt',\n 'adbe.us.txt',\n 'adc.us.txt',\n 'ades.us.txt',\n 'adhd.us.txt',\n 'adi.us.txt',\n 'adm.us.txt',\n 'adma.us.txt',\n 'admp.us.txt',\n 'adms.us.txt',\n 'adnt.us.txt',\n 'adom.us.txt',\n 'adp.us.txt',\n 'adro.us.txt',\n 'ads.us.txt',\n 'adsk.us.txt',\n 'adsw.us.txt',\n 'adtn.us.txt',\n 'adus.us.txt',\n 'advm.us.txt',\n 'adx.us.txt',\n 'adxs.us.txt',\n 'adxsw.us.txt',\n 'ae.us.txt',\n 'aeb.us.txt',\n 'aed.us.txt',\n 'aee.us.txt',\n 'aeg.us.txt',\n 'aegn.us.txt',\n 'aeh.us.txt',\n 'aehr.us.txt',\n 'aeis.us.txt',\n 'aek.us.txt',\n 'ael.us.txt',\n 'aem.us.txt',\n 'aemd.us.txt',\n 'aeo.us.txt',\n 'aep.us.txt',\n 'aer.us.txt',\n 'aeri.us.txt',\n 'aes.us.txt',\n 'aet.us.txt',\n 'aeti.us.txt',\n 'aeua.us.txt',\n 'aey.us.txt',\n 'aezs.us.txt',\n 'afam.us.txt',\n 'afb.us.txt',\n 'afc.us.txt',\n 'afg.us.txt',\n 'afge.us.txt',\n 'afgh.us.txt',\n 'afh.us.txt',\n 'afhbl.us.txt',\n 'afi.us.txt',\n 'afl.us.txt',\n 'afmd.us.txt',\n 'afsd.us.txt',\n 'afsi.us.txt',\n 'afsi_a.us.txt',\n 'afsi_b.us.txt',\n 'afsi_c.us.txt',\n 'afsi_d.us.txt',\n 'afsi_e.us.txt',\n 'afsi_f.us.txt',\n 'afss.us.txt',\n 'afst.us.txt',\n 'aft.us.txt',\n 'afty.us.txt',\n 'ag.us.txt',\n 'agc.us.txt',\n 'agco.us.txt',\n 'agd.us.txt',\n 'agen.us.txt',\n 'agfs.us.txt',\n 'agfsw.us.txt',\n 'agge.us.txt',\n 'aggp.us.txt',\n 'aggy.us.txt',\n 'agi.us.txt',\n 'agii.us.txt',\n 'agiil.us.txt',\n 'agio.us.txt',\n 'agle.us.txt',\n 'agm-a.us.txt',\n 'agm.us.txt',\n 'agm_a.us.txt',\n 'agm_b.us.txt',\n 'agm_c.us.txt',\n 'agn.us.txt',\n 'agnc.us.txt',\n 'agncb.us.txt',\n 'agncn.us.txt',\n 'agn_a.us.txt',\n 'ago.us.txt',\n 'ago_b.us.txt',\n 'ago_e.us.txt',\n 'ago_f.us.txt',\n 'agr.us.txt',\n 'agro.us.txt',\n 'agrx.us.txt',\n 'agt.us.txt',\n 'agtc.us.txt',\n 'agu.us.txt',\n 'agx.us.txt',\n 'agys.us.txt',\n 'ahc.us.txt',\n 'ahgp.us.txt',\n 'ahh.us.txt',\n 'ahl.us.txt',\n 'ahl_c.us.txt',\n 'ahl_d.us.txt',\n 'ahp.us.txt',\n 'ahpa.us.txt',\n 'ahpau.us.txt',\n 'ahpaw.us.txt',\n 'ahpi.us.txt',\n 'ahp_b.us.txt',\n 'aht.us.txt',\n 'aht_d.us.txt',\n 'aht_f.us.txt',\n 'aht_g.us.txt',\n 'aht_h.us.txt',\n 'ai.us.txt',\n 'aib-cl.us.txt',\n 'aic.us.txt',\n 'aieq.us.txt',\n 'aif.us.txt',\n 'aig-ws.us.txt',\n 'aig.us.txt',\n 'aimc.us.txt',\n 'aimt.us.txt',\n 'ain.us.txt',\n 'ainc.us.txt',\n 'ainv.us.txt',\n 'air.us.txt',\n 'airg.us.txt',\n 'airi.us.txt',\n 'airt.us.txt',\n 'ait.us.txt',\n 'aiv.us.txt',\n 'aiv_a.us.txt',\n 'aiw.us.txt',\n 'aiy.us.txt',\n 'aiz.us.txt',\n 'ai_b.us.txt',\n 'ajg.us.txt',\n 'ajrd.us.txt',\n 'ajx.us.txt',\n 'ajxa.us.txt',\n 'akam.us.txt',\n 'akao.us.txt',\n 'akba.us.txt',\n 'akca.us.txt',\n 'aker.us.txt',\n 'akg.us.txt',\n 'ako-a.us.txt',\n 'ako-b.us.txt',\n 'akp.us.txt',\n 'akr.us.txt',\n 'akrx.us.txt',\n 'aks.us.txt',\n 'akts.us.txt',\n 'aktx.us.txt',\n 'al.us.txt',\n 'alb.us.txt',\n 'albo.us.txt',\n 'alco.us.txt',\n 'aldr.us.txt',\n 'aldw.us.txt',\n 'aldx.us.txt',\n 'ale.us.txt',\n 'alex.us.txt',\n 'alfi.us.txt',\n 'alg.us.txt',\n 'algn.us.txt',\n 'algt.us.txt',\n 'alim.us.txt',\n 'aljj.us.txt',\n 'alk.us.txt',\n 'alks.us.txt',\n 'all.us.txt',\n 'alle.us.txt',\n 'allt.us.txt',\n 'ally.us.txt',\n 'ally_a.us.txt',\n 'all_a.us.txt',\n 'all_b.us.txt',\n 'all_c.us.txt',\n 'all_d.us.txt',\n 'all_e.us.txt',\n 'all_f.us.txt',\n 'aln.us.txt',\n 'alna.us.txt',\n 'alny.us.txt',\n 'alo.us.txt',\n 'alog.us.txt',\n 'alot.us.txt',\n 'alpn.us.txt',\n 'alp_o-cl.us.txt',\n 'alp_q.us.txt',\n 'alqa.us.txt',\n 'alrm.us.txt',\n 'alrn.us.txt',\n 'alsk.us.txt',\n 'alsn.us.txt',\n 'alt.us.txt',\n 'altr.us.txt',\n 'alty.us.txt',\n 'alv.us.txt',\n 'alx.us.txt',\n 'alxn.us.txt',\n 'am.us.txt',\n 'amag.us.txt',\n 'amat.us.txt',\n 'amba.us.txt',\n 'ambc.us.txt',\n 'ambcw.us.txt',\n 'ambr.us.txt',\n 'amc.us.txt',\n 'amca.us.txt',\n 'amcn.us.txt',\n 'amcx.us.txt',\n 'amd.us.txt',\n 'amda.us.txt',\n 'ame.us.txt',\n 'amed.us.txt',\n 'amfw.us.txt',\n 'amg.us.txt',\n 'amgn.us.txt',\n 'amgp.us.txt',\n 'amh.us.txt',\n 'amh_c.us.txt',\n 'amh_d.us.txt',\n 'amh_e.us.txt',\n 'amh_f.us.txt',\n 'amh_g.us.txt',\n 'amid.us.txt',\n 'amkr.us.txt',\n 'amlx.us.txt',\n 'amma.us.txt',\n 'amn.us.txt',\n 'amnb.us.txt',\n 'amot.us.txt',\n 'amov.us.txt',\n 'amp.us.txt',\n 'ampe.us.txt',\n 'amph.us.txt',\n 'amrb.us.txt',\n 'amrc.us.txt',\n 'amrh.us.txt',\n 'amrhw.us.txt',\n 'amrk.us.txt',\n 'amrn.us.txt',\n 'amrs.us.txt',\n 'ams.us.txt',\n 'amsc.us.txt',\n 'amsf.us.txt',\n 'amswa.us.txt',\n 'amt.us.txt',\n 'amtd.us.txt',\n 'amtx.us.txt',\n 'amt_b.us.txt',\n 'amwd.us.txt',\n 'amx.us.txt',\n 'amza.us.txt',\n 'amzn.us.txt',\n 'an.us.txt',\n 'anab.us.txt',\n 'anat.us.txt',\n 'ancb.us.txt',\n 'ancx.us.txt',\n 'anda.us.txt',\n 'andar.us.txt',\n 'andau.us.txt',\n 'andaw.us.txt',\n 'ande.us.txt',\n 'andv.us.txt',\n 'andx.us.txt',\n 'anet.us.txt',\n 'anf.us.txt',\n 'anfi.us.txt',\n 'angi.us.txt',\n 'ango.us.txt',\n 'anh.us.txt',\n 'anh_a.us.txt',\n 'anh_b.us.txt',\n 'anh_c.us.txt',\n 'anik.us.txt',\n 'anip.us.txt',\n 'anss.us.txt',\n 'anth.us.txt',\n 'antm.us.txt',\n 'antx.us.txt',\n 'anw.us.txt',\n 'any.us.txt',\n 'aobc.us.txt',\n 'aod.us.txt',\n 'aoi.us.txt',\n 'aon.us.txt',\n 'aos.us.txt',\n 'aosl.us.txt',\n 'aoxg.us.txt',\n 'ap.us.txt',\n 'apa.us.txt',\n 'apam.us.txt',\n 'apb.us.txt',\n 'apc.us.txt',\n 'apd.us.txt',\n 'apdn.us.txt',\n 'apdnw.us.txt',\n 'apei.us.txt',\n 'apen.us.txt',\n 'apf.us.txt',\n 'aph.us.txt',\n 'aphb.us.txt',\n 'aple.us.txt',\n 'aplp.us.txt',\n 'apls.us.txt',\n 'apo.us.txt',\n 'apog.us.txt',\n 'apop.us.txt',\n 'apopw.us.txt',\n 'apo_a.us.txt',\n 'appf.us.txt',\n 'appn.us.txt',\n 'apps.us.txt',\n 'apri.us.txt',\n 'aprn.us.txt',\n 'apt.us.txt',\n 'apti.us.txt',\n 'apto.us.txt',\n 'apts.us.txt',\n 'apu.us.txt',\n 'apvo.us.txt',\n 'apwc.us.txt',\n 'aq.us.txt',\n 'aqb.us.txt',\n 'aqms.us.txt',\n 'aqn.us.txt',\n 'aqua.us.txt',\n 'aqxp.us.txt',\n 'ar.us.txt',\n 'ara.us.txt',\n 'aray.us.txt',\n 'arc.us.txt',\n 'arcb.us.txt',\n 'arcc.us.txt',\n 'arch.us.txt',\n 'arci.us.txt',\n 'arcm.us.txt',\n 'arco.us.txt',\n 'arcw.us.txt',\n 'arcx.us.txt',\n 'ard.us.txt',\n 'ardc.us.txt',\n 'ardm.us.txt',\n 'ardx.us.txt',\n 'are.us.txt',\n 'ares.us.txt',\n 'ares_a.us.txt',\n 'arex.us.txt',\n 'are_d.us.txt',\n 'args.us.txt',\n 'argx.us.txt',\n 'arh_c.us.txt',\n 'ari.us.txt',\n 'arii.us.txt',\n 'ari_c.us.txt',\n 'arkg.us.txt',\n 'arkk.us.txt',\n 'arkq.us.txt',\n 'arkr.us.txt',\n 'arkw.us.txt',\n 'arl.us.txt',\n 'arlp.us.txt',\n 'arlz.us.txt',\n 'armk.us.txt',\n 'arna.us.txt',\n 'arnc.us.txt',\n 'arnc_.us.txt',\n 'arnc_b.us.txt',\n 'aroc.us.txt',\n 'arow.us.txt',\n 'arql.us.txt',\n 'arr.us.txt',\n 'arrs.us.txt',\n 'arry.us.txt',\n 'arr_a.us.txt',\n 'arr_b.us.txt',\n 'artna.us.txt',\n 'artw.us.txt',\n 'artx.us.txt',\n 'arw.us.txt',\n 'arwr.us.txt',\n 'asa.us.txt',\n 'asb-ws.us.txt',\n 'asb.us.txt',\n 'asb_c.us.txt',\n 'asb_d.us.txt',\n 'asc.us.txt',\n 'ascma.us.txt',\n 'aset.us.txt',\n 'asfi.us.txt',\n 'asg.us.txt',\n 'asgn.us.txt',\n 'ash.us.txt',\n 'ashx.us.txt',\n 'asix.us.txt',\n 'asm.us.txt',\n 'asmb.us.txt',\n 'asml.us.txt',\n 'asna.us.txt',\n 'asnd.us.txt',\n 'asns.us.txt',\n 'aspn.us.txt',\n 'asps.us.txt',\n 'aspu.us.txt',\n 'asr.us.txt',\n 'asrv.us.txt',\n 'asrvp.us.txt',\n 'ast.us.txt',\n 'astc.us.txt',\n 'aste.us.txt',\n 'asur.us.txt',\n 'asv.us.txt',\n 'asx.us.txt',\n 'asys.us.txt',\n 'at.us.txt',\n 'atac.us.txt',\n 'atacr.us.txt',\n 'atacu.us.txt',\n 'atai.us.txt',\n 'atax.us.txt',\n 'atec.us.txt',\n 'aten.us.txt',\n 'atge.us.txt',\n 'ath.us.txt',\n 'athm.us.txt',\n 'athn.us.txt',\n 'athx.us.txt',\n 'ati.us.txt',\n 'atkr.us.txt',\n 'atlc.us.txt',\n 'atlo.us.txt',\n 'atni.us.txt',\n 'atnm.us.txt',\n 'atnx.us.txt',\n 'ato.us.txt',\n 'atom.us.txt',\n 'atos.us.txt',\n 'atr.us.txt',\n 'atra.us.txt',\n 'atrc.us.txt',\n 'atri.us.txt',\n 'atro.us.txt',\n 'atrs.us.txt',\n 'atsg.us.txt',\n 'atto.us.txt',\n 'attu.us.txt',\n 'atu.us.txt',\n 'atus.us.txt',\n 'atv.us.txt',\n 'atvi.us.txt',\n 'atxi.us.txt',\n 'au.us.txt',\n 'aubn.us.txt',\n 'audc.us.txt',\n 'aug.us.txt',\n 'aumn.us.txt',\n 'auo.us.txt',\n 'auph.us.txt',\n 'auto.us.txt',\n 'auy.us.txt',\n 'ava.us.txt',\n 'aval.us.txt',\n 'avav.us.txt',\n 'avb.us.txt',\n 'avd.us.txt',\n 'avdl.us.txt',\n 'aveo.us.txt',\n 'avgo.us.txt',\n 'avgr.us.txt',\n 'avh.us.txt',\n 'avhi.us.txt',\n 'avid.us.txt',\n 'avir.us.txt',\n 'avk.us.txt',\n 'avnw.us.txt',\n 'avp.us.txt',\n 'avt.us.txt',\n 'avx.us.txt',\n 'avxl.us.txt',\n 'avxs.us.txt',\n 'avy.us.txt',\n 'awf.us.txt',\n 'awi.us.txt',\n 'awk.us.txt',\n 'awp.us.txt',\n 'awr.us.txt',\n 'awre.us.txt',\n 'awx.us.txt',\n 'axas.us.txt',\n 'axdx.us.txt',\n 'axe.us.txt',\n 'axgn.us.txt',\n 'axl.us.txt',\n 'axon.us.txt',\n 'axp.us.txt',\n 'axr.us.txt',\n 'axs.us.txt',\n 'axsm.us.txt',\n 'axs_d.us.txt',\n 'axs_e.us.txt',\n 'axta.us.txt',\n 'axti.us.txt',\n 'axu.us.txt',\n 'ayi.us.txt',\n 'ayr.us.txt',\n 'aytu.us.txt',\n 'ayx.us.txt',\n 'azn.us.txt',\n 'azo.us.txt',\n 'azpn.us.txt',\n 'azre.us.txt',\n 'azrx.us.txt',\n 'azul.us.txt',\n 'azz.us.txt',\n 'b.us.txt',\n 'ba.us.txt',\n 'baa.us.txt',\n 'baba.us.txt',\n 'baby.us.txt',\n 'bac-ws-a.us.txt',\n 'bac-ws-b.us.txt',\n 'bac.us.txt',\n 'bac_a.us.txt',\n 'bac_c.us.txt',\n 'bac_d.us.txt',\n 'bac_e.us.txt',\n 'bac_i.us.txt',\n 'bac_l.us.txt',\n 'bac_w.us.txt',\n 'bac_y.us.txt',\n 'baf.us.txt',\n 'bah.us.txt',\n 'bak.us.txt',\n 'bam.us.txt',\n 'banc.us.txt',\n 'banc_c.us.txt',\n 'banc_d.us.txt',\n 'banc_e.us.txt',\n 'band.us.txt',\n 'banf.us.txt',\n 'banfp.us.txt',\n 'banr.us.txt',\n 'banx.us.txt',\n 'bap.us.txt',\n 'bar.us.txt',\n 'bas.us.txt',\n 'basi.us.txt',\n 'batra.us.txt',\n 'batrk.us.txt',\n 'bax.us.txt',\n 'bb.us.txt',\n 'bbby.us.txt',\n 'bbc.us.txt',\n 'bbd.us.txt',\n 'bbdo.us.txt',\n 'bbf.us.txt',\n 'bbg.us.txt',\n 'bbgi.us.txt',\n 'bbk.us.txt',\n 'bbl.us.txt',\n 'bbn.us.txt',\n 'bbox.us.txt',\n 'bbrg.us.txt',\n 'bbrx.us.txt',\n 'bbsi.us.txt',\n 'bbt.us.txt',\n 'bbt_d.us.txt',\n 'bbt_e.us.txt',\n 'bbt_f.us.txt',\n 'bbt_g.us.txt',\n 'bbt_h.us.txt',\n 'bbu.us.txt',\n 'bbva.us.txt',\n 'bbw.us.txt',\n 'bbx.us.txt',\n 'bby.us.txt',\n 'bc.us.txt',\n 'bcac.us.txt',\n 'bcacr.us.txt',\n 'bcacu.us.txt',\n 'bcacw.us.txt',\n 'bcbp.us.txt',\n 'bcc.us.txt',\n 'bcd.us.txt',\n 'bce.us.txt',\n 'bcei.us.txt',\n 'bch.us.txt',\n 'bci.us.txt',\n 'bcli.us.txt',\n 'bco.us.txt',\n 'bcom.us.txt',\n 'bcor.us.txt',\n 'bcov.us.txt',\n 'bcpc.us.txt',\n 'bcr.us.txt',\n 'bcrh.us.txt',\n 'bcrx.us.txt',\n 'bcs.us.txt',\n 'bcs_d.us.txt',\n 'bctf.us.txt',\n 'bcv.us.txt',\n 'bcv_a.us.txt',\n 'bcx.us.txt',\n 'bdc.us.txt',\n 'bdcz.us.txt',\n 'bdc_b.us.txt',\n 'bdge.us.txt',\n 'bdj.us.txt',\n 'bdl.us.txt',\n 'bdn.us.txt',\n 'bdr.us.txt',\n 'bdsi.us.txt',\n 'bdx.us.txt',\n 'bdxa.us.txt',\n 'beat.us.txt',\n 'bebe.us.txt',\n 'becn.us.txt',\n 'bedu.us.txt',\n 'bef.us.txt',\n 'bel.us.txt',\n 'belfa.us.txt',\n 'belfb.us.txt',\n 'bemo.us.txt',\n 'ben.us.txt',\n 'bep.us.txt',\n 'bern.us.txt',\n 'bery.us.txt',\n 'betr.us.txt',\n 'bf-a.us.txt',\n 'bf-b.us.txt',\n 'bfam.us.txt',\n 'bfin.us.txt',\n 'bfit.us.txt',\n 'bfk.us.txt',\n 'bfo.us.txt',\n 'bfr.us.txt',\n 'bfs.us.txt',\n 'bfs_c.us.txt',\n 'bfy.us.txt',\n 'bfz.us.txt',\n 'bg.us.txt',\n 'bgb.us.txt',\n 'bgc.us.txt',\n 'bgca.us.txt',\n 'bgcp.us.txt',\n 'bgfv.us.txt',\n 'bgg.us.txt',\n 'bgh.us.txt',\n 'bgi.us.txt',\n 'bgio.us.txt',\n 'bgne.us.txt',\n 'bgr.us.txt',\n 'bgs.us.txt',\n 'bgsf.us.txt',\n 'bgt.us.txt',\n 'bgx.us.txt',\n 'bgy.us.txt',\n 'bh.us.txt',\n 'bhac.us.txt',\n 'bhacr.us.txt',\n 'bhacu.us.txt',\n 'bhacw.us.txt',\n 'bhb.us.txt',\n 'bhbk.us.txt',\n 'bhe.us.txt',\n 'bhf.us.txt',\n 'bhge.us.txt',\n 'bhk.us.txt',\n 'bhlb.us.txt',\n 'bhp.us.txt',\n 'bhv.us.txt',\n 'bhvn.us.txt',\n 'bibl.us.txt',\n 'bid.us.txt',\n 'bidu.us.txt',\n 'bif.us.txt',\n 'big.us.txt',\n 'biib.us.txt',\n 'bio-b.us.txt',\n 'bio.us.txt',\n 'bioa.us.txt',\n 'bioc.us.txt',\n 'biol.us.txt',\n 'bios.us.txt',\n 'bip.us.txt',\n 'bit.us.txt',\n 'bita.us.txt',\n 'bivv.us.txt',\n 'bjri.us.txt',\n 'bjz.us.txt',\n 'bk.us.txt',\n 'bkcc.us.txt',\n 'bkd.us.txt',\n 'bke.us.txt',\n 'bkep.us.txt',\n 'bkepp.us.txt',\n 'bkh.us.txt',\n 'bkhu.us.txt',\n 'bki.us.txt',\n 'bkj.us.txt',\n 'bkk.us.txt',\n 'bkmu.us.txt',\n 'bkn.us.txt',\n 'bks.us.txt',\n 'bksc.us.txt',\n 'bkt.us.txt',\n 'bku.us.txt',\n 'bkyi.us.txt',\n 'bk_c.us.txt',\n 'bl.us.txt',\n 'blbd.us.txt',\n 'blcm.us.txt',\n 'bld.us.txt',\n 'bldp.us.txt',\n 'bldr.us.txt',\n 'ble.us.txt',\n 'bles.us.txt',\n 'blfs.us.txt',\n 'blh.us.txt',\n 'blhy.us.txt',\n 'blin.us.txt',\n 'blj.us.txt',\n 'blk.us.txt',\n 'blkb.us.txt',\n 'bll.us.txt',\n 'blmn.us.txt',\n 'blmt.us.txt',\n 'blph.us.txt',\n 'blrx.us.txt',\n 'blue.us.txt',\n 'blvd.us.txt',\n 'blvdu.us.txt',\n 'blvdw.us.txt',\n 'blw.us.txt',\n 'blx.us.txt',\n 'bma.us.txt',\n 'bmch.us.txt',\n 'bme.us.txt',\n 'bmi.us.txt',\n 'bmla.us.txt',\n 'bmlp.us.txt',\n 'bml_g.us.txt',\n 'bml_h.us.txt',\n 'bml_i.us.txt',\n 'bml_j.us.txt',\n 'bml_l.us.txt',\n 'bmo.us.txt',\n 'bmra.us.txt',\n 'bmrc.us.txt',\n 'bmrn.us.txt',\n 'bms.us.txt',\n 'bmtc.us.txt',\n 'bmy.us.txt',\n 'bncl.us.txt',\n 'bndc.us.txt',\n 'bned.us.txt',\n 'bnft.us.txt',\n 'bnj.us.txt',\n 'bns.us.txt',\n 'bnso.us.txt',\n 'bntc.us.txt',\n 'bntcw.us.txt',\n 'bny.us.txt',\n 'bobe.us.txt',\n 'boch.us.txt',\n 'boe.us.txt',\n 'bofi.us.txt',\n 'bofil.us.txt',\n 'boh.us.txt',\n 'boja.us.txt',\n 'bokf.us.txt',\n 'bokfl.us.txt',\n 'bold.us.txt',\n 'bolt.us.txt',\n 'bomn.us.txt',\n 'bont.us.txt',\n 'boom.us.txt',\n 'boot.us.txt',\n 'born.us.txt',\n 'bosc.us.txt',\n 'boss.us.txt',\n 'botj.us.txt',\n 'botz.us.txt',\n 'box.us.txt',\n 'boxl.us.txt',\n 'bp.us.txt',\n 'bpfh.us.txt',\n 'bpfhp.us.txt',\n 'bpfhw.us.txt',\n 'bpi.us.txt',\n 'bpk.us.txt',\n 'bpl.us.txt',\n 'bpmc.us.txt',\n 'bpmp.us.txt',\n 'bpmx.us.txt',\n 'bpop.us.txt',\n 'bpopm.us.txt',\n 'bpopn.us.txt',\n 'bprn.us.txt',\n 'bpt.us.txt',\n 'bpth.us.txt',\n 'bpy.us.txt',\n 'bqh.us.txt',\n 'br.us.txt',\n 'brac.us.txt',\n 'bracr.us.txt',\n 'bracu.us.txt',\n 'bracw.us.txt',\n 'brc.us.txt',\n 'brcd.us.txt',\n 'brew.us.txt',\n 'brfs.us.txt',\n 'brg.us.txt',\n 'brgl.us.txt',\n 'brg_a.us.txt',\n 'brg_c.us.txt',\n 'brg_d.us.txt',\n 'brid.us.txt',\n 'brk-a.us.txt',\n 'brk-b.us.txt',\n 'brkl.us.txt',\n 'brkr.us.txt',\n 'brks.us.txt',\n 'brn.us.txt',\n 'bro.us.txt',\n 'brqs.us.txt',\n 'brqsw.us.txt',\n 'brs.us.txt',\n 'brss.us.txt',\n 'brt.us.txt',\n 'brx.us.txt',\n 'bsac.us.txt',\n 'bsbr.us.txt',\n 'bscp.us.txt',\n 'bscq.us.txt',\n 'bscr.us.txt',\n 'bsd.us.txt',\n 'bse.us.txt',\n 'bset.us.txt',\n 'bsf.us.txt',\n 'bsft.us.txt',\n 'bsjn.us.txt',\n 'bsjo.us.txt',\n 'bsjp.us.txt',\n 'bsl.us.txt',\n 'bsm.us.txt',\n 'bsmx.us.txt',\n 'bspm.us.txt',\n 'bsqr.us.txt',\n 'bsrr.us.txt',\n 'bst.us.txt',\n 'bstc.us.txt',\n 'bsti.us.txt',\n 'bswn.us.txt',\n 'bsx.us.txt',\n 'bt.us.txt',\n 'bta.us.txt',\n 'bte.us.txt',\n 'btec.us.txt',\n 'btg.us.txt',\n 'bti.us.txt',\n 'btn.us.txt',\n 'bto.us.txt',\n 'btt.us.txt',\n 'btu.us.txt',\n 'btu_.us.txt',\n 'btx-ws.us.txt',\n 'btx.us.txt',\n 'btz.us.txt',\n 'bud.us.txt',\n 'buff.us.txt',\n 'bui.us.txt',\n 'bur.us.txt',\n 'burl.us.txt',\n 'buse.us.txt',\n 'buz.us.txt',\n 'bv.us.txt',\n 'bval.us.txt',\n 'bvn.us.txt',\n 'bvsn.us.txt',\n 'bvx.us.txt',\n 'bvxv.us.txt',\n 'bvxvw.us.txt',\n 'bw.us.txt',\n 'bwa.us.txt',\n 'bwen.us.txt',\n 'bwfg.us.txt',\n 'bwg.us.txt',\n 'bwina.us.txt',\n 'bwinb.us.txt',\n 'bwl-a.us.txt',\n 'bwld.us.txt',\n 'bwp.us.txt',\n 'bwxt.us.txt',\n 'bx.us.txt',\n 'bxc.us.txt',\n 'bxe.us.txt',\n 'bxg.us.txt',\n 'bxmt.us.txt',\n ...]"
     },
     "execution_count": 202,
     "metadata": {},
     "output_type": "execute_result"
    }
   ],
   "source": [
    "# Create a list of stocks from the directory. These will be used while creating a dataframe\n",
    "list_of_stocks = os.listdir(\"Data/Stocks\")\n",
    "list_of_stocks"
   ],
   "metadata": {
    "collapsed": false,
    "ExecuteTime": {
     "end_time": "2024-03-17T16:53:39.258946Z",
     "start_time": "2024-03-17T16:53:39.236412Z"
    }
   },
   "id": "b48f9872f0c47830",
   "execution_count": 202
  },
  {
   "cell_type": "code",
   "outputs": [],
   "source": [
    "# Create Stock Dataframe. Take the first n stocks from the list and create a dataframe from them\n",
    "def create_stock_dataframe(n):\n",
    "    stocks = pd.DataFrame({'Ticker' : []})\n",
    "    \n",
    "    for i in range(0, n):\n",
    "        # Try and find the data from the yfinance list. If we don't, then skip them\n",
    "        try:\n",
    "            # Read through the documents, reformatting the datatime so it can be used with pandas\n",
    "            # This passes in the list for the top 500 stocks, which are better documented\n",
    "            # It might just be easier in the future to collect the data from yfinance entirely\n",
    "            data = pd.read_csv('Data/Stocks/' + top_500_stock_list[i].lower() + '.us.txt')\n",
    "            data['Date'] = pd.to_datetime(data['Date'])\n",
    "            data = data.set_index('Date')\n",
    "            ticker =  top_500_stock_list[i].lower()\n",
    "            # Drop irrelevent columns and select desired range\n",
    "            # here I am selecting January and February from 2016\n",
    "            data = data['2016-01':'2016-2'].drop(['Open', 'High', 'Low', 'Volume', 'OpenInt'], axis=1).T\n",
    "            data.insert(0, 'Ticker', ticker)\n",
    "            data.insert(1, 'Pattern', \"\")\n",
    "            # Add the stock to the main dataframe, stocks\n",
    "            stocks = pd.concat([stocks, data])\n",
    "        except:\n",
    "            pass\n",
    "    return stocks"
   ],
   "metadata": {
    "collapsed": false,
    "ExecuteTime": {
     "end_time": "2024-03-17T17:06:26.422022Z",
     "start_time": "2024-03-17T17:06:26.403995Z"
    }
   },
   "id": "946f074d951c968",
   "execution_count": 227
  },
  {
   "cell_type": "code",
   "outputs": [
    {
     "data": {
      "text/plain": "      Ticker Pattern  2016-01-04 00:00:00  2016-01-05 00:00:00  \\\nClose      a                       39.979               39.842   \nClose    aal                       40.111               39.730   \nClose   aapl                      101.440               98.885   \nClose   abbv                       53.514               53.291   \nClose    abt                       40.918               40.908   \n...      ...     ...                  ...                  ...   \nClose    yum                       50.041               49.915   \nClose    zbh                      100.340              102.440   \nClose   zbra                       66.490               64.820   \nClose   zion                       26.272               25.986   \nClose    zts                       46.546               47.273   \n\n       2016-01-06 00:00:00  2016-01-07 00:00:00  2016-01-08 00:00:00  \\\nClose               40.018               38.317               37.916   \nClose               40.426               39.660               39.581   \nClose               96.949               92.857               93.349   \nClose               53.301               53.141               51.692   \nClose               40.566               39.593               38.764   \n...                    ...                  ...                  ...   \nClose               49.562               47.871               47.220   \nClose              102.890              100.500              100.090   \nClose               62.230               59.410               59.250   \nClose               25.230               24.471               24.196   \nClose               47.283               45.846               45.175   \n\n       2016-01-11 00:00:00  2016-01-12 00:00:00  2016-01-13 00:00:00  ...  \\\nClose               37.278               37.523               36.216  ...   \nClose               40.278               41.180               39.318  ...   \nClose               94.860               96.238               93.762  ...   \nClose               50.049               50.940               48.040  ...   \nClose               38.822               39.517               38.634  ...   \n...                    ...                  ...                  ...  ...   \nClose               47.137               48.211               48.156  ...   \nClose               98.360              101.380               99.750  ...   \nClose               58.860               59.850               56.510  ...   \nClose               23.714               23.614               22.514  ...   \nClose               43.896               44.280               42.585  ...   \n\n       2016-02-16 00:00:00  2016-02-17 00:00:00  2016-02-18 00:00:00  \\\nClose               36.433               37.210               36.540   \nClose               37.960               38.677               38.874   \nClose               93.545               94.979               93.177   \nClose               50.227               51.635               51.204   \nClose               36.438               36.880               36.746   \n...                    ...                  ...                  ...   \nClose               48.497               49.670               49.550   \nClose               92.271               93.994               93.718   \nClose               64.390               67.050               66.760   \nClose               21.385               21.297               20.882   \nClose               39.898               41.249               41.466   \n\n       2016-02-19 00:00:00  2016-02-22 00:00:00  2016-02-23 00:00:00  \\\nClose               36.786               37.365               36.521   \nClose               39.090               40.151               39.700   \nClose               92.965               93.778               91.659   \nClose               50.959               51.888               51.690   \nClose               36.958               37.561               36.820   \n...                    ...                  ...                  ...   \nClose               49.196               50.200               49.887   \nClose               93.424               93.768               92.211   \nClose               67.270               68.310               68.860   \nClose               21.118               21.907               20.922   \nClose               41.279               42.205               41.812   \n\n       2016-02-24 00:00:00  2016-02-25 00:00:00  2016-02-26 00:00:00  \\\nClose               36.826               36.971               36.933   \nClose               39.976               40.663               40.181   \nClose               93.022               93.660               93.808   \nClose               51.524               52.753               52.564   \nClose               37.599               38.012               37.906   \n...                    ...                  ...                  ...   \nClose               49.865               49.501               49.823   \nClose               92.990               95.492               96.124   \nClose               70.040               59.780               59.530   \nClose               20.393               20.940               21.473   \nClose               41.812               42.334               41.802   \n\n       2016-02-29 00:00:00  \nClose               36.698  \nClose               40.310  \nClose               93.594  \nClose               51.258  \nClose               37.157  \n...                    ...  \nClose               50.555  \nClose               95.415  \nClose               61.780  \nClose               21.030  \nClose               40.519  \n\n[461 rows x 41 columns]",
      "text/html": "<div>\n<style scoped>\n    .dataframe tbody tr th:only-of-type {\n        vertical-align: middle;\n    }\n\n    .dataframe tbody tr th {\n        vertical-align: top;\n    }\n\n    .dataframe thead th {\n        text-align: right;\n    }\n</style>\n<table border=\"1\" class=\"dataframe\">\n  <thead>\n    <tr style=\"text-align: right;\">\n      <th></th>\n      <th>Ticker</th>\n      <th>Pattern</th>\n      <th>2016-01-04 00:00:00</th>\n      <th>2016-01-05 00:00:00</th>\n      <th>2016-01-06 00:00:00</th>\n      <th>2016-01-07 00:00:00</th>\n      <th>2016-01-08 00:00:00</th>\n      <th>2016-01-11 00:00:00</th>\n      <th>2016-01-12 00:00:00</th>\n      <th>2016-01-13 00:00:00</th>\n      <th>...</th>\n      <th>2016-02-16 00:00:00</th>\n      <th>2016-02-17 00:00:00</th>\n      <th>2016-02-18 00:00:00</th>\n      <th>2016-02-19 00:00:00</th>\n      <th>2016-02-22 00:00:00</th>\n      <th>2016-02-23 00:00:00</th>\n      <th>2016-02-24 00:00:00</th>\n      <th>2016-02-25 00:00:00</th>\n      <th>2016-02-26 00:00:00</th>\n      <th>2016-02-29 00:00:00</th>\n    </tr>\n  </thead>\n  <tbody>\n    <tr>\n      <th>Close</th>\n      <td>a</td>\n      <td></td>\n      <td>39.979</td>\n      <td>39.842</td>\n      <td>40.018</td>\n      <td>38.317</td>\n      <td>37.916</td>\n      <td>37.278</td>\n      <td>37.523</td>\n      <td>36.216</td>\n      <td>...</td>\n      <td>36.433</td>\n      <td>37.210</td>\n      <td>36.540</td>\n      <td>36.786</td>\n      <td>37.365</td>\n      <td>36.521</td>\n      <td>36.826</td>\n      <td>36.971</td>\n      <td>36.933</td>\n      <td>36.698</td>\n    </tr>\n    <tr>\n      <th>Close</th>\n      <td>aal</td>\n      <td></td>\n      <td>40.111</td>\n      <td>39.730</td>\n      <td>40.426</td>\n      <td>39.660</td>\n      <td>39.581</td>\n      <td>40.278</td>\n      <td>41.180</td>\n      <td>39.318</td>\n      <td>...</td>\n      <td>37.960</td>\n      <td>38.677</td>\n      <td>38.874</td>\n      <td>39.090</td>\n      <td>40.151</td>\n      <td>39.700</td>\n      <td>39.976</td>\n      <td>40.663</td>\n      <td>40.181</td>\n      <td>40.310</td>\n    </tr>\n    <tr>\n      <th>Close</th>\n      <td>aapl</td>\n      <td></td>\n      <td>101.440</td>\n      <td>98.885</td>\n      <td>96.949</td>\n      <td>92.857</td>\n      <td>93.349</td>\n      <td>94.860</td>\n      <td>96.238</td>\n      <td>93.762</td>\n      <td>...</td>\n      <td>93.545</td>\n      <td>94.979</td>\n      <td>93.177</td>\n      <td>92.965</td>\n      <td>93.778</td>\n      <td>91.659</td>\n      <td>93.022</td>\n      <td>93.660</td>\n      <td>93.808</td>\n      <td>93.594</td>\n    </tr>\n    <tr>\n      <th>Close</th>\n      <td>abbv</td>\n      <td></td>\n      <td>53.514</td>\n      <td>53.291</td>\n      <td>53.301</td>\n      <td>53.141</td>\n      <td>51.692</td>\n      <td>50.049</td>\n      <td>50.940</td>\n      <td>48.040</td>\n      <td>...</td>\n      <td>50.227</td>\n      <td>51.635</td>\n      <td>51.204</td>\n      <td>50.959</td>\n      <td>51.888</td>\n      <td>51.690</td>\n      <td>51.524</td>\n      <td>52.753</td>\n      <td>52.564</td>\n      <td>51.258</td>\n    </tr>\n    <tr>\n      <th>Close</th>\n      <td>abt</td>\n      <td></td>\n      <td>40.918</td>\n      <td>40.908</td>\n      <td>40.566</td>\n      <td>39.593</td>\n      <td>38.764</td>\n      <td>38.822</td>\n      <td>39.517</td>\n      <td>38.634</td>\n      <td>...</td>\n      <td>36.438</td>\n      <td>36.880</td>\n      <td>36.746</td>\n      <td>36.958</td>\n      <td>37.561</td>\n      <td>36.820</td>\n      <td>37.599</td>\n      <td>38.012</td>\n      <td>37.906</td>\n      <td>37.157</td>\n    </tr>\n    <tr>\n      <th>...</th>\n      <td>...</td>\n      <td>...</td>\n      <td>...</td>\n      <td>...</td>\n      <td>...</td>\n      <td>...</td>\n      <td>...</td>\n      <td>...</td>\n      <td>...</td>\n      <td>...</td>\n      <td>...</td>\n      <td>...</td>\n      <td>...</td>\n      <td>...</td>\n      <td>...</td>\n      <td>...</td>\n      <td>...</td>\n      <td>...</td>\n      <td>...</td>\n      <td>...</td>\n      <td>...</td>\n    </tr>\n    <tr>\n      <th>Close</th>\n      <td>yum</td>\n      <td></td>\n      <td>50.041</td>\n      <td>49.915</td>\n      <td>49.562</td>\n      <td>47.871</td>\n      <td>47.220</td>\n      <td>47.137</td>\n      <td>48.211</td>\n      <td>48.156</td>\n      <td>...</td>\n      <td>48.497</td>\n      <td>49.670</td>\n      <td>49.550</td>\n      <td>49.196</td>\n      <td>50.200</td>\n      <td>49.887</td>\n      <td>49.865</td>\n      <td>49.501</td>\n      <td>49.823</td>\n      <td>50.555</td>\n    </tr>\n    <tr>\n      <th>Close</th>\n      <td>zbh</td>\n      <td></td>\n      <td>100.340</td>\n      <td>102.440</td>\n      <td>102.890</td>\n      <td>100.500</td>\n      <td>100.090</td>\n      <td>98.360</td>\n      <td>101.380</td>\n      <td>99.750</td>\n      <td>...</td>\n      <td>92.271</td>\n      <td>93.994</td>\n      <td>93.718</td>\n      <td>93.424</td>\n      <td>93.768</td>\n      <td>92.211</td>\n      <td>92.990</td>\n      <td>95.492</td>\n      <td>96.124</td>\n      <td>95.415</td>\n    </tr>\n    <tr>\n      <th>Close</th>\n      <td>zbra</td>\n      <td></td>\n      <td>66.490</td>\n      <td>64.820</td>\n      <td>62.230</td>\n      <td>59.410</td>\n      <td>59.250</td>\n      <td>58.860</td>\n      <td>59.850</td>\n      <td>56.510</td>\n      <td>...</td>\n      <td>64.390</td>\n      <td>67.050</td>\n      <td>66.760</td>\n      <td>67.270</td>\n      <td>68.310</td>\n      <td>68.860</td>\n      <td>70.040</td>\n      <td>59.780</td>\n      <td>59.530</td>\n      <td>61.780</td>\n    </tr>\n    <tr>\n      <th>Close</th>\n      <td>zion</td>\n      <td></td>\n      <td>26.272</td>\n      <td>25.986</td>\n      <td>25.230</td>\n      <td>24.471</td>\n      <td>24.196</td>\n      <td>23.714</td>\n      <td>23.614</td>\n      <td>22.514</td>\n      <td>...</td>\n      <td>21.385</td>\n      <td>21.297</td>\n      <td>20.882</td>\n      <td>21.118</td>\n      <td>21.907</td>\n      <td>20.922</td>\n      <td>20.393</td>\n      <td>20.940</td>\n      <td>21.473</td>\n      <td>21.030</td>\n    </tr>\n    <tr>\n      <th>Close</th>\n      <td>zts</td>\n      <td></td>\n      <td>46.546</td>\n      <td>47.273</td>\n      <td>47.283</td>\n      <td>45.846</td>\n      <td>45.175</td>\n      <td>43.896</td>\n      <td>44.280</td>\n      <td>42.585</td>\n      <td>...</td>\n      <td>39.898</td>\n      <td>41.249</td>\n      <td>41.466</td>\n      <td>41.279</td>\n      <td>42.205</td>\n      <td>41.812</td>\n      <td>41.812</td>\n      <td>42.334</td>\n      <td>41.802</td>\n      <td>40.519</td>\n    </tr>\n  </tbody>\n</table>\n<p>461 rows × 41 columns</p>\n</div>"
     },
     "execution_count": 228,
     "metadata": {},
     "output_type": "execute_result"
    }
   ],
   "source": [
    "stock_data = create_stock_dataframe(503)\n",
    "stock_data"
   ],
   "metadata": {
    "collapsed": false,
    "ExecuteTime": {
     "end_time": "2024-03-17T17:06:33.050179Z",
     "start_time": "2024-03-17T17:06:27.602832Z"
    }
   },
   "id": "25da5cec2b5d0c1a",
   "execution_count": 228
  },
  {
   "cell_type": "code",
   "outputs": [],
   "source": [
    "%%capture\n",
    "# Capture restricts the cell from producing output into the notebook\n",
    "# For each stock, create a graph and save it\n",
    "def create_charts(data):\n",
    "    for i in range(0, len(data)):\n",
    "        plt.figure(figsize=(40, 20))\n",
    "        data.iloc[i][2:-1].interpolate().plot()\n",
    "        \n",
    "        plt.savefig('Images/' + stock_data['Ticker'][i] + '.png')"
   ],
   "metadata": {
    "collapsed": false,
    "ExecuteTime": {
     "end_time": "2024-03-17T17:07:09.576150Z",
     "start_time": "2024-03-17T17:07:09.557622Z"
    }
   },
   "id": "a0446b81945c3ea",
   "execution_count": 229
  },
  {
   "cell_type": "code",
   "outputs": [],
   "source": [
    "%%capture\n",
    "create_charts(stock_data)"
   ],
   "metadata": {
    "collapsed": false,
    "is_executing": true,
    "ExecuteTime": {
     "start_time": "2024-03-17T17:07:12.514153Z"
    }
   },
   "id": "4d286afc78701ce3",
   "execution_count": null
  },
  {
   "cell_type": "code",
   "outputs": [],
   "source": [],
   "metadata": {
    "collapsed": false
   },
   "id": "8202ce6ad25c12fd"
  }
 ],
 "metadata": {
  "kernelspec": {
   "display_name": "Python 3",
   "language": "python",
   "name": "python3"
  },
  "language_info": {
   "codemirror_mode": {
    "name": "ipython",
    "version": 2
   },
   "file_extension": ".py",
   "mimetype": "text/x-python",
   "name": "python",
   "nbconvert_exporter": "python",
   "pygments_lexer": "ipython2",
   "version": "2.7.6"
  }
 },
 "nbformat": 4,
 "nbformat_minor": 5
}
