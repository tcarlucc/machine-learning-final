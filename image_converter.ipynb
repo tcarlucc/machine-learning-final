{
 "cells": [
  {
   "cell_type": "code",
   "outputs": [],
   "source": [
    "import os\n",
    "import skimage as ski\n",
    "import plotly.express as px"
   ],
   "metadata": {
    "collapsed": false,
    "ExecuteTime": {
     "end_time": "2024-04-23T20:55:38.820277Z",
     "start_time": "2024-04-23T20:55:38.721626Z"
    }
   },
   "id": "79e2410f2bada8e8",
   "execution_count": 5
  },
  {
   "cell_type": "markdown",
   "source": [
    "Convert images from pixals into data that we can work with for Ml"
   ],
   "metadata": {
    "collapsed": false
   },
   "id": "b8e9cd6425650704"
  },
  {
   "cell_type": "code",
   "execution_count": 10,
   "id": "initial_id",
   "metadata": {
    "collapsed": true,
    "ExecuteTime": {
     "end_time": "2024-04-23T20:58:43.281306Z",
     "start_time": "2024-04-23T20:58:43.278802Z"
    }
   },
   "outputs": [],
   "source": [
    "data_dir = 'C:/Users/Nick/Documents/SchoolStuff/spring2024/machineLearning/final_project/tradingpatterns/images'\n",
    "categories = ['chan_down', 'chan_up', 'doub_bot', 'doub_top', 'hs', 'tri', 'wed_down', 'wed_up']"
   ]
  },
  {
   "cell_type": "code",
   "outputs": [],
   "source": [
    "# data = []\n",
    "# labels = []\n",
    "# for category in categories:\n",
    "#     for file in os.listdir(os.path.join(input_dir, category)):\n",
    "#         img_path = os.path.join(input_dir, category, file)"
   ],
   "metadata": {
    "collapsed": false
   },
   "id": "8c1712d3cbfff60f"
  },
  {
   "cell_type": "code",
   "outputs": [
    {
     "data": {
      "text/plain": "array([[1., 1., 1., ..., 1., 1., 1.],\n       [1., 1., 1., ..., 1., 1., 1.],\n       [1., 1., 1., ..., 1., 1., 1.],\n       ...,\n       [1., 1., 1., ..., 1., 1., 1.],\n       [1., 1., 1., ..., 1., 1., 1.],\n       [1., 1., 1., ..., 1., 1., 1.]])"
     },
     "execution_count": 16,
     "metadata": {},
     "output_type": "execute_result"
    }
   ],
   "source": [
    "filename = ski.io.imread(data_dir + '/hs/hs_AFL_3200.png', as_gray=True)\n",
    "filename"
   ],
   "metadata": {
    "collapsed": false,
    "ExecuteTime": {
     "end_time": "2024-04-23T21:02:19.608643Z",
     "start_time": "2024-04-23T21:02:19.586109Z"
    }
   },
   "id": "bad3b14eb6e56fa1",
   "execution_count": 16
  }
 ],
 "metadata": {
  "kernelspec": {
   "display_name": "Python 3",
   "language": "python",
   "name": "python3"
  },
  "language_info": {
   "codemirror_mode": {
    "name": "ipython",
    "version": 2
   },
   "file_extension": ".py",
   "mimetype": "text/x-python",
   "name": "python",
   "nbconvert_exporter": "python",
   "pygments_lexer": "ipython2",
   "version": "2.7.6"
  }
 },
 "nbformat": 4,
 "nbformat_minor": 5
}
