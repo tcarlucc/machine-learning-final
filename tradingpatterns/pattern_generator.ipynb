{
 "cells": [
  {
   "cell_type": "code",
   "execution_count": 1,
   "id": "initial_id",
   "metadata": {
    "collapsed": true,
    "ExecuteTime": {
     "end_time": "2024-04-23T18:38:10.478232Z",
     "start_time": "2024-04-23T18:38:09.078588Z"
    }
   },
   "outputs": [],
   "source": [
    "import os\n",
    "import warnings\n",
    "warnings.filterwarnings('ignore')\n",
    "\n",
    "import gc\n",
    "import linecache\n",
    "import matplotlib as plt\n",
    "import mplfinance as mpf\n",
    "import numpy as np\n",
    "import pandas as pd\n",
    "import tracemalloc \n",
    "\n",
    "from analysis import detect_and_rename\n",
    "from tradingpatterns_basic import detect_multiple_tops_bottoms, detect_triangle_pattern, detect_wedge, detect_channel, detect_double_top_bottom"
   ]
  },
  {
   "cell_type": "markdown",
   "source": [
    "This notebook goes through all the data downloaded locally and runs various scripts to generate images which can then be fed into the CNN"
   ],
   "metadata": {
    "collapsed": false
   },
   "id": "26407a0a8c4ab2be"
  },
  {
   "cell_type": "code",
   "outputs": [],
   "source": [
    "np.random.seed(seed=42)"
   ],
   "metadata": {
    "collapsed": false,
    "ExecuteTime": {
     "end_time": "2024-04-23T01:01:15.913763Z",
     "start_time": "2024-04-23T01:01:15.910258Z"
    }
   },
   "id": "9f89b46801c0446",
   "execution_count": 39
  },
  {
   "cell_type": "code",
   "outputs": [],
   "source": [
    "# Memory leak tracker from python documentation\n",
    "def display_top(snapshot, key_type='lineno', limit=10):\n",
    "    snapshot = snapshot.filter_traces((\n",
    "        tracemalloc.Filter(False, \"<frozen importlib._bootstrap>\"),\n",
    "        tracemalloc.Filter(False, \"<unknown>\"),\n",
    "    ))\n",
    "    top_stats = snapshot.statistics(key_type)\n",
    "\n",
    "    print(\"Top %s lines\" % limit)\n",
    "    for index, stat in enumerate(top_stats[:limit], 1):\n",
    "        frame = stat.traceback[0]\n",
    "        print(\"#%s: %s:%s: %.1f KiB\"\n",
    "              % (index, frame.filename, frame.lineno, stat.size / 1024))\n",
    "        line = linecache.getline(frame.filename, frame.lineno).strip()\n",
    "        if line:\n",
    "            print('    %s' % line)\n",
    "\n",
    "    other = top_stats[limit:]\n",
    "    if other:\n",
    "        size = sum(stat.size for stat in other)\n",
    "        print(\"%s other: %.1f KiB\" % (len(other), size / 1024))\n",
    "    total = sum(stat.size for stat in top_stats)\n",
    "    print(\"Total allocated size: %.1f KiB\" % (total / 1024))"
   ],
   "metadata": {
    "collapsed": false,
    "ExecuteTime": {
     "end_time": "2024-04-23T18:38:10.485743Z",
     "start_time": "2024-04-23T18:38:10.479734Z"
    }
   },
   "id": "72cbdd58816b3b4f",
   "execution_count": 2
  },
  {
   "cell_type": "code",
   "outputs": [],
   "source": [
    "# Read and print the stock tickers that make up S&P500\n",
    "tickers = pd.read_html(\n",
    "    'https://en.wikipedia.org/wiki/List_of_S%26P_500_companies')[0]\n",
    "\n",
    "tickers = tickers.Symbol.to_list()"
   ],
   "metadata": {
    "collapsed": false,
    "ExecuteTime": {
     "end_time": "2024-04-23T18:38:12.046635Z",
     "start_time": "2024-04-23T18:38:11.670057Z"
    }
   },
   "id": "24f9053d55a829ae",
   "execution_count": 3
  },
  {
   "cell_type": "code",
   "outputs": [],
   "source": [
    "# Plot the chart. Saves it using the id\n",
    "# Pretty sure there is a memory leak issue with matplotlib, which is \n",
    "# Trying to save an image in memory every time\n",
    "def plot_simple_df(candle_data: pd.DataFrame, stock_type: str, ticker: str,  count: int, pad: int = 2):\n",
    "    if pad < 0:\n",
    "        pad = 0\n",
    "    fname = \"images/\"+ stock_type +\"/\" + stock_type + '_' + ticker + '_' + str(count) + \".png\"\n",
    "    \n",
    "    candle_data.index = pd.DatetimeIndex(candle_data['Datetime'])\n",
    "    candle_data.drop(columns=['Datetime'], inplace=True)\n",
    "\n",
    "    mpf.plot(candle_data, type='candle', axisoff=True, style = 'classic', savefig=dict(fname=fname, dpi=60), closefig=True)"
   ],
   "metadata": {
    "collapsed": false,
    "ExecuteTime": {
     "end_time": "2024-04-23T18:38:13.738726Z",
     "start_time": "2024-04-23T18:38:13.734219Z"
    }
   },
   "id": "a2bf733e8f0f9564",
   "execution_count": 4
  },
  {
   "cell_type": "code",
   "outputs": [],
   "source": [
    "def shuffle_list(ticker_list: list):\n",
    "    # Shuffling to get different stocks. Will do this after each pattern\n",
    "    # This makes sure I am pulling from a different list of stocks,\n",
    "    # But that I will produce the same images each time\n",
    "    tickers_shuff = tickers\n",
    "    np.random.shuffle(tickers_shuff)\n",
    "    return tickers_shuff"
   ],
   "metadata": {
    "collapsed": false,
    "ExecuteTime": {
     "end_time": "2024-04-23T17:27:06.210380Z",
     "start_time": "2024-04-23T17:27:06.206875Z"
    }
   },
   "id": "98508921948e4de5",
   "execution_count": 6
  },
  {
   "cell_type": "code",
   "outputs": [],
   "source": [
    "# Generate a variety of patterns\n",
    "def generate_patterns(pat: str, bound1 = 0, bound2 = 2):\n",
    "    if bound2 < bound1:\n",
    "        print(\"Error with bounds\")\n",
    "        return\n",
    "    if bound1 < 0:\n",
    "        bound1 = 0\n",
    "    if bound2 > 500:\n",
    "        bound2 = bound1 + 2\n",
    "    for ticker in tickers[bound1:bound2]:\n",
    "        try:\n",
    "            data = pd.read_csv('data/' + ticker + '_data.csv', index_col=None, header=0)\n",
    "            # Place the datetime in a temp dataset\n",
    "            temp = data['Datetime']\n",
    "            data.rename(columns={\"open\": \"Open\", \"close\": \"Close\", \"high\": \"High\",\n",
    "                                 \"low\": \"Low\", 'volume': 'Volume'}, inplace=True)\n",
    "            # Apply numeric and log to the data\n",
    "            data = data.apply(pd.to_numeric, errors='coerce')\n",
    "            data = np.log(data)\n",
    "            # Add the datetime we saved earlier back in\n",
    "            data['Datetime'] = temp\n",
    "            data.drop(columns=['adj_close', 'adj_high', 'adj_low'], inplace=True)\n",
    "            loc = 0\n",
    "            \n",
    "            # Accurately detects head and shoulders by using wavelet noise reduction\n",
    "            if pat == 'wavelet': \n",
    "                data = detect_and_rename(data, 'wavelet', 3)\n",
    "                data1 = data[data['head_shoulder_pattern_wavelet'].notnull()]\n",
    "                \n",
    "                for i in data1.index:\n",
    "                    if i + 15 < len(data) and loc < i and i > 15:\n",
    "                        loc += 100\n",
    "                        plot_simple_df(data.loc[i - 15 : i+15], pat, ticker, loc, 2)   \n",
    "            # This does not generate anything? \n",
    "            elif pat == 'mtb':\n",
    "                data = detect_multiple_tops_bottoms(data, window = 10)\n",
    "                data1 = data[data['multiple_top_bottom_pattern'].notnull()]\n",
    "                \n",
    "                for i in data1.index:\n",
    "                    if i + 15 < len(data) and loc < i and i > 15:\n",
    "                        loc += 25\n",
    "                        plot_simple_df(data.loc[i - 15 : i+15], pat, ticker, loc, 2)   \n",
    "            # Only detects ascending and descending triangles\n",
    "            elif pat == 'tri':\n",
    "                data = detect_triangle_pattern(data, window=3)\n",
    "                data1 = data[data['triangle_pattern'].notnull()]\n",
    "                \n",
    "                for i in data1.index:\n",
    "                    if i + 15 < len(data) and loc < i and i > 15:\n",
    "                        loc += 125\n",
    "                        plot_simple_df(data.loc[i - 15 : i+15], pat, ticker, loc, 2)   \n",
    "            elif pat == 'wed':\n",
    "                data = detect_wedge(data, window=3)\n",
    "                data1 = data[data['wedge_pattern'] == 'Wedge Up']\n",
    "                data2 = data[data['wedge_pattern'] == 'Wedge Down']\n",
    "                count = 0\n",
    "                # Changing params to change how many patterns are pulled from a single stock\n",
    "                for i in data1.index:\n",
    "                    if i + 20 < len(data) and loc < i and i > 20:\n",
    "                        loc += 100\n",
    "                        plot_simple_df(data.loc[i - 20 : i + 20], 'wed_up', ticker, loc, 2)\n",
    "                    if count > 25:\n",
    "                        break\n",
    "                count = 0\n",
    "                loc = 0\n",
    "                for i in data2.index:\n",
    "                    if i + 20 < len(data) and loc < i and i > 20:\n",
    "                        loc += 100\n",
    "                        plot_simple_df(data.loc[i - 20 : i + 20], 'wed_down', ticker, loc, 2)   \n",
    "                    if count > 25:\n",
    "                        break\n",
    "            else:\n",
    "                print('There is no pattern')\n",
    "                break\n",
    "        except Exception as e:\n",
    "            print(f\"Failed on ticker {ticker} with exception {e}\")\n",
    "            continue"
   ],
   "metadata": {
    "collapsed": false,
    "ExecuteTime": {
     "end_time": "2024-04-23T19:06:38.950507Z",
     "start_time": "2024-04-23T19:06:38.937988Z"
    }
   },
   "id": "4b50fae51d6a3168",
   "execution_count": 27
  },
  {
   "cell_type": "code",
   "outputs": [],
   "source": [
    "# tracemalloc.start() \n",
    "generate_patterns('wavelet')\n",
    "\n",
    "# snapshot = tracemalloc.take_snapshot()\n",
    "# display_top(snapshot)\n",
    "gc.collect()"
   ],
   "metadata": {
    "collapsed": false
   },
   "id": "6fef988aeb69a26c"
  },
  {
   "cell_type": "code",
   "outputs": [],
   "source": [
    "# tracemalloc.start() \n",
    "generate_patterns('mtb')\n",
    "\n",
    "# snapshot = tracemalloc.take_snapshot()\n",
    "# display_top(snapshot)\n",
    "gc.collect()"
   ],
   "metadata": {
    "collapsed": false
   },
   "id": "f2486edf901ebbdb"
  },
  {
   "cell_type": "code",
   "outputs": [],
   "source": [
    "# tracemalloc.start() \n",
    "generate_patterns('tri')\n",
    "\n",
    "# snapshot = tracemalloc.take_snapshot()\n",
    "# display_top(snapshot)\n",
    "gc.collect()"
   ],
   "metadata": {
    "collapsed": false
   },
   "id": "cece872d3a0b5e21",
   "execution_count": null
  },
  {
   "cell_type": "code",
   "outputs": [
    {
     "name": "stdout",
     "output_type": "stream",
     "text": [
      "Failed on ticker RVTY with exception [Errno 2] No such file or directory: 'data/RVTY_data.csv'\n",
      "Failed on ticker SLB with exception [Errno 2] No such file or directory: 'data/SLB_data.csv'\n"
     ]
    }
   ],
   "source": [
    "generate_patterns('wed', 351, 450)\n",
    "\n",
    "gc.collect()"
   ],
   "metadata": {
    "collapsed": false,
    "ExecuteTime": {
     "end_time": "2024-04-23T19:10:54.938090Z",
     "start_time": "2024-04-23T19:06:41.193443Z"
    }
   },
   "id": "d71b1a6e2fa7b2b6",
   "execution_count": 28
  },
  {
   "cell_type": "code",
   "outputs": [],
   "source": [
    "# TODO: Channel detection"
   ],
   "metadata": {
    "collapsed": false
   },
   "id": "6bdd2787a1d9af63"
  },
  {
   "cell_type": "code",
   "outputs": [],
   "source": [
    "# TODO: Double Top Bottom detection"
   ],
   "metadata": {
    "collapsed": false
   },
   "id": "e9374d761f78ada9"
  },
  {
   "cell_type": "code",
   "outputs": [
    {
     "data": {
      "text/plain": "0"
     },
     "execution_count": 24,
     "metadata": {},
     "output_type": "execute_result"
    }
   ],
   "source": [
    "gc.collect()"
   ],
   "metadata": {
    "collapsed": false,
    "ExecuteTime": {
     "end_time": "2024-04-23T19:04:25.280773Z",
     "start_time": "2024-04-23T19:04:25.209664Z"
    }
   },
   "id": "c59f0e10cfb47899",
   "execution_count": 24
  }
 ],
 "metadata": {
  "kernelspec": {
   "display_name": "Python 3",
   "language": "python",
   "name": "python3"
  },
  "language_info": {
   "codemirror_mode": {
    "name": "ipython",
    "version": 2
   },
   "file_extension": ".py",
   "mimetype": "text/x-python",
   "name": "python",
   "nbconvert_exporter": "python",
   "pygments_lexer": "ipython2",
   "version": "2.7.6"
  }
 },
 "nbformat": 4,
 "nbformat_minor": 5
}
