{
 "cells": [
  {
   "cell_type": "code",
   "execution_count": 1,
   "id": "initial_id",
   "metadata": {
    "collapsed": true,
    "ExecuteTime": {
     "end_time": "2024-04-23T19:40:07.685680Z",
     "start_time": "2024-04-23T19:40:06.286036Z"
    }
   },
   "outputs": [],
   "source": [
    "import os\n",
    "import warnings\n",
    "warnings.filterwarnings('ignore')\n",
    "\n",
    "import gc\n",
    "import linecache\n",
    "import matplotlib as plt\n",
    "import mplfinance as mpf\n",
    "import numpy as np\n",
    "import pandas as pd\n",
    "import tracemalloc \n",
    "\n",
    "from analysis import detect_and_rename\n",
    "from tradingpatterns_basic import detect_multiple_tops_bottoms, detect_triangle_pattern, detect_wedge, detect_channel, detect_double_top_bottom"
   ]
  },
  {
   "cell_type": "markdown",
   "source": [
    "This notebook goes through all the data downloaded locally and runs various scripts to generate images which can then be fed into the CNN"
   ],
   "metadata": {
    "collapsed": false
   },
   "id": "26407a0a8c4ab2be"
  },
  {
   "cell_type": "code",
   "outputs": [],
   "source": [
    "np.random.seed(seed=42)"
   ],
   "metadata": {
    "collapsed": false,
    "ExecuteTime": {
     "end_time": "2024-04-23T19:40:11.810498Z",
     "start_time": "2024-04-23T19:40:11.807493Z"
    }
   },
   "id": "9f89b46801c0446",
   "execution_count": 2
  },
  {
   "cell_type": "code",
   "outputs": [],
   "source": [
    "# Memory leak tracker from python documentation\n",
    "def display_top(snapshot, key_type='lineno', limit=10):\n",
    "    snapshot = snapshot.filter_traces((\n",
    "        tracemalloc.Filter(False, \"<frozen importlib._bootstrap>\"),\n",
    "        tracemalloc.Filter(False, \"<unknown>\"),\n",
    "    ))\n",
    "    top_stats = snapshot.statistics(key_type)\n",
    "\n",
    "    print(\"Top %s lines\" % limit)\n",
    "    for index, stat in enumerate(top_stats[:limit], 1):\n",
    "        frame = stat.traceback[0]\n",
    "        print(\"#%s: %s:%s: %.1f KiB\"\n",
    "              % (index, frame.filename, frame.lineno, stat.size / 1024))\n",
    "        line = linecache.getline(frame.filename, frame.lineno).strip()\n",
    "        if line:\n",
    "            print('    %s' % line)\n",
    "\n",
    "    other = top_stats[limit:]\n",
    "    if other:\n",
    "        size = sum(stat.size for stat in other)\n",
    "        print(\"%s other: %.1f KiB\" % (len(other), size / 1024))\n",
    "    total = sum(stat.size for stat in top_stats)\n",
    "    print(\"Total allocated size: %.1f KiB\" % (total / 1024))"
   ],
   "metadata": {
    "collapsed": false,
    "ExecuteTime": {
     "end_time": "2024-04-23T19:42:52.517144Z",
     "start_time": "2024-04-23T19:42:52.512637Z"
    }
   },
   "id": "72cbdd58816b3b4f",
   "execution_count": 14
  },
  {
   "cell_type": "code",
   "outputs": [],
   "source": [
    "# Read and print the stock tickers that make up S&P500\n",
    "tickers = pd.read_html(\n",
    "    'https://en.wikipedia.org/wiki/List_of_S%26P_500_companies')[0]\n",
    "\n",
    "tickers = tickers.Symbol.to_list()"
   ],
   "metadata": {
    "collapsed": false,
    "ExecuteTime": {
     "end_time": "2024-04-23T19:42:53.393486Z",
     "start_time": "2024-04-23T19:42:53.012402Z"
    }
   },
   "id": "24f9053d55a829ae",
   "execution_count": 15
  },
  {
   "cell_type": "code",
   "outputs": [],
   "source": [
    "def read_csv(tick: str):\n",
    "    data = pd.read_csv('data/' + tick + '_data.csv', index_col=None, header=0)\n",
    "    # Place the datetime in a temp dataset\n",
    "    temp = data['Datetime']\n",
    "    data.rename(columns={\"open\": \"Open\", \"close\": \"Close\", \"high\": \"High\",\n",
    "                         \"low\": \"Low\", 'volume': 'Volume'}, inplace=True)\n",
    "    # Apply numeric and log to the data\n",
    "    data = data.apply(pd.to_numeric, errors='coerce')\n",
    "    data = np.log(data)\n",
    "    # Add the datetime we saved earlier back in\n",
    "    data['Datetime'] = temp\n",
    "    data.drop(columns=['adj_close', 'adj_high', 'adj_low'], inplace=True)\n",
    "    return data"
   ],
   "metadata": {
    "collapsed": false,
    "ExecuteTime": {
     "end_time": "2024-04-23T19:42:53.452576Z",
     "start_time": "2024-04-23T19:42:53.449071Z"
    }
   },
   "id": "7168ac64924c3c53",
   "execution_count": 16
  },
  {
   "cell_type": "code",
   "outputs": [],
   "source": [
    "# Plot the chart. Saves it using the id\n",
    "# Pretty sure there is a memory leak issue with matplotlib, which is \n",
    "# Trying to save an image in memory every time\n",
    "def plot_simple_df(candle_data: pd.DataFrame, stock_type: str, tick: str,  count: int, pad: int = 2):\n",
    "    if pad < 0:\n",
    "        pad = 0\n",
    "    fname = \"images/\"+ stock_type +\"/\" + stock_type + '_' + tick + '_' + str(count) + \".png\"\n",
    "    \n",
    "    candle_data.index = pd.DatetimeIndex(candle_data['Datetime'])\n",
    "    candle_data.drop(columns=['Datetime'], inplace=True)\n",
    "\n",
    "    mpf.plot(candle_data, type='candle', axisoff=True, style = 'classic', savefig=dict(fname=fname, dpi=60), closefig=True)"
   ],
   "metadata": {
    "collapsed": false,
    "ExecuteTime": {
     "end_time": "2024-04-23T19:42:54.359966Z",
     "start_time": "2024-04-23T19:42:54.355960Z"
    }
   },
   "id": "a2bf733e8f0f9564",
   "execution_count": 17
  },
  {
   "cell_type": "code",
   "outputs": [],
   "source": [
    "def shuffle_list(ticker_list: list):\n",
    "    # Shuffling to get different stocks. Will do this after each pattern\n",
    "    # This makes sure I am pulling from a different list of stocks,\n",
    "    # But that I will produce the same images each time\n",
    "    tickers_shuff = tickers\n",
    "    np.random.shuffle(tickers_shuff)\n",
    "    return tickers_shuff"
   ],
   "metadata": {
    "collapsed": false,
    "ExecuteTime": {
     "end_time": "2024-04-23T19:42:54.805148Z",
     "start_time": "2024-04-23T19:42:54.802143Z"
    }
   },
   "id": "98508921948e4de5",
   "execution_count": 18
  },
  {
   "cell_type": "code",
   "outputs": [],
   "source": [
    "def gen_hs(data: pd.DataFrame, tick: str):\n",
    "    data = detect_and_rename(data, 'wavelet', 3)\n",
    "    data1 = data[data['head_shoulder_pattern_wavelet'].notnull()]\n",
    "    loc = 0\n",
    "    for i in data1.index:\n",
    "        if i + 15 < len(data) and loc < i and i > 15:\n",
    "            loc += 100\n",
    "            plot_simple_df(data.loc[i - 15 : i+15], 'hs', tick, loc, 2)"
   ],
   "metadata": {
    "collapsed": false,
    "ExecuteTime": {
     "end_time": "2024-04-23T19:42:55.005955Z",
     "start_time": "2024-04-23T19:42:55.002450Z"
    }
   },
   "id": "948fd1c710143fe1",
   "execution_count": 19
  },
  {
   "cell_type": "code",
   "outputs": [],
   "source": [
    "def gen_mtb(data: pd.DataFrame, tick: str):\n",
    "    loc = 0\n",
    "    data = detect_multiple_tops_bottoms(data, window = 10)\n",
    "    data1 = data[data['multiple_top_bottom_pattern'].notnull()]\n",
    "    \n",
    "    for i in data1.index:\n",
    "        if i + 15 < len(data) and loc < i and i > 15:\n",
    "            loc += 25\n",
    "            plot_simple_df(data.loc[i - 15 : i+15], 'mtb', tick, loc, 2)   "
   ],
   "metadata": {
    "collapsed": false,
    "ExecuteTime": {
     "end_time": "2024-04-23T19:42:55.244321Z",
     "start_time": "2024-04-23T19:42:55.240815Z"
    }
   },
   "id": "bac1bd6b013916f6",
   "execution_count": 20
  },
  {
   "cell_type": "code",
   "outputs": [],
   "source": [
    "def gen_tri(data: pd.DataFrame, tick: str):\n",
    "    loc = 0\n",
    "    data = detect_triangle_pattern(data, window=3)\n",
    "    data1 = data[data['triangle_pattern'].notnull()]\n",
    "    \n",
    "    for i in data1.index:\n",
    "        if i + 15 < len(data) and loc < i and i > 15:\n",
    "            loc += 125\n",
    "            plot_simple_df(data.loc[i - 15 : i + 15], 'tri', tick, loc, 2)    "
   ],
   "metadata": {
    "collapsed": false,
    "ExecuteTime": {
     "end_time": "2024-04-23T19:42:55.396554Z",
     "start_time": "2024-04-23T19:42:55.392548Z"
    }
   },
   "id": "fe5684d6ea371e40",
   "execution_count": 21
  },
  {
   "cell_type": "code",
   "outputs": [],
   "source": [
    "def gen_wedge(data: pd.DataFrame, tick: str):\n",
    "    loc = 0\n",
    "    data = detect_wedge(data, window=3)\n",
    "    data1 = data[data['wedge_pattern'] == 'Wedge Up']\n",
    "    data2 = data[data['wedge_pattern'] == 'Wedge Down']\n",
    "    count = 0\n",
    "    lookback = 20\n",
    "    # Changing params to change how many patterns are pulled from a single stock\n",
    "    for i in data1.index:\n",
    "        if i + lookback < len(data) and loc < i and i > lookback:\n",
    "            loc += 100\n",
    "            plot_simple_df(data.loc[i - lookback : i + lookback], 'wed_up', tick, loc, 2)\n",
    "        if count > 25:\n",
    "            break\n",
    "    count = 0\n",
    "    loc = 0\n",
    "    for i in data2.index:\n",
    "        if i + lookback < len(data) and loc < i and i > lookback:\n",
    "            loc += 100\n",
    "            plot_simple_df(data.loc[i - lookback : i + lookback], 'wed_down', tick, loc, 2)   \n",
    "        if count > 25:\n",
    "            break"
   ],
   "metadata": {
    "collapsed": false,
    "ExecuteTime": {
     "end_time": "2024-04-23T19:42:55.576329Z",
     "start_time": "2024-04-23T19:42:55.571822Z"
    }
   },
   "id": "1bb7bd7d4936ff88",
   "execution_count": 22
  },
  {
   "cell_type": "code",
   "outputs": [],
   "source": [
    "def gen_chann(data: pd.DataFrame, tick: str):\n",
    "    data = detect_channel(data, window=3)\n",
    "    data1 = data[data['channel_pattern'] == 'Channel Up']\n",
    "    data2 = data[data['channel_pattern'] == 'Channel Down']\n",
    "    loc = 0\n",
    "    count = 0\n",
    "    lookback = 25\n",
    "    # Changing params to change how many patterns are pulled from a single stock\n",
    "    for i in data1.index:\n",
    "        if i + lookback < len(data) and loc < i and i > lookback:\n",
    "            loc += 100\n",
    "            plot_simple_df(data.loc[i - lookback : i + lookback], 'chan_up', tick, loc, 2)\n",
    "        if count > 25:\n",
    "            break\n",
    "    count = 0\n",
    "    loc = 0\n",
    "    for i in data2.index:\n",
    "        if i + lookback < len(data) and loc < i and i > lookback:\n",
    "            loc += 100\n",
    "            plot_simple_df(data.loc[i - lookback : i + lookback], 'chan_down', tick, loc, 2)   \n",
    "        if count > 25:\n",
    "            break\n",
    "    return"
   ],
   "metadata": {
    "collapsed": false,
    "ExecuteTime": {
     "end_time": "2024-04-23T20:12:28.960528Z",
     "start_time": "2024-04-23T20:12:28.955520Z"
    }
   },
   "id": "9a71c99e845f737a",
   "execution_count": 44
  },
  {
   "cell_type": "code",
   "outputs": [],
   "source": [
    "def gen_double(data: pd.DataFrame, tick: str):\n",
    "    data = detect_double_top_bottom(data, window=3, threshold=0.1)\n",
    "    data1 = data[data['double_pattern'] == 'Double Top']\n",
    "    data2 = data[data['double_pattern'] == 'Double Bottom']\n",
    "    loc = 0\n",
    "    count = 0\n",
    "    lookback = 20\n",
    "    # Changing params to change how many patterns are pulled from a single stock\n",
    "    for i in data1.index:\n",
    "        if i + lookback < len(data) and loc < i and i > lookback:\n",
    "            loc += 100\n",
    "            plot_simple_df(data.loc[i - lookback : i + lookback], 'doub_top', tick, loc, 2)\n",
    "        if count > 25:\n",
    "            break\n",
    "    count = 0\n",
    "    loc = 0\n",
    "    for i in data2.index:\n",
    "        if i + lookback < len(data) and loc < i and i > lookback:\n",
    "            loc += 100\n",
    "            plot_simple_df(data.loc[i - lookback : i + lookback], 'doub_bot', tick, loc, 2)   \n",
    "        if count > 25:\n",
    "            break\n",
    "    return"
   ],
   "metadata": {
    "collapsed": false,
    "ExecuteTime": {
     "end_time": "2024-04-23T20:12:33.688770Z",
     "start_time": "2024-04-23T20:12:33.683761Z"
    }
   },
   "id": "f4b615d1f223c6bf",
   "execution_count": 45
  },
  {
   "cell_type": "code",
   "outputs": [],
   "source": [
    "# Generate a variety of patterns\n",
    "def generate_patterns(pat: str, bound1 = 0, bound2 = 2):\n",
    "    if bound2 < bound1:\n",
    "        print(\"Error with bounds\")\n",
    "        return\n",
    "    if bound1 < 0:\n",
    "        bound1 = 0\n",
    "    if bound2 > 500:\n",
    "        bound2 = bound1 + 2\n",
    "    for t in tickers[bound1:bound2]:\n",
    "        try:\n",
    "            # Read the CSV\n",
    "            data = read_csv(t)\n",
    "            \n",
    "            # Generate the patterns and save to images\n",
    "            # Accurately detects head and shoulders by using wavelet noise reduction\n",
    "            if pat == 'wavelet': \n",
    "                gen_hs(data, t)\n",
    "            # This does not generate anything? \n",
    "            elif pat == 'mtb':\n",
    "                gen_mtb(data, t)\n",
    "            # Only detects ascending and descending triangles\n",
    "            elif pat == 'tri':\n",
    "                gen_tri(data, t)\n",
    "            # Finds ascending and descending wedges\n",
    "            elif pat == 'wed':\n",
    "                gen_wedge(data, t)\n",
    "            # Find ascending and descending wedges\n",
    "            elif pat == 'chan':\n",
    "                gen_chann(data, t)\n",
    "            # Find double tops and double bottoms\n",
    "            elif pat == 'double':\n",
    "                gen_double(data, t)\n",
    "            else:\n",
    "                print('There is no pattern')\n",
    "                break\n",
    "        except Exception as e:\n",
    "            print(f\"Failed on ticker {t} with exception {e}\")\n",
    "            continue"
   ],
   "metadata": {
    "collapsed": false,
    "ExecuteTime": {
     "end_time": "2024-04-23T20:12:37.116519Z",
     "start_time": "2024-04-23T20:12:37.111512Z"
    }
   },
   "id": "4b50fae51d6a3168",
   "execution_count": 46
  },
  {
   "cell_type": "code",
   "outputs": [],
   "source": [
    "# tracemalloc.start() \n",
    "# generate_patterns('wavelet')\n",
    "\n",
    "# snapshot = tracemalloc.take_snapshot()\n",
    "# display_top(snapshot)\n",
    "# gc.collect()"
   ],
   "metadata": {
    "collapsed": false
   },
   "id": "6fef988aeb69a26c"
  },
  {
   "cell_type": "code",
   "outputs": [],
   "source": [
    "# tracemalloc.start() \n",
    "# generate_patterns('mtb')\n",
    "\n",
    "# snapshot = tracemalloc.take_snapshot()\n",
    "# display_top(snapshot)\n",
    "# gc.collect()"
   ],
   "metadata": {
    "collapsed": false
   },
   "id": "f2486edf901ebbdb"
  },
  {
   "cell_type": "code",
   "outputs": [],
   "source": [
    "# tracemalloc.start() \n",
    "# generate_patterns('tri')\n",
    "\n",
    "# snapshot = tracemalloc.take_snapshot()\n",
    "# display_top(snapshot)\n",
    "# gc.collect()"
   ],
   "metadata": {
    "collapsed": false
   },
   "id": "cece872d3a0b5e21",
   "execution_count": null
  },
  {
   "cell_type": "code",
   "outputs": [],
   "source": [
    "# generate_patterns('wed', 351, 450)\n",
    "# \n",
    "# gc.collect()"
   ],
   "metadata": {
    "collapsed": false
   },
   "id": "d71b1a6e2fa7b2b6",
   "execution_count": null
  },
  {
   "cell_type": "code",
   "outputs": [],
   "source": [
    "# generate_patterns('chan', 351, 400)"
   ],
   "metadata": {
    "collapsed": false,
    "ExecuteTime": {
     "end_time": "2024-04-23T20:04:49.261931Z",
     "start_time": "2024-04-23T20:02:42.745152Z"
    }
   },
   "id": "6bdd2787a1d9af63",
   "execution_count": 32
  },
  {
   "cell_type": "code",
   "outputs": [
    {
     "name": "stdout",
     "output_type": "stream",
     "text": [
      "Failed on ticker RVTY with exception [Errno 2] No such file or directory: 'data/RVTY_data.csv'\n",
      "Failed on ticker SLB with exception [Errno 2] No such file or directory: 'data/SLB_data.csv'\n"
     ]
    }
   ],
   "source": [
    "# generate_patterns('double', 350, 500)"
   ],
   "metadata": {
    "collapsed": false,
    "ExecuteTime": {
     "end_time": "2024-04-23T20:33:21.685760Z",
     "start_time": "2024-04-23T20:27:16.604584Z"
    }
   },
   "id": "e9374d761f78ada9",
   "execution_count": 55
  },
  {
   "cell_type": "code",
   "outputs": [
    {
     "data": {
      "text/plain": "37417461"
     },
     "execution_count": 56,
     "metadata": {},
     "output_type": "execute_result"
    }
   ],
   "source": [
    "gc.collect()"
   ],
   "metadata": {
    "collapsed": false,
    "ExecuteTime": {
     "end_time": "2024-04-23T20:34:00.813190Z",
     "start_time": "2024-04-23T20:33:25.853643Z"
    }
   },
   "id": "c59f0e10cfb47899",
   "execution_count": 56
  }
 ],
 "metadata": {
  "kernelspec": {
   "display_name": "Python 3",
   "language": "python",
   "name": "python3"
  },
  "language_info": {
   "codemirror_mode": {
    "name": "ipython",
    "version": 2
   },
   "file_extension": ".py",
   "mimetype": "text/x-python",
   "name": "python",
   "nbconvert_exporter": "python",
   "pygments_lexer": "ipython2",
   "version": "2.7.6"
  }
 },
 "nbformat": 4,
 "nbformat_minor": 5
}
