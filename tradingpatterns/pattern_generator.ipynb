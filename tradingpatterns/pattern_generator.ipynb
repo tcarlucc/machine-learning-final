{
 "cells": [
  {
   "cell_type": "code",
   "execution_count": 1,
   "id": "initial_id",
   "metadata": {
    "collapsed": true,
    "ExecuteTime": {
     "end_time": "2024-04-22T23:02:13.611229Z",
     "start_time": "2024-04-22T23:02:12.017289Z"
    }
   },
   "outputs": [],
   "source": [
    "import os\n",
    "import warnings\n",
    "warnings.filterwarnings('ignore')\n",
    "\n",
    "import pandas as pd\n",
    "import numpy as np\n",
    "import random\n",
    "import matplotlib.pyplot as plt\n",
    "import mplfinance as mpf\n",
    "from datetime import datetime, timedelta\n",
    "from hard_data import generate_data_head_shoulder, generate_sample_df_with_pattern\n",
    "from analysis import detect_and_rename"
   ]
  },
  {
   "cell_type": "code",
   "outputs": [],
   "source": [
    "def plot_simple_df(candle_data: pd.DataFrame, ticker: str,  count: int, pad: int = 2):\n",
    "    if pad < 0:\n",
    "        pad = 0\n",
    "    fname = \"images/syn/\" + 'hs_' + ticker + '_' + str(count) + \".png\"\n",
    "    \n",
    "    candle_data.index = pd.DatetimeIndex(candle_data['Datetime'])\n",
    "    candle_data.drop(columns=['Datetime'], inplace=True)\n",
    "\n",
    "    mpf.plot(candle_data, type='candle', axisoff=True, style = 'classic', savefig=dict(fname=fname, dpi=60))  "
   ],
   "metadata": {
    "collapsed": false,
    "ExecuteTime": {
     "end_time": "2024-04-22T23:02:14.897197Z",
     "start_time": "2024-04-22T23:02:14.883176Z"
    }
   },
   "id": "a2bf733e8f0f9564",
   "execution_count": 2
  },
  {
   "cell_type": "code",
   "outputs": [],
   "source": [
    "ticker = 'AAPL'\n",
    "data = pd.read_csv('data/' + ticker + '_data.csv', index_col=None, header=0)\n",
    "# Place the datetime in a temp dataset\n",
    "temp = data['Datetime']\n",
    "data.rename(columns={\"open\": \"Open\", \"close\": \"Close\", \"high\": \"High\",\n",
    "                     \"low\": \"Low\", 'volume': 'Volume'}, inplace=True)\n",
    "# Apply numeric and log to the data\n",
    "data = data.apply(pd.to_numeric, errors='coerce')\n",
    "data = np.log(data)\n",
    "# Add the datetime we saved earlier back in\n",
    "data['Datetime'] = temp\n",
    "data.drop(columns=['adj_close', 'adj_high', 'adj_low'], inplace=True)"
   ],
   "metadata": {
    "collapsed": false,
    "ExecuteTime": {
     "end_time": "2024-04-22T23:02:21.214366Z",
     "start_time": "2024-04-22T23:02:21.189327Z"
    }
   },
   "id": "554b93ac5a610ae4",
   "execution_count": 5
  },
  {
   "cell_type": "code",
   "outputs": [],
   "source": [
    "data = detect_and_rename(data, 'wavelet', 3)"
   ],
   "metadata": {
    "collapsed": false,
    "ExecuteTime": {
     "end_time": "2024-04-22T23:02:22.347099Z",
     "start_time": "2024-04-22T23:02:22.333078Z"
    }
   },
   "id": "7efe54aa862077a9",
   "execution_count": 6
  },
  {
   "cell_type": "code",
   "outputs": [
    {
     "data": {
      "text/plain": "              Datetime      Open      High       Low     Close     Volume  \\\n0  2022-04-19 09:30:00  5.106067  5.115055  5.099318  5.113643  16.590533   \n1  2022-04-19 10:30:00  5.113613  5.120625  5.113312  5.119370  15.982426   \n2  2022-04-19 11:30:00  5.119400  5.120685  5.114875  5.114995  15.589646   \n3  2022-04-19 12:30:00  5.114935  5.116076  5.112710  5.112751  15.296711   \n4  2022-04-19 13:30:00  5.112771  5.115896  5.111114  5.114214  15.573481   \n\n   High_smooth  Low_smooth  high_roll_max  low_roll_min  \\\n0     5.092125    5.077974            NaN           NaN   \n1     5.094615    5.088723            NaN           NaN   \n2     5.094134    5.086783       5.094615      5.077974   \n3     5.092605    5.086783       5.094615      5.086783   \n4     5.090411    5.084909       5.094134      5.084909   \n\n  head_shoulder_pattern_wavelet  \n0                           NaN  \n1                           NaN  \n2                           NaN  \n3                           NaN  \n4             Head and Shoulder  ",
      "text/html": "<div>\n<style scoped>\n    .dataframe tbody tr th:only-of-type {\n        vertical-align: middle;\n    }\n\n    .dataframe tbody tr th {\n        vertical-align: top;\n    }\n\n    .dataframe thead th {\n        text-align: right;\n    }\n</style>\n<table border=\"1\" class=\"dataframe\">\n  <thead>\n    <tr style=\"text-align: right;\">\n      <th></th>\n      <th>Datetime</th>\n      <th>Open</th>\n      <th>High</th>\n      <th>Low</th>\n      <th>Close</th>\n      <th>Volume</th>\n      <th>High_smooth</th>\n      <th>Low_smooth</th>\n      <th>high_roll_max</th>\n      <th>low_roll_min</th>\n      <th>head_shoulder_pattern_wavelet</th>\n    </tr>\n  </thead>\n  <tbody>\n    <tr>\n      <th>0</th>\n      <td>2022-04-19 09:30:00</td>\n      <td>5.106067</td>\n      <td>5.115055</td>\n      <td>5.099318</td>\n      <td>5.113643</td>\n      <td>16.590533</td>\n      <td>5.092125</td>\n      <td>5.077974</td>\n      <td>NaN</td>\n      <td>NaN</td>\n      <td>NaN</td>\n    </tr>\n    <tr>\n      <th>1</th>\n      <td>2022-04-19 10:30:00</td>\n      <td>5.113613</td>\n      <td>5.120625</td>\n      <td>5.113312</td>\n      <td>5.119370</td>\n      <td>15.982426</td>\n      <td>5.094615</td>\n      <td>5.088723</td>\n      <td>NaN</td>\n      <td>NaN</td>\n      <td>NaN</td>\n    </tr>\n    <tr>\n      <th>2</th>\n      <td>2022-04-19 11:30:00</td>\n      <td>5.119400</td>\n      <td>5.120685</td>\n      <td>5.114875</td>\n      <td>5.114995</td>\n      <td>15.589646</td>\n      <td>5.094134</td>\n      <td>5.086783</td>\n      <td>5.094615</td>\n      <td>5.077974</td>\n      <td>NaN</td>\n    </tr>\n    <tr>\n      <th>3</th>\n      <td>2022-04-19 12:30:00</td>\n      <td>5.114935</td>\n      <td>5.116076</td>\n      <td>5.112710</td>\n      <td>5.112751</td>\n      <td>15.296711</td>\n      <td>5.092605</td>\n      <td>5.086783</td>\n      <td>5.094615</td>\n      <td>5.086783</td>\n      <td>NaN</td>\n    </tr>\n    <tr>\n      <th>4</th>\n      <td>2022-04-19 13:30:00</td>\n      <td>5.112771</td>\n      <td>5.115896</td>\n      <td>5.111114</td>\n      <td>5.114214</td>\n      <td>15.573481</td>\n      <td>5.090411</td>\n      <td>5.084909</td>\n      <td>5.094134</td>\n      <td>5.084909</td>\n      <td>Head and Shoulder</td>\n    </tr>\n  </tbody>\n</table>\n</div>"
     },
     "execution_count": 8,
     "metadata": {},
     "output_type": "execute_result"
    }
   ],
   "source": [
    "data.head()"
   ],
   "metadata": {
    "collapsed": false,
    "ExecuteTime": {
     "end_time": "2024-04-22T23:02:36.806229Z",
     "start_time": "2024-04-22T23:02:36.787200Z"
    }
   },
   "id": "695221916c22ef5b",
   "execution_count": 8
  },
  {
   "cell_type": "code",
   "outputs": [
    {
     "data": {
      "text/plain": "195"
     },
     "execution_count": 9,
     "metadata": {},
     "output_type": "execute_result"
    }
   ],
   "source": [
    "data1 = data[data['head_shoulder_pattern_wavelet'].notnull()]\n",
    "len(data1.index)"
   ],
   "metadata": {
    "collapsed": false,
    "ExecuteTime": {
     "end_time": "2024-04-22T23:02:47.634803Z",
     "start_time": "2024-04-22T23:02:47.616776Z"
    }
   },
   "id": "b3fe988bc78db904",
   "execution_count": 9
  },
  {
   "cell_type": "code",
   "outputs": [
    {
     "data": {
      "text/plain": "                 Datetime      Open      High       Low     Close     Volume  \\\n4     2022-04-19 13:30:00  5.112771  5.115896  5.111114  5.114214  15.573481   \n9     2022-04-20 11:30:00  5.116796  5.119699  5.112590  5.114900  15.691351   \n16    2022-04-21 11:30:00  5.142745  5.143037  5.134032  5.134238  16.219502   \n20    2022-04-21 15:30:00  5.116196  5.118802  5.111988  5.114094  16.004316   \n25    2022-04-22 13:30:00  5.100293  5.101511  5.095650  5.096664  15.788977   \n...                   ...       ...       ...       ...       ...        ...   \n3335  2024-03-14 10:30:00  5.157157  5.160823  5.155024  5.155255  15.568776   \n3349  2024-03-18 10:30:00  5.178238  5.180153  5.173661  5.175132  15.975040   \n3405  2024-03-28 10:30:00  5.142832  5.142891  5.138794  5.140698  15.882775   \n3473  2024-04-11 15:30:00  5.163299  5.167411  5.162612  5.165014  16.524150   \n3497  2024-04-17 11:30:00  5.131200  5.132027  5.127529  5.128122  15.582526   \n\n      High_smooth  Low_smooth  high_roll_max  low_roll_min  \\\n4        5.090411    5.084909       5.094134      5.084909   \n9        5.089663    5.083472       5.096583      5.083472   \n16       5.113258    5.104092       5.113258      5.088875   \n20       5.097642    5.087607       5.105226      5.087607   \n25       5.082245    5.076542       5.095164      5.076542   \n...           ...         ...            ...           ...   \n3335     5.174321    5.168131       5.174321      5.160642   \n3349     5.185064    5.178513       5.185064      5.155356   \n3405     5.167421    5.162463       5.171579      5.162463   \n3473     5.182972    5.182183       5.182972      5.169019   \n3497     5.163738    5.159942       5.167504      5.159942   \n\n     head_shoulder_pattern_wavelet  \n4                Head and Shoulder  \n9                Head and Shoulder  \n16       Inverse Head and Shoulder  \n20               Head and Shoulder  \n25               Head and Shoulder  \n...                            ...  \n3335     Inverse Head and Shoulder  \n3349     Inverse Head and Shoulder  \n3405             Head and Shoulder  \n3473     Inverse Head and Shoulder  \n3497             Head and Shoulder  \n\n[195 rows x 11 columns]",
      "text/html": "<div>\n<style scoped>\n    .dataframe tbody tr th:only-of-type {\n        vertical-align: middle;\n    }\n\n    .dataframe tbody tr th {\n        vertical-align: top;\n    }\n\n    .dataframe thead th {\n        text-align: right;\n    }\n</style>\n<table border=\"1\" class=\"dataframe\">\n  <thead>\n    <tr style=\"text-align: right;\">\n      <th></th>\n      <th>Datetime</th>\n      <th>Open</th>\n      <th>High</th>\n      <th>Low</th>\n      <th>Close</th>\n      <th>Volume</th>\n      <th>High_smooth</th>\n      <th>Low_smooth</th>\n      <th>high_roll_max</th>\n      <th>low_roll_min</th>\n      <th>head_shoulder_pattern_wavelet</th>\n    </tr>\n  </thead>\n  <tbody>\n    <tr>\n      <th>4</th>\n      <td>2022-04-19 13:30:00</td>\n      <td>5.112771</td>\n      <td>5.115896</td>\n      <td>5.111114</td>\n      <td>5.114214</td>\n      <td>15.573481</td>\n      <td>5.090411</td>\n      <td>5.084909</td>\n      <td>5.094134</td>\n      <td>5.084909</td>\n      <td>Head and Shoulder</td>\n    </tr>\n    <tr>\n      <th>9</th>\n      <td>2022-04-20 11:30:00</td>\n      <td>5.116796</td>\n      <td>5.119699</td>\n      <td>5.112590</td>\n      <td>5.114900</td>\n      <td>15.691351</td>\n      <td>5.089663</td>\n      <td>5.083472</td>\n      <td>5.096583</td>\n      <td>5.083472</td>\n      <td>Head and Shoulder</td>\n    </tr>\n    <tr>\n      <th>16</th>\n      <td>2022-04-21 11:30:00</td>\n      <td>5.142745</td>\n      <td>5.143037</td>\n      <td>5.134032</td>\n      <td>5.134238</td>\n      <td>16.219502</td>\n      <td>5.113258</td>\n      <td>5.104092</td>\n      <td>5.113258</td>\n      <td>5.088875</td>\n      <td>Inverse Head and Shoulder</td>\n    </tr>\n    <tr>\n      <th>20</th>\n      <td>2022-04-21 15:30:00</td>\n      <td>5.116196</td>\n      <td>5.118802</td>\n      <td>5.111988</td>\n      <td>5.114094</td>\n      <td>16.004316</td>\n      <td>5.097642</td>\n      <td>5.087607</td>\n      <td>5.105226</td>\n      <td>5.087607</td>\n      <td>Head and Shoulder</td>\n    </tr>\n    <tr>\n      <th>25</th>\n      <td>2022-04-22 13:30:00</td>\n      <td>5.100293</td>\n      <td>5.101511</td>\n      <td>5.095650</td>\n      <td>5.096664</td>\n      <td>15.788977</td>\n      <td>5.082245</td>\n      <td>5.076542</td>\n      <td>5.095164</td>\n      <td>5.076542</td>\n      <td>Head and Shoulder</td>\n    </tr>\n    <tr>\n      <th>...</th>\n      <td>...</td>\n      <td>...</td>\n      <td>...</td>\n      <td>...</td>\n      <td>...</td>\n      <td>...</td>\n      <td>...</td>\n      <td>...</td>\n      <td>...</td>\n      <td>...</td>\n      <td>...</td>\n    </tr>\n    <tr>\n      <th>3335</th>\n      <td>2024-03-14 10:30:00</td>\n      <td>5.157157</td>\n      <td>5.160823</td>\n      <td>5.155024</td>\n      <td>5.155255</td>\n      <td>15.568776</td>\n      <td>5.174321</td>\n      <td>5.168131</td>\n      <td>5.174321</td>\n      <td>5.160642</td>\n      <td>Inverse Head and Shoulder</td>\n    </tr>\n    <tr>\n      <th>3349</th>\n      <td>2024-03-18 10:30:00</td>\n      <td>5.178238</td>\n      <td>5.180153</td>\n      <td>5.173661</td>\n      <td>5.175132</td>\n      <td>15.975040</td>\n      <td>5.185064</td>\n      <td>5.178513</td>\n      <td>5.185064</td>\n      <td>5.155356</td>\n      <td>Inverse Head and Shoulder</td>\n    </tr>\n    <tr>\n      <th>3405</th>\n      <td>2024-03-28 10:30:00</td>\n      <td>5.142832</td>\n      <td>5.142891</td>\n      <td>5.138794</td>\n      <td>5.140698</td>\n      <td>15.882775</td>\n      <td>5.167421</td>\n      <td>5.162463</td>\n      <td>5.171579</td>\n      <td>5.162463</td>\n      <td>Head and Shoulder</td>\n    </tr>\n    <tr>\n      <th>3473</th>\n      <td>2024-04-11 15:30:00</td>\n      <td>5.163299</td>\n      <td>5.167411</td>\n      <td>5.162612</td>\n      <td>5.165014</td>\n      <td>16.524150</td>\n      <td>5.182972</td>\n      <td>5.182183</td>\n      <td>5.182972</td>\n      <td>5.169019</td>\n      <td>Inverse Head and Shoulder</td>\n    </tr>\n    <tr>\n      <th>3497</th>\n      <td>2024-04-17 11:30:00</td>\n      <td>5.131200</td>\n      <td>5.132027</td>\n      <td>5.127529</td>\n      <td>5.128122</td>\n      <td>15.582526</td>\n      <td>5.163738</td>\n      <td>5.159942</td>\n      <td>5.167504</td>\n      <td>5.159942</td>\n      <td>Head and Shoulder</td>\n    </tr>\n  </tbody>\n</table>\n<p>195 rows × 11 columns</p>\n</div>"
     },
     "execution_count": 10,
     "metadata": {},
     "output_type": "execute_result"
    }
   ],
   "source": [
    "data1"
   ],
   "metadata": {
    "collapsed": false,
    "ExecuteTime": {
     "end_time": "2024-04-22T23:02:52.722591Z",
     "start_time": "2024-04-22T23:02:52.702059Z"
    }
   },
   "id": "8be6ec2fd9e1c90f",
   "execution_count": 10
  },
  {
   "cell_type": "code",
   "outputs": [],
   "source": [
    "loc = 0\n",
    "for i in data1.index:\n",
    "    if i + 15 < len(data) and loc < i and i > 15:\n",
    "        loc += 40\n",
    "        plot_simple_df(data.loc[i - 15 : i+15], ticker, loc, 2)"
   ],
   "metadata": {
    "collapsed": false,
    "ExecuteTime": {
     "end_time": "2024-04-22T23:03:05.584776Z",
     "start_time": "2024-04-22T23:03:02.471011Z"
    }
   },
   "id": "a022368483565957",
   "execution_count": 11
  },
  {
   "cell_type": "code",
   "outputs": [],
   "source": [],
   "metadata": {
    "collapsed": false
   },
   "id": "b9c65b878c37332c"
  },
  {
   "cell_type": "code",
   "outputs": [
    {
     "name": "stderr",
     "output_type": "stream",
     "text": [
      "C:\\Users\\Nick\\Documents\\SchoolStuff\\spring2024\\machineLearning\\TradingPatternScanner-main\\tradingpatterns\\tradingpatterns_tech.py:135: FutureWarning: Setting an item of incompatible dtype is deprecated and will raise an error in a future version of pandas. Value 'Head and Shoulder' has dtype incompatible with float64, please explicitly cast to a compatible dtype first.\n",
      "  df.loc[mask_head_shoulder, 'head_shoulder_pattern'] = 'Head and Shoulder'\n"
     ]
    },
    {
     "data": {
      "text/plain": "                            Open  High  Low  Close  Volume  High_smooth  \\\nDatetime                                                                  \n2024-04-22 17:14:55.094336   126   134  126    132    1861   141.381008   \n2024-04-23 17:14:55.094336   187   189  179    188    1277   174.320807   \n2024-04-24 17:14:55.094336   193   199  191    197    1753   184.820807   \n2024-04-25 17:14:55.094336   176   123  170    122    1741   130.881008   \n2024-04-26 17:14:55.094336   128   138  129    130    1164   151.494920   \n2024-04-27 17:14:55.094336   119   161  127    159    1682   152.434718   \n2024-04-28 17:14:55.094336   102   120  107    110    1598   134.083366   \n2024-04-29 17:14:55.094336   146   123  140    122    1681   134.083366   \n2024-04-30 17:14:55.094336   172   176  169    175    1417   175.839819   \n2024-05-01 17:14:55.094336   169   179  173    176    1569   175.839819   \n2024-05-02 17:14:55.094336   117   127  122    124    1486   132.958366   \n2024-05-03 17:14:55.094336   117   122  110    120    1464   132.958366   \n2024-05-04 17:14:55.094336   193   201  194    198    1796   182.195807   \n2024-05-05 17:14:55.094336   147   157   69     72    1626   160.256008   \n2024-05-06 17:14:55.094336   184   203  189    194    1544   184.695807   \n2024-05-07 17:14:55.094336   143   154   60     62    1634   157.756008   \n2024-05-08 17:14:55.094336   187   203  190    193    1893   188.219899   \n2024-05-09 17:14:55.094336   144   160   69     73    1909   167.280101   \n2024-05-10 17:14:55.094336   128   141  126    136    1043   155.780101   \n2024-05-11 17:14:55.094336   190   207  189    198    1266   199.719899   \n\n                            Low_smooth  high_roll_max  low_roll_min  \\\nDatetime                                                              \n2024-04-22 17:14:55.094336  145.580152            NaN           NaN   \n2024-04-23 17:14:55.094336  163.660924            NaN           NaN   \n2024-04-24 17:14:55.094336  167.388664     184.820807    145.580152   \n2024-04-25 17:14:55.094336  167.388664     184.820807    163.660924   \n2024-04-26 17:14:55.094336  128.651649     184.820807    128.651649   \n2024-04-27 17:14:55.094336  128.651649     152.434718    128.651649   \n2024-04-28 17:14:55.094336  128.651649     152.434718    128.651649   \n2024-04-29 17:14:55.094336  128.651649     152.434718    128.651649   \n2024-04-30 17:14:55.094336  160.482414     175.839819    128.651649   \n2024-05-01 17:14:55.094336  160.482414     175.839819    128.651649   \n2024-05-02 17:14:55.094336  120.714288     175.839819    120.714288   \n2024-05-03 17:14:55.094336  120.714288     175.839819    120.714288   \n2024-05-04 17:14:55.094336  178.535785     182.195807    120.714288   \n2024-05-05 17:14:55.094336   88.455013     182.195807     88.455013   \n2024-05-06 17:14:55.094336  180.535785     184.695807     88.455013   \n2024-05-07 17:14:55.094336   86.455013     184.695807     86.455013   \n2024-05-08 17:14:55.094336  180.156323     188.219899     86.455013   \n2024-05-09 17:14:55.094336   94.075551     188.219899     86.455013   \n2024-05-10 17:14:55.094336  135.843677     188.219899     94.075551   \n2024-05-11 17:14:55.094336  163.924449     199.719899     94.075551   \n\n                           head_shoulder_pattern_wavelet  \nDatetime                                                  \n2024-04-22 17:14:55.094336                           NaN  \n2024-04-23 17:14:55.094336                           NaN  \n2024-04-24 17:14:55.094336                           NaN  \n2024-04-25 17:14:55.094336                           NaN  \n2024-04-26 17:14:55.094336                           NaN  \n2024-04-27 17:14:55.094336                           NaN  \n2024-04-28 17:14:55.094336                           NaN  \n2024-04-29 17:14:55.094336                           NaN  \n2024-04-30 17:14:55.094336                           NaN  \n2024-05-01 17:14:55.094336                           NaN  \n2024-05-02 17:14:55.094336                           NaN  \n2024-05-03 17:14:55.094336                           NaN  \n2024-05-04 17:14:55.094336                           NaN  \n2024-05-05 17:14:55.094336                           NaN  \n2024-05-06 17:14:55.094336                           NaN  \n2024-05-07 17:14:55.094336                           NaN  \n2024-05-08 17:14:55.094336                           NaN  \n2024-05-09 17:14:55.094336                           NaN  \n2024-05-10 17:14:55.094336                           NaN  \n2024-05-11 17:14:55.094336                           NaN  ",
      "text/html": "<div>\n<style scoped>\n    .dataframe tbody tr th:only-of-type {\n        vertical-align: middle;\n    }\n\n    .dataframe tbody tr th {\n        vertical-align: top;\n    }\n\n    .dataframe thead th {\n        text-align: right;\n    }\n</style>\n<table border=\"1\" class=\"dataframe\">\n  <thead>\n    <tr style=\"text-align: right;\">\n      <th></th>\n      <th>Open</th>\n      <th>High</th>\n      <th>Low</th>\n      <th>Close</th>\n      <th>Volume</th>\n      <th>High_smooth</th>\n      <th>Low_smooth</th>\n      <th>high_roll_max</th>\n      <th>low_roll_min</th>\n      <th>head_shoulder_pattern_wavelet</th>\n    </tr>\n    <tr>\n      <th>Datetime</th>\n      <th></th>\n      <th></th>\n      <th></th>\n      <th></th>\n      <th></th>\n      <th></th>\n      <th></th>\n      <th></th>\n      <th></th>\n      <th></th>\n    </tr>\n  </thead>\n  <tbody>\n    <tr>\n      <th>2024-04-22 17:14:55.094336</th>\n      <td>126</td>\n      <td>134</td>\n      <td>126</td>\n      <td>132</td>\n      <td>1861</td>\n      <td>141.381008</td>\n      <td>145.580152</td>\n      <td>NaN</td>\n      <td>NaN</td>\n      <td>NaN</td>\n    </tr>\n    <tr>\n      <th>2024-04-23 17:14:55.094336</th>\n      <td>187</td>\n      <td>189</td>\n      <td>179</td>\n      <td>188</td>\n      <td>1277</td>\n      <td>174.320807</td>\n      <td>163.660924</td>\n      <td>NaN</td>\n      <td>NaN</td>\n      <td>NaN</td>\n    </tr>\n    <tr>\n      <th>2024-04-24 17:14:55.094336</th>\n      <td>193</td>\n      <td>199</td>\n      <td>191</td>\n      <td>197</td>\n      <td>1753</td>\n      <td>184.820807</td>\n      <td>167.388664</td>\n      <td>184.820807</td>\n      <td>145.580152</td>\n      <td>NaN</td>\n    </tr>\n    <tr>\n      <th>2024-04-25 17:14:55.094336</th>\n      <td>176</td>\n      <td>123</td>\n      <td>170</td>\n      <td>122</td>\n      <td>1741</td>\n      <td>130.881008</td>\n      <td>167.388664</td>\n      <td>184.820807</td>\n      <td>163.660924</td>\n      <td>NaN</td>\n    </tr>\n    <tr>\n      <th>2024-04-26 17:14:55.094336</th>\n      <td>128</td>\n      <td>138</td>\n      <td>129</td>\n      <td>130</td>\n      <td>1164</td>\n      <td>151.494920</td>\n      <td>128.651649</td>\n      <td>184.820807</td>\n      <td>128.651649</td>\n      <td>NaN</td>\n    </tr>\n    <tr>\n      <th>2024-04-27 17:14:55.094336</th>\n      <td>119</td>\n      <td>161</td>\n      <td>127</td>\n      <td>159</td>\n      <td>1682</td>\n      <td>152.434718</td>\n      <td>128.651649</td>\n      <td>152.434718</td>\n      <td>128.651649</td>\n      <td>NaN</td>\n    </tr>\n    <tr>\n      <th>2024-04-28 17:14:55.094336</th>\n      <td>102</td>\n      <td>120</td>\n      <td>107</td>\n      <td>110</td>\n      <td>1598</td>\n      <td>134.083366</td>\n      <td>128.651649</td>\n      <td>152.434718</td>\n      <td>128.651649</td>\n      <td>NaN</td>\n    </tr>\n    <tr>\n      <th>2024-04-29 17:14:55.094336</th>\n      <td>146</td>\n      <td>123</td>\n      <td>140</td>\n      <td>122</td>\n      <td>1681</td>\n      <td>134.083366</td>\n      <td>128.651649</td>\n      <td>152.434718</td>\n      <td>128.651649</td>\n      <td>NaN</td>\n    </tr>\n    <tr>\n      <th>2024-04-30 17:14:55.094336</th>\n      <td>172</td>\n      <td>176</td>\n      <td>169</td>\n      <td>175</td>\n      <td>1417</td>\n      <td>175.839819</td>\n      <td>160.482414</td>\n      <td>175.839819</td>\n      <td>128.651649</td>\n      <td>NaN</td>\n    </tr>\n    <tr>\n      <th>2024-05-01 17:14:55.094336</th>\n      <td>169</td>\n      <td>179</td>\n      <td>173</td>\n      <td>176</td>\n      <td>1569</td>\n      <td>175.839819</td>\n      <td>160.482414</td>\n      <td>175.839819</td>\n      <td>128.651649</td>\n      <td>NaN</td>\n    </tr>\n    <tr>\n      <th>2024-05-02 17:14:55.094336</th>\n      <td>117</td>\n      <td>127</td>\n      <td>122</td>\n      <td>124</td>\n      <td>1486</td>\n      <td>132.958366</td>\n      <td>120.714288</td>\n      <td>175.839819</td>\n      <td>120.714288</td>\n      <td>NaN</td>\n    </tr>\n    <tr>\n      <th>2024-05-03 17:14:55.094336</th>\n      <td>117</td>\n      <td>122</td>\n      <td>110</td>\n      <td>120</td>\n      <td>1464</td>\n      <td>132.958366</td>\n      <td>120.714288</td>\n      <td>175.839819</td>\n      <td>120.714288</td>\n      <td>NaN</td>\n    </tr>\n    <tr>\n      <th>2024-05-04 17:14:55.094336</th>\n      <td>193</td>\n      <td>201</td>\n      <td>194</td>\n      <td>198</td>\n      <td>1796</td>\n      <td>182.195807</td>\n      <td>178.535785</td>\n      <td>182.195807</td>\n      <td>120.714288</td>\n      <td>NaN</td>\n    </tr>\n    <tr>\n      <th>2024-05-05 17:14:55.094336</th>\n      <td>147</td>\n      <td>157</td>\n      <td>69</td>\n      <td>72</td>\n      <td>1626</td>\n      <td>160.256008</td>\n      <td>88.455013</td>\n      <td>182.195807</td>\n      <td>88.455013</td>\n      <td>NaN</td>\n    </tr>\n    <tr>\n      <th>2024-05-06 17:14:55.094336</th>\n      <td>184</td>\n      <td>203</td>\n      <td>189</td>\n      <td>194</td>\n      <td>1544</td>\n      <td>184.695807</td>\n      <td>180.535785</td>\n      <td>184.695807</td>\n      <td>88.455013</td>\n      <td>NaN</td>\n    </tr>\n    <tr>\n      <th>2024-05-07 17:14:55.094336</th>\n      <td>143</td>\n      <td>154</td>\n      <td>60</td>\n      <td>62</td>\n      <td>1634</td>\n      <td>157.756008</td>\n      <td>86.455013</td>\n      <td>184.695807</td>\n      <td>86.455013</td>\n      <td>NaN</td>\n    </tr>\n    <tr>\n      <th>2024-05-08 17:14:55.094336</th>\n      <td>187</td>\n      <td>203</td>\n      <td>190</td>\n      <td>193</td>\n      <td>1893</td>\n      <td>188.219899</td>\n      <td>180.156323</td>\n      <td>188.219899</td>\n      <td>86.455013</td>\n      <td>NaN</td>\n    </tr>\n    <tr>\n      <th>2024-05-09 17:14:55.094336</th>\n      <td>144</td>\n      <td>160</td>\n      <td>69</td>\n      <td>73</td>\n      <td>1909</td>\n      <td>167.280101</td>\n      <td>94.075551</td>\n      <td>188.219899</td>\n      <td>86.455013</td>\n      <td>NaN</td>\n    </tr>\n    <tr>\n      <th>2024-05-10 17:14:55.094336</th>\n      <td>128</td>\n      <td>141</td>\n      <td>126</td>\n      <td>136</td>\n      <td>1043</td>\n      <td>155.780101</td>\n      <td>135.843677</td>\n      <td>188.219899</td>\n      <td>94.075551</td>\n      <td>NaN</td>\n    </tr>\n    <tr>\n      <th>2024-05-11 17:14:55.094336</th>\n      <td>190</td>\n      <td>207</td>\n      <td>189</td>\n      <td>198</td>\n      <td>1266</td>\n      <td>199.719899</td>\n      <td>163.924449</td>\n      <td>199.719899</td>\n      <td>94.075551</td>\n      <td>NaN</td>\n    </tr>\n  </tbody>\n</table>\n</div>"
     },
     "execution_count": 2,
     "metadata": {},
     "output_type": "execute_result"
    }
   ],
   "source": [
    "df = generate_data_head_shoulder(1)\n",
    "df = detect_and_rename(df, 'wavelet', 3)\n",
    "df"
   ],
   "metadata": {
    "collapsed": false,
    "ExecuteTime": {
     "end_time": "2024-04-22T21:14:55.128388Z",
     "start_time": "2024-04-22T21:14:55.092834Z"
    }
   },
   "id": "d62027baff8b29ba",
   "execution_count": 2
  },
  {
   "cell_type": "code",
   "outputs": [],
   "source": [
    "plot_simple_df(df, 0, 2)"
   ],
   "metadata": {
    "collapsed": false,
    "ExecuteTime": {
     "end_time": "2024-04-22T21:10:04.741440Z",
     "start_time": "2024-04-22T21:10:04.701379Z"
    }
   },
   "id": "dc4298a91183be03",
   "execution_count": 8
  }
 ],
 "metadata": {
  "kernelspec": {
   "display_name": "Python 3",
   "language": "python",
   "name": "python3"
  },
  "language_info": {
   "codemirror_mode": {
    "name": "ipython",
    "version": 2
   },
   "file_extension": ".py",
   "mimetype": "text/x-python",
   "name": "python",
   "nbconvert_exporter": "python",
   "pygments_lexer": "ipython2",
   "version": "2.7.6"
  }
 },
 "nbformat": 4,
 "nbformat_minor": 5
}
