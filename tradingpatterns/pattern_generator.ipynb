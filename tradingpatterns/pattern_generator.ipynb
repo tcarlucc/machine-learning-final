{
 "cells": [
  {
   "cell_type": "code",
   "execution_count": 12,
   "id": "initial_id",
   "metadata": {
    "collapsed": true,
    "ExecuteTime": {
     "end_time": "2024-04-23T00:57:38.064336Z",
     "start_time": "2024-04-23T00:57:38.058328Z"
    }
   },
   "outputs": [],
   "source": [
    "import os\n",
    "import warnings\n",
    "warnings.filterwarnings('ignore')\n",
    "\n",
    "import pandas as pd\n",
    "import numpy as np\n",
    "import mplfinance as mpf\n",
    "\n",
    "from analysis import detect_and_rename\n",
    "from tradingpatterns_basic import detect_multiple_tops_bottoms, detect_triangle_pattern, detect_wedge, detect_channel, detect_double_top_bottom"
   ]
  },
  {
   "cell_type": "markdown",
   "source": [
    "This notebook goes through all the data downloaded locally and runs various scripts to generate images which can then be fed into the CNN"
   ],
   "metadata": {
    "collapsed": false
   },
   "id": "26407a0a8c4ab2be"
  },
  {
   "cell_type": "code",
   "outputs": [],
   "source": [
    "np.random.seed(seed=42)"
   ],
   "metadata": {
    "collapsed": false,
    "ExecuteTime": {
     "end_time": "2024-04-23T01:01:15.913763Z",
     "start_time": "2024-04-23T01:01:15.910258Z"
    }
   },
   "id": "9f89b46801c0446",
   "execution_count": 39
  },
  {
   "cell_type": "code",
   "outputs": [],
   "source": [
    "# Read and print the stock tickers that make up S&P500\n",
    "tickers = pd.read_html(\n",
    "    'https://en.wikipedia.org/wiki/List_of_S%26P_500_companies')[0]\n",
    "\n",
    "tickers = tickers.Symbol.to_list()"
   ],
   "metadata": {
    "collapsed": false,
    "ExecuteTime": {
     "end_time": "2024-04-23T01:04:28.046830Z",
     "start_time": "2024-04-23T01:04:27.751378Z"
    }
   },
   "id": "24f9053d55a829ae",
   "execution_count": 42
  },
  {
   "cell_type": "code",
   "outputs": [],
   "source": [
    "# Plot the chart. Saves it using the id\n",
    "def plot_simple_df(candle_data: pd.DataFrame, stock_type: str, ticker: str,  count: int, pad: int = 2):\n",
    "    if pad < 0:\n",
    "        pad = 0\n",
    "    fname = \"images/hs/\" + stock_type + ticker + '_' + str(count) + \".png\"\n",
    "    \n",
    "    candle_data.index = pd.DatetimeIndex(candle_data['Datetime'])\n",
    "    candle_data.drop(columns=['Datetime'], inplace=True)\n",
    "\n",
    "    mpf.plot(candle_data, type='candle', axisoff=True, style = 'classic', savefig=dict(fname=fname, dpi=60))  "
   ],
   "metadata": {
    "collapsed": false,
    "ExecuteTime": {
     "end_time": "2024-04-23T01:04:29.874127Z",
     "start_time": "2024-04-23T01:04:29.870121Z"
    }
   },
   "id": "a2bf733e8f0f9564",
   "execution_count": 43
  },
  {
   "cell_type": "code",
   "outputs": [],
   "source": [
    "def shuffle_list(ticker_list: list):\n",
    "    # Shuffling to get different stocks. Will do this after each pattern\n",
    "    # This makes sure I am pulling from a different list of stocks,\n",
    "    # But that I will produce the same images each time\n",
    "    tickers_shuff = tickers\n",
    "    np.random.shuffle(tickers_shuff)\n",
    "    return tickers_shuff"
   ],
   "metadata": {
    "collapsed": false,
    "ExecuteTime": {
     "end_time": "2024-04-23T01:04:32.584776Z",
     "start_time": "2024-04-23T01:04:32.581271Z"
    }
   },
   "id": "98508921948e4de5",
   "execution_count": 44
  },
  {
   "cell_type": "code",
   "outputs": [
    {
     "name": "stdout",
     "output_type": "stream",
     "text": [
      "Failed on ticker BRK.B with exception [Errno 2] No such file or directory: 'data/BRK.B_data.csv'\n",
      "Failed on ticker BF.B with exception [Errno 2] No such file or directory: 'data/BF.B_data.csv'\n",
      "Failed on ticker COR with exception [Errno 2] No such file or directory: 'data/COR_data.csv'\n",
      "Failed on ticker ELV with exception [Errno 2] No such file or directory: 'data/ELV_data.csv'\n",
      "Failed on ticker EG with exception [Errno 2] No such file or directory: 'data/EG_data.csv'\n",
      "Failed on ticker GEN with exception [Errno 2] No such file or directory: 'data/GEN_data.csv'\n",
      "Failed on ticker RVTY with exception [Errno 2] No such file or directory: 'data/RVTY_data.csv'\n"
     ]
    }
   ],
   "source": [
    "# Generate head and shoulders images\n",
    "for ticker in tickers[0:2]:\n",
    "    try:\n",
    "        data = pd.read_csv('data/' + ticker + '_data.csv', index_col=None, header=0)\n",
    "        # Place the datetime in a temp dataset\n",
    "        temp = data['Datetime']\n",
    "        data.rename(columns={\"open\": \"Open\", \"close\": \"Close\", \"high\": \"High\",\n",
    "                             \"low\": \"Low\", 'volume': 'Volume'}, inplace=True)\n",
    "        # Apply numeric and log to the data\n",
    "        data = data.apply(pd.to_numeric, errors='coerce')\n",
    "        data = np.log(data)\n",
    "        # Add the datetime we saved earlier back in\n",
    "        data['Datetime'] = temp\n",
    "        data.drop(columns=['adj_close', 'adj_high', 'adj_low'], inplace=True)\n",
    "        \n",
    "        data = detect_and_rename(data, 'wavelet', 3)\n",
    "        data1 = data[data['head_shoulder_pattern_wavelet'].notnull()]\n",
    "        \n",
    "        loc = 0\n",
    "        for i in data1.index:\n",
    "            if i + 15 < len(data) and loc < i and i > 15:\n",
    "                loc += 40\n",
    "                plot_simple_df(data.loc[i - 15 : i+15], 'hs_', ticker, loc, 2)   \n",
    "    except Exception as e:\n",
    "        print(f\"Failed on ticker {ticker} with exception {e}\")\n",
    "        continue"
   ],
   "metadata": {
    "collapsed": false,
    "is_executing": true,
    "ExecuteTime": {
     "start_time": "2024-04-22T23:28:10.479574Z"
    }
   },
   "id": "4b50fae51d6a3168",
   "execution_count": null
  },
  {
   "cell_type": "code",
   "outputs": [],
   "source": [
    "ticks = shuffle_list(tickers)"
   ],
   "metadata": {
    "collapsed": false
   },
   "id": "3e296004f2656e5b"
  },
  {
   "cell_type": "code",
   "outputs": [
    {
     "data": {
      "text/plain": "'AAL'"
     },
     "execution_count": 38,
     "metadata": {},
     "output_type": "execute_result"
    }
   ],
   "source": [],
   "metadata": {
    "collapsed": false,
    "ExecuteTime": {
     "end_time": "2024-04-23T00:58:18.036515Z",
     "start_time": "2024-04-23T00:58:18.033010Z"
    }
   },
   "id": "1d48f7ff4582606d",
   "execution_count": 38
  }
 ],
 "metadata": {
  "kernelspec": {
   "display_name": "Python 3",
   "language": "python",
   "name": "python3"
  },
  "language_info": {
   "codemirror_mode": {
    "name": "ipython",
    "version": 2
   },
   "file_extension": ".py",
   "mimetype": "text/x-python",
   "name": "python",
   "nbconvert_exporter": "python",
   "pygments_lexer": "ipython2",
   "version": "2.7.6"
  }
 },
 "nbformat": 4,
 "nbformat_minor": 5
}
