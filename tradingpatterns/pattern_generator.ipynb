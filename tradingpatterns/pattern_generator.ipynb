{
 "cells": [
  {
   "cell_type": "code",
   "execution_count": 2,
   "id": "initial_id",
   "metadata": {
    "collapsed": true,
    "ExecuteTime": {
     "end_time": "2024-04-23T00:03:29.172314Z",
     "start_time": "2024-04-23T00:03:26.731077Z"
    }
   },
   "outputs": [],
   "source": [
    "import os\n",
    "import warnings\n",
    "warnings.filterwarnings('ignore')\n",
    "\n",
    "import pandas as pd\n",
    "import numpy as np\n",
    "import random\n",
    "import matplotlib.pyplot as plt\n",
    "import mplfinance as mpf\n",
    "from datetime import datetime, timedelta\n",
    "from hard_data import generate_data_head_shoulder, generate_sample_df_with_pattern\n",
    "from analysis import detect_and_rename"
   ]
  },
  {
   "cell_type": "code",
   "outputs": [],
   "source": [
    "# Read and print the stock tickers that make up S&P500\n",
    "tickers = pd.read_html(\n",
    "    'https://en.wikipedia.org/wiki/List_of_S%26P_500_companies')[0]\n",
    "\n",
    "# Get the data for these tickers from yahoo finance\n",
    "# yf_top500 = yf.download(tickers.Symbol.to_list(), interval='60m', period='2y', auto_adjust=True)['Close']"
   ],
   "metadata": {
    "collapsed": false,
    "ExecuteTime": {
     "end_time": "2024-04-22T23:26:19.996476Z",
     "start_time": "2024-04-22T23:26:19.667973Z"
    }
   },
   "id": "24f9053d55a829ae",
   "execution_count": 4
  },
  {
   "cell_type": "code",
   "outputs": [],
   "source": [
    "# Plot the chart. Saves it using the id\n",
    "def plot_simple_df(candle_data: pd.DataFrame, stock_type: str, ticker: str,  count: int, pad: int = 2):\n",
    "    if pad < 0:\n",
    "        pad = 0\n",
    "    fname = \"images/hs/\" + stock_type + ticker + '_' + str(count) + \".png\"\n",
    "    \n",
    "    candle_data.index = pd.DatetimeIndex(candle_data['Datetime'])\n",
    "    candle_data.drop(columns=['Datetime'], inplace=True)\n",
    "\n",
    "    mpf.plot(candle_data, type='candle', axisoff=True, style = 'classic', savefig=dict(fname=fname, dpi=60))  "
   ],
   "metadata": {
    "collapsed": false,
    "ExecuteTime": {
     "end_time": "2024-04-22T23:28:01.403684Z",
     "start_time": "2024-04-22T23:28:01.399677Z"
    }
   },
   "id": "a2bf733e8f0f9564",
   "execution_count": 8
  },
  {
   "cell_type": "code",
   "outputs": [
    {
     "name": "stdout",
     "output_type": "stream",
     "text": [
      "Failed on ticker BRK.B with exception [Errno 2] No such file or directory: 'data/BRK.B_data.csv'\n",
      "Failed on ticker BF.B with exception [Errno 2] No such file or directory: 'data/BF.B_data.csv'\n",
      "Failed on ticker COR with exception [Errno 2] No such file or directory: 'data/COR_data.csv'\n",
      "Failed on ticker ELV with exception [Errno 2] No such file or directory: 'data/ELV_data.csv'\n",
      "Failed on ticker EG with exception [Errno 2] No such file or directory: 'data/EG_data.csv'\n",
      "Failed on ticker GEN with exception [Errno 2] No such file or directory: 'data/GEN_data.csv'\n",
      "Failed on ticker RVTY with exception [Errno 2] No such file or directory: 'data/RVTY_data.csv'\n"
     ]
    }
   ],
   "source": [
    "for ticker in tickers.Symbol.to_list()[0:2]:\n",
    "    try:\n",
    "        data = pd.read_csv('data/' + ticker + '_data.csv', index_col=None, header=0)\n",
    "        # Place the datetime in a temp dataset\n",
    "        temp = data['Datetime']\n",
    "        data.rename(columns={\"open\": \"Open\", \"close\": \"Close\", \"high\": \"High\",\n",
    "                             \"low\": \"Low\", 'volume': 'Volume'}, inplace=True)\n",
    "        # Apply numeric and log to the data\n",
    "        data = data.apply(pd.to_numeric, errors='coerce')\n",
    "        data = np.log(data)\n",
    "        # Add the datetime we saved earlier back in\n",
    "        data['Datetime'] = temp\n",
    "        data.drop(columns=['adj_close', 'adj_high', 'adj_low'], inplace=True)\n",
    "        \n",
    "        data = detect_and_rename(data, 'wavelet', 3)\n",
    "        data1 = data[data['head_shoulder_pattern_wavelet'].notnull()]\n",
    "        \n",
    "        loc = 0\n",
    "        for i in data1.index:\n",
    "            if i + 15 < len(data) and loc < i and i > 15:\n",
    "                loc += 40\n",
    "                plot_simple_df(data.loc[i - 15 : i+15], 'hs_', ticker, loc, 2)   \n",
    "    except Exception as e:\n",
    "        print(f\"Failed on ticker {ticker} with exception {e}\")\n",
    "        continue"
   ],
   "metadata": {
    "collapsed": false,
    "is_executing": true,
    "ExecuteTime": {
     "start_time": "2024-04-22T23:28:10.479574Z"
    }
   },
   "id": "4b50fae51d6a3168",
   "execution_count": null
  },
  {
   "cell_type": "code",
   "outputs": [
    {
     "ename": "RuntimeError",
     "evalue": "the tracemalloc module must be tracing memory allocations to take a snapshot",
     "output_type": "error",
     "traceback": [
      "\u001B[1;31m---------------------------------------------------------------------------\u001B[0m",
      "\u001B[1;31mRuntimeError\u001B[0m                              Traceback (most recent call last)",
      "Cell \u001B[1;32mIn[3], line 6\u001B[0m\n\u001B[0;32m      3\u001B[0m \u001B[38;5;66;03m# Allocate some memory \u001B[39;00m\n\u001B[0;32m      4\u001B[0m a \u001B[38;5;241m=\u001B[39m [\u001B[38;5;241m1\u001B[39m] \u001B[38;5;241m*\u001B[39m (\u001B[38;5;241m10\u001B[39m \u001B[38;5;241m*\u001B[39m\u001B[38;5;241m*\u001B[39m \u001B[38;5;241m6\u001B[39m) \n\u001B[1;32m----> 6\u001B[0m snapshot \u001B[38;5;241m=\u001B[39m \u001B[43mtracemalloc\u001B[49m\u001B[38;5;241;43m.\u001B[39;49m\u001B[43mtake_snapshot\u001B[49m\u001B[43m(\u001B[49m\u001B[43m)\u001B[49m \n\u001B[0;32m      7\u001B[0m top_stats \u001B[38;5;241m=\u001B[39m snapshot\u001B[38;5;241m.\u001B[39mstatistics(\u001B[38;5;124m'\u001B[39m\u001B[38;5;124mlineno\u001B[39m\u001B[38;5;124m'\u001B[39m) \n\u001B[0;32m      9\u001B[0m \u001B[38;5;28;01mfor\u001B[39;00m stat \u001B[38;5;129;01min\u001B[39;00m top_stats[:\u001B[38;5;241m10\u001B[39m]: \n",
      "File \u001B[1;32m~\\AppData\\Local\\Programs\\Python\\Python311\\Lib\\tracemalloc.py:556\u001B[0m, in \u001B[0;36mtake_snapshot\u001B[1;34m()\u001B[0m\n\u001B[0;32m    552\u001B[0m \u001B[38;5;250m\u001B[39m\u001B[38;5;124;03m\"\"\"\u001B[39;00m\n\u001B[0;32m    553\u001B[0m \u001B[38;5;124;03mTake a snapshot of traces of memory blocks allocated by Python.\u001B[39;00m\n\u001B[0;32m    554\u001B[0m \u001B[38;5;124;03m\"\"\"\u001B[39;00m\n\u001B[0;32m    555\u001B[0m \u001B[38;5;28;01mif\u001B[39;00m \u001B[38;5;129;01mnot\u001B[39;00m is_tracing():\n\u001B[1;32m--> 556\u001B[0m     \u001B[38;5;28;01mraise\u001B[39;00m \u001B[38;5;167;01mRuntimeError\u001B[39;00m(\u001B[38;5;124m\"\u001B[39m\u001B[38;5;124mthe tracemalloc module must be tracing memory \u001B[39m\u001B[38;5;124m\"\u001B[39m\n\u001B[0;32m    557\u001B[0m                        \u001B[38;5;124m\"\u001B[39m\u001B[38;5;124mallocations to take a snapshot\u001B[39m\u001B[38;5;124m\"\u001B[39m)\n\u001B[0;32m    558\u001B[0m traces \u001B[38;5;241m=\u001B[39m _get_traces()\n\u001B[0;32m    559\u001B[0m traceback_limit \u001B[38;5;241m=\u001B[39m get_traceback_limit()\n",
      "\u001B[1;31mRuntimeError\u001B[0m: the tracemalloc module must be tracing memory allocations to take a snapshot"
     ]
    }
   ],
   "source": [],
   "metadata": {
    "collapsed": false,
    "ExecuteTime": {
     "end_time": "2024-04-23T00:03:52.080876Z",
     "start_time": "2024-04-23T00:03:51.746364Z"
    }
   },
   "id": "1d48f7ff4582606d",
   "execution_count": 3
  }
 ],
 "metadata": {
  "kernelspec": {
   "display_name": "Python 3",
   "language": "python",
   "name": "python3"
  },
  "language_info": {
   "codemirror_mode": {
    "name": "ipython",
    "version": 2
   },
   "file_extension": ".py",
   "mimetype": "text/x-python",
   "name": "python",
   "nbconvert_exporter": "python",
   "pygments_lexer": "ipython2",
   "version": "2.7.6"
  }
 },
 "nbformat": 4,
 "nbformat_minor": 5
}
