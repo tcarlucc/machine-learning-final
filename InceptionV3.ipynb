{
 "cells": [
  {
   "cell_type": "code",
   "execution_count": null,
   "id": "initial_id",
   "metadata": {
    "collapsed": true
   },
   "outputs": [],
   "source": [
    "import os\n",
    "import gc\n",
    "\n",
    "import matplotlib.pyplot as plt\n",
    "import numpy as np\n",
    "import pandas as pd\n",
    "\n",
    "import tensorflow as tf"
   ]
  },
  {
   "cell_type": "code",
   "outputs": [],
   "source": [
    "# Global Variables\n",
    "BATCH_SIZE = 32\n",
    "IMG_SIZE = (128, 128)"
   ],
   "metadata": {
    "collapsed": false
   },
   "id": "81a77673cd4db9dc"
  },
  {
   "cell_type": "code",
   "outputs": [],
   "source": [
    "# Paths: For local machine\n",
    "train_dir = 'C:/Users/Nick/Documents/SchoolStuff/spring2024/machineLearning/final_project/tradingpatterns/stock_patterns/train'\n",
    "validation_dir = 'C:/Users/Nick/Documents/SchoolStuff/spring2024/machineLearning/final_project/tradingpatterns/stock_patterns/validation'\n",
    "\n",
    "# Create training and validation dataset\n",
    "train_dataset = tf.keras.utils.image_dataset_from_directory(train_dir,\n",
    "                                                            shuffle=True,\n",
    "                                                            batch_size=BATCH_SIZE,\n",
    "                                                            image_size=IMG_SIZE)\n",
    "\n",
    "validation_dataset = tf.keras.utils.image_dataset_from_directory(validation_dir,\n",
    "                                                                 shuffle=True,\n",
    "                                                                 batch_size=BATCH_SIZE,\n",
    "                                                                 image_size=IMG_SIZE)"
   ],
   "metadata": {
    "collapsed": false
   },
   "id": "b7cb90dfaffb6f11"
  },
  {
   "cell_type": "code",
   "outputs": [],
   "source": [
    "val_batches = tf.data.experimental.cardinality(validation_dataset)\n",
    "test_dataset = validation_dataset.take(val_batches // 5)\n",
    "validation_dataset = validation_dataset.skip(val_batches // 5)\n",
    "preprocess_input = tf.keras.applications.mobilenet_v2.preprocess_input"
   ],
   "metadata": {
    "collapsed": false
   },
   "id": "18ac06326b91a243"
  },
  {
   "cell_type": "code",
   "outputs": [],
   "source": [
    "# Create the base model from the pre-trained model MobileNet V2\n",
    "IMG_SHAPE = IMG_SIZE + (3,)\n",
    "base_model = tf.keras.applications.InceptionV3(input_shape=IMG_SHAPE,\n",
    "                                            include_top=False,\n",
    "                                            weights='imagenet')"
   ],
   "metadata": {
    "collapsed": false
   },
   "id": "341d1051636e823b"
  },
  {
   "cell_type": "code",
   "outputs": [],
   "source": [
    "# This feature extractor converts each 255x255 image into a 5x5x1280 block of features\n",
    "image_batch, label_batch = next(iter(train_dataset))\n",
    "feature_batch = base_model(image_batch)"
   ],
   "metadata": {
    "collapsed": false
   },
   "id": "e81496d9099fd3e3"
  },
  {
   "cell_type": "code",
   "outputs": [],
   "source": [
    "base_model.trainable = False\n",
    "\n",
    "# Adding a classification head\n",
    "global_average_layer = tf.keras.layers.GlobalAveragePooling2D()\n",
    "feature_batch_average = global_average_layer(feature_batch)"
   ],
   "metadata": {
    "collapsed": false
   },
   "id": "216b862f3daf41a0"
  },
  {
   "cell_type": "code",
   "outputs": [],
   "source": [
    "# Add a dense layer to convert it to a single prediction per image\n",
    "# Test relu, leaky_relu, and sigmoid\n",
    "prediction_layer = tf.keras.layers.Dense(1, activation='sigmoid')\n",
    "prediction_batch = prediction_layer(feature_batch_average)\n",
    "\n",
    "inputs = tf.keras.Input(shape=(128, 128, 3))\n",
    "x = preprocess_input(inputs)\n",
    "x = base_model(x, training=False)\n",
    "x = global_average_layer(x)\n",
    "x = tf.keras.layers.Dropout(0.2)(x)\n",
    "outputs = prediction_layer(x)\n",
    "model = tf.keras.Model(inputs, outputs)\n",
    "\n",
    "# We use binary accuracy here because of the Sigmoid?\n",
    "# If we use a different activator then I am not sure \n",
    "base_learning_rate = 0.0001\n",
    "model.compile(optimizer=tf.keras.optimizers.RMSprop(learning_rate=base_learning_rate),\n",
    "              loss=tf.keras.losses.BinaryCrossentropy(),\n",
    "              metrics=[tf.keras.metrics.BinaryAccuracy(threshold=0.5, name='accuracy')])"
   ],
   "metadata": {
    "collapsed": false
   },
   "id": "99991f15ae0cdb9b"
  },
  {
   "cell_type": "code",
   "outputs": [],
   "source": [
    "initial_epochs = 10\n",
    "loss0, accuracy0 = model.evaluate(validation_dataset)"
   ],
   "metadata": {
    "collapsed": false
   },
   "id": "6df4e3956bd476ca"
  }
 ],
 "metadata": {
  "kernelspec": {
   "display_name": "Python 3",
   "language": "python",
   "name": "python3"
  },
  "language_info": {
   "codemirror_mode": {
    "name": "ipython",
    "version": 2
   },
   "file_extension": ".py",
   "mimetype": "text/x-python",
   "name": "python",
   "nbconvert_exporter": "python",
   "pygments_lexer": "ipython2",
   "version": "2.7.6"
  }
 },
 "nbformat": 4,
 "nbformat_minor": 5
}
