{
 "cells": [
  {
   "cell_type": "code",
   "outputs": [],
   "source": [
    "import os\n",
    "\n",
    "import numpy as np\n",
    "import pandas as pd\n",
    "import matplotlib.pyplot as plt\n",
    "\n",
    "# TensorFlow and tf.keras\n",
    "import tensorflow as tf\n",
    "from tensorflow import keras\n",
    "\n",
    "from tensorflow.keras.utils import to_categorical\n",
    "from tensorflow.keras.datasets import cifar10\n",
    "from tensorflow.keras.models import Sequential\n",
    "from tensorflow.keras.layers import Dense, Flatten\n",
    "from tensorflow.keras import optimizers\n",
    "\n",
    "import skimage as ski\n",
    "from skimage.transform import resize\n",
    "from sklearn.model_selection import train_test_split"
   ],
   "metadata": {
    "collapsed": false,
    "ExecuteTime": {
     "end_time": "2024-04-23T23:50:28.354510Z",
     "start_time": "2024-04-23T23:50:25.507149Z"
    }
   },
   "id": "79e2410f2bada8e8",
   "execution_count": 45
  },
  {
   "cell_type": "markdown",
   "source": [
    "Convert images from pixals into data that we can work with for Ml"
   ],
   "metadata": {
    "collapsed": false
   },
   "id": "b8e9cd6425650704"
  },
  {
   "cell_type": "code",
   "execution_count": 10,
   "id": "initial_id",
   "metadata": {
    "collapsed": true,
    "ExecuteTime": {
     "end_time": "2024-04-23T20:58:43.281306Z",
     "start_time": "2024-04-23T20:58:43.278802Z"
    }
   },
   "outputs": [],
   "source": [
    "data_dir = 'C:/Users/Nick/Documents/SchoolStuff/spring2024/machineLearning/final_project/tradingpatterns/images'\n",
    "categories = ['chan_down', 'chan_up', 'doub_bot', 'doub_top', 'hs', 'tri', 'wed_down', 'wed_up']"
   ]
  },
  {
   "cell_type": "code",
   "outputs": [],
   "source": [
    "# Pixal size is something to take into account for training a model\n",
    "# Starting with small resolution to be more efficient\n",
    "# STARTING SIZE IS 480 x 345\n",
    "data = []\n",
    "labels = []\n",
    "for category_idx, category in enumerate(categories):\n",
    "    count = 0\n",
    "    for file in os.listdir(data_dir + '/' + category):\n",
    "        image = ski.io.imread(data_dir + '/' + category + '/' + file)\n",
    "        image = resize(image, (32, 32))\n",
    "        data.append(image)\n",
    "        labels.append(category_idx)\n",
    "        count += 1\n",
    "        if count > 500:\n",
    "            break"
   ],
   "metadata": {
    "collapsed": false,
    "ExecuteTime": {
     "end_time": "2024-04-24T00:01:34.619994Z",
     "start_time": "2024-04-23T23:59:41.573346Z"
    }
   },
   "id": "8c1712d3cbfff60f",
   "execution_count": 65
  },
  {
   "cell_type": "code",
   "outputs": [
    {
     "data": {
      "text/plain": "(32, 32, 4)"
     },
     "execution_count": 73,
     "metadata": {},
     "output_type": "execute_result"
    }
   ],
   "source": [
    "data[0].shape"
   ],
   "metadata": {
    "collapsed": false,
    "ExecuteTime": {
     "end_time": "2024-04-24T00:02:47.733478Z",
     "start_time": "2024-04-24T00:02:47.729972Z"
    }
   },
   "id": "e19fa59528121ac1",
   "execution_count": 73
  },
  {
   "cell_type": "code",
   "outputs": [],
   "source": [
    "data1 = np.asarray(data)\n",
    "labels1 = np.asarray(labels)"
   ],
   "metadata": {
    "collapsed": false,
    "ExecuteTime": {
     "end_time": "2024-04-24T00:02:51.570855Z",
     "start_time": "2024-04-24T00:02:51.535802Z"
    }
   },
   "id": "bad3b14eb6e56fa1",
   "execution_count": 74
  },
  {
   "cell_type": "code",
   "outputs": [
    {
     "data": {
      "text/plain": "(32, 32, 4)"
     },
     "execution_count": 77,
     "metadata": {},
     "output_type": "execute_result"
    }
   ],
   "source": [
    "data1[0].shape"
   ],
   "metadata": {
    "collapsed": false,
    "ExecuteTime": {
     "end_time": "2024-04-24T00:03:02.182108Z",
     "start_time": "2024-04-24T00:03:02.178102Z"
    }
   },
   "id": "7da11f707f8181dd",
   "execution_count": 77
  },
  {
   "cell_type": "code",
   "outputs": [],
   "source": [
    "# Split data into train and test sets using 42 to make reproducable results\n",
    "xtrain, xtest, ytrain, ytest = train_test_split(data1, labels1, test_size=0.2, random_state=42, shuffle=True, stratify=labels1)"
   ],
   "metadata": {
    "collapsed": false,
    "ExecuteTime": {
     "end_time": "2024-04-24T00:03:09.175319Z",
     "start_time": "2024-04-24T00:03:09.135258Z"
    }
   },
   "id": "abb6ecf5c025fca2",
   "execution_count": 78
  },
  {
   "cell_type": "code",
   "outputs": [
    {
     "data": {
      "text/plain": "((3206, 32, 32, 4), (802, 32, 32, 4), (3206,), (802,))"
     },
     "execution_count": 79,
     "metadata": {},
     "output_type": "execute_result"
    }
   ],
   "source": [
    "# print data dimensions, note the 3 that indicates three channels (red, green, blue)\n",
    "xtrain.shape, xtest.shape, ytrain.shape, ytest.shape"
   ],
   "metadata": {
    "collapsed": false,
    "ExecuteTime": {
     "end_time": "2024-04-24T00:03:10.269996Z",
     "start_time": "2024-04-24T00:03:10.266991Z"
    }
   },
   "id": "edf47f298e150e30",
   "execution_count": 79
  },
  {
   "cell_type": "code",
   "outputs": [
    {
     "data": {
      "text/plain": "<Figure size 640x480 with 1 Axes>",
      "image/png": "[encoded data removed]"
     },
     "metadata": {},
     "output_type": "display_data"
    }
   ],
   "source": [
    "for _ in range(1):\n",
    "    plt.imshow(xtrain[np.random.randint(len(xtrain))])\n",
    "    plt.show()"
   ],
   "metadata": {
    "collapsed": false,
    "ExecuteTime": {
     "end_time": "2024-04-24T00:05:25.539180Z",
     "start_time": "2024-04-24T00:05:25.450044Z"
    }
   },
   "id": "98d53e6c98f8216",
   "execution_count": 91
  },
  {
   "cell_type": "code",
   "outputs": [],
   "source": [
    "xtrain = xtrain/255\n",
    "xtest = xtest/255\n",
    "\n",
    "xtrain, xval, ytrain, yval = train_test_split(xtrain, ytrain, test_size=0.2)"
   ],
   "metadata": {
    "collapsed": false,
    "ExecuteTime": {
     "end_time": "2024-04-24T00:07:34.018966Z",
     "start_time": "2024-04-24T00:07:33.945353Z"
    }
   },
   "id": "2ab85597d2b3359a",
   "execution_count": 92
  },
  {
   "cell_type": "code",
   "outputs": [],
   "source": [],
   "metadata": {
    "collapsed": false
   },
   "id": "2b829ec9da1f788b"
  }
 ],
 "metadata": {
  "kernelspec": {
   "display_name": "Python 3",
   "language": "python",
   "name": "python3"
  },
  "language_info": {
   "codemirror_mode": {
    "name": "ipython",
    "version": 2
   },
   "file_extension": ".py",
   "mimetype": "text/x-python",
   "name": "python",
   "nbconvert_exporter": "python",
   "pygments_lexer": "ipython2",
   "version": "2.7.6"
  }
 },
 "nbformat": 4,
 "nbformat_minor": 5
}
