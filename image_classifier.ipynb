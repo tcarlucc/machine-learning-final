{
 "cells": [
  {
   "cell_type": "code",
   "outputs": [],
   "source": [
    "import os\n",
    "import gc\n",
    "\n",
    "import numpy as np\n",
    "import pandas as pd\n",
    "import matplotlib.pyplot as plt\n",
    "\n",
    "# TensorFlow and tf.keras\n",
    "import tensorflow as tf\n",
    "# from tensorflow import keras\n",
    "\n",
    "# from tensorflow.keras.utils import to_categorical\n",
    "# from tensorflow.keras.datasets import cifar10\n",
    "# from tensorflow.keras.models import Sequential\n",
    "# from tensorflow.keras.layers import Dense, Flatten\n",
    "# from tensorflow.keras import optimizers\n",
    "\n",
    "import skimage as ski\n",
    "from skimage.transform import resize\n",
    "from sklearn.model_selection import train_test_split"
   ],
   "metadata": {
    "collapsed": false,
    "ExecuteTime": {
     "end_time": "2024-04-28T19:19:10.407937Z",
     "start_time": "2024-04-28T19:19:10.404432Z"
    }
   },
   "id": "79e2410f2bada8e8",
   "execution_count": 44
  },
  {
   "cell_type": "markdown",
   "source": [
    "### Convert images from pixals into data, then use pretrained model to accurately classify the stocks\n",
    "- Mathematical detection algorithms are at best 84% accurate. Goal is to \n",
    "- https://www.tensorflow.org/tutorials/images/transfer_learning\n",
    "- Make a requirements text file\n",
    "- We do not apply data augmentation because we already have patterns classified as up or down, and flipping them would be counter intuitive"
   ],
   "metadata": {
    "collapsed": false
   },
   "id": "b8e9cd6425650704"
  },
  {
   "cell_type": "markdown",
   "source": [
    "### Working with a pretrained model:\n",
    "- Feature Extraction\n",
    "    - Add new classifiers\n",
    "- Fine-Tuning\n",
    "    - Unfreeze a few of the top layers"
   ],
   "metadata": {
    "collapsed": false
   },
   "id": "c7a0ee41a9636bc"
  },
  {
   "cell_type": "code",
   "outputs": [
    {
     "data": {
      "text/plain": "0"
     },
     "execution_count": 48,
     "metadata": {},
     "output_type": "execute_result"
    }
   ],
   "source": [
    "gc.collect()"
   ],
   "metadata": {
    "collapsed": false,
    "ExecuteTime": {
     "end_time": "2024-04-28T19:22:51.992826Z",
     "start_time": "2024-04-28T19:22:51.833082Z"
    }
   },
   "id": "2aec2386d8af8b28",
   "execution_count": 48
  },
  {
   "cell_type": "code",
   "outputs": [],
   "source": [
    "# Global Variables\n",
    "BATCH_SIZE = 32\n",
    "IMG_SIZE = (255, 255)"
   ],
   "metadata": {
    "collapsed": false,
    "ExecuteTime": {
     "end_time": "2024-04-28T18:42:09.327025Z",
     "start_time": "2024-04-28T18:42:09.324021Z"
    }
   },
   "id": "fd4b2021336e99c8",
   "execution_count": 6
  },
  {
   "cell_type": "code",
   "outputs": [],
   "source": [
    "# Paths: For local machine\n",
    "train_dir = 'C:/Users/Nick/Documents/SchoolStuff/spring2024/machineLearning/final_project/tradingpatterns/stock_patterns/train'\n",
    "validation_dir = 'C:/Users/Nick/Documents/SchoolStuff/spring2024/machineLearning/final_project/tradingpatterns/stock_patterns/validation'"
   ],
   "metadata": {
    "collapsed": false,
    "ExecuteTime": {
     "end_time": "2024-04-28T19:34:08.137942Z",
     "start_time": "2024-04-28T19:34:08.135438Z"
    }
   },
   "id": "baceab8354a8b153",
   "execution_count": 54
  },
  {
   "cell_type": "code",
   "outputs": [
    {
     "data": {
      "text/plain": "'C:/Users/Nick/Documents/SchoolStuff/spring2024/machineLearning/final_project/tradingpatterns/stock_patterns/train'"
     },
     "execution_count": 55,
     "metadata": {},
     "output_type": "execute_result"
    }
   ],
   "source": [
    "train_dir"
   ],
   "metadata": {
    "collapsed": false,
    "ExecuteTime": {
     "end_time": "2024-04-28T19:34:09.876605Z",
     "start_time": "2024-04-28T19:34:09.873600Z"
    }
   },
   "id": "a139109efca000ab",
   "execution_count": 55
  },
  {
   "cell_type": "code",
   "outputs": [],
   "source": [
    "# def mapto1hot():\n",
    "#     \"\"\"\n",
    "#     One hot encoding for the number of categories we will be looking at. \n",
    "#     \"\"\"\n",
    "#     ytrain_1hot = keras.utils.to_categorical(ytrain, num_classes = len(categories))\n",
    "#     yval_1hot = keras.utils.to_categorical(yval, num_classes = len(categories))\n",
    "#     ytest_1hot = keras.utils.to_categorical(ytest, num_classes = len(categories))\n",
    "#     \n",
    "#     return ytrain_1hot, yval_1hot, ytest_1hot"
   ],
   "metadata": {
    "collapsed": false
   },
   "id": "5c791024a3be0d37",
   "execution_count": null
  },
  {
   "cell_type": "code",
   "outputs": [
    {
     "name": "stdout",
     "output_type": "stream",
     "text": [
      "Found 83613 files belonging to 8 classes.\n",
      "Found 35833 files belonging to 8 classes.\n"
     ]
    }
   ],
   "source": [
    "# Create training and validation dataset\n",
    "train_dataset = tf.keras.utils.image_dataset_from_directory(train_dir,\n",
    "                                                            shuffle=True,\n",
    "                                                            batch_size=BATCH_SIZE,\n",
    "                                                            image_size=IMG_SIZE)\n",
    "\n",
    "validation_dataset = tf.keras.utils.image_dataset_from_directory(validation_dir,\n",
    "                                                                 shuffle=True,\n",
    "                                                                 batch_size=BATCH_SIZE,\n",
    "                                                                 image_size=IMG_SIZE)"
   ],
   "metadata": {
    "collapsed": false,
    "ExecuteTime": {
     "end_time": "2024-04-28T19:34:23.796425Z",
     "start_time": "2024-04-28T19:34:15.814199Z"
    }
   },
   "id": "791c86a7422ff6d6",
   "execution_count": 56
  },
  {
   "cell_type": "code",
   "outputs": [],
   "source": [
    "# Test by printing first ten images from the training dateset\n",
    "class_names = train_dataset.class_names\n",
    "\n",
    "plt.figure(figsize=(10, 10))\n",
    "for images, labels in train_dataset.take(1):\n",
    "  for i in range(9):\n",
    "    ax = plt.subplot(3, 3, i + 1)\n",
    "    plt.imshow(images[i].numpy().astype(\"uint8\"))\n",
    "    plt.title(class_names[labels[i]])\n",
    "    plt.axis(\"off\")"
   ],
   "metadata": {
    "collapsed": false
   },
   "id": "36e1a128a6650acc"
  },
  {
   "cell_type": "code",
   "outputs": [],
   "source": [
    "# Create a test set\n",
    "val_batches = tf.data.experimental.cardinality(validation_dataset)\n",
    "test_dataset = validation_dataset.take(val_batches // 5)\n",
    "validation_dataset = validation_dataset.skip(val_batches // 5)\n",
    "print('Number of validation batches: %d' % tf.data.experimental.cardinality(validation_dataset))\n",
    "print('Number of test batches: %d' % tf.data.experimental.cardinality(test_dataset))"
   ],
   "metadata": {
    "collapsed": false
   },
   "id": "5fd4c100fb0d908f"
  },
  {
   "cell_type": "code",
   "outputs": [],
   "source": [
    "# Rescale the images from [-1 to 1] vs [0 to 255]\n",
    "preprocess_input = tf.keras.applications.mobilenet_v2.preprocess_input"
   ],
   "metadata": {
    "collapsed": false
   },
   "id": "e01fd477c0aa8fc2"
  },
  {
   "cell_type": "code",
   "outputs": [],
   "source": [
    "# Pixal size is something to take into account for training a model\n",
    "# Starting with small resolution to be more efficient\n",
    "# STARTING SIZE IS 480 x 345\n",
    "# data = []\n",
    "# labels = []"
   ],
   "metadata": {
    "collapsed": false
   },
   "id": "8c1712d3cbfff60f",
   "execution_count": null
  },
  {
   "cell_type": "code",
   "outputs": [],
   "source": [
    "# data, labels = convert_images(data, labels)"
   ],
   "metadata": {
    "collapsed": false
   },
   "id": "cd83fde2d22b38fc"
  },
  {
   "cell_type": "code",
   "outputs": [],
   "source": [
    "# Convert data to numpy array and create test and training set\n",
    "# data1 = np.asarray(data)\n",
    "# labels1 = np.asarray(labels)\n",
    "# \n",
    "# # Split data into train and test sets using 42 to make reproducable results\n",
    "# xtrain, xtest, ytrain, ytest = train_test_split(data1, labels1, test_size=0.2, random_state=42, shuffle=True, stratify=labels1)"
   ],
   "metadata": {
    "collapsed": false
   },
   "id": "abb6ecf5c025fca2",
   "execution_count": null
  },
  {
   "cell_type": "code",
   "outputs": [],
   "source": [
    "# Normalize the data by dividing 1 by 255 (rgb value)\n",
    "xtrain = xtrain/255\n",
    "xtest = xtest/255\n",
    "\n",
    "# Create validation set\n",
    "xtrain, xval, ytrain, yval = train_test_split(xtrain, ytrain, test_size=0.2)"
   ],
   "metadata": {
    "collapsed": false
   },
   "id": "2ab85597d2b3359a",
   "execution_count": null
  },
  {
   "cell_type": "code",
   "outputs": [],
   "source": [
    "# One hot encode our data\n",
    "ytrain_1hot, yval_1hot, ytest_1hot = mapto1hot()"
   ],
   "metadata": {
    "collapsed": false
   },
   "id": "bf4c6ddafc37cce2",
   "execution_count": null
  },
  {
   "cell_type": "code",
   "outputs": [
    {
     "name": "stdout",
     "output_type": "stream",
     "text": [
      "Epoch 1/10\n",
      "\u001B[1m161/161\u001B[0m \u001B[32m━━━━━━━━━━━━━━━━━━━━\u001B[0m\u001B[37m\u001B[0m \u001B[1m1s\u001B[0m 2ms/step - accuracy: 0.1221 - loss: 2.0798 - val_accuracy: 0.1137 - val_loss: 2.0802\n",
      "Epoch 2/10\n",
      "\u001B[1m161/161\u001B[0m \u001B[32m━━━━━━━━━━━━━━━━━━━━\u001B[0m\u001B[37m\u001B[0m \u001B[1m0s\u001B[0m 2ms/step - accuracy: 0.1291 - loss: 2.0793 - val_accuracy: 0.1137 - val_loss: 2.0805\n",
      "Epoch 3/10\n",
      "\u001B[1m161/161\u001B[0m \u001B[32m━━━━━━━━━━━━━━━━━━━━\u001B[0m\u001B[37m\u001B[0m \u001B[1m0s\u001B[0m 2ms/step - accuracy: 0.1220 - loss: 2.0796 - val_accuracy: 0.1075 - val_loss: 2.0806\n",
      "Epoch 4/10\n",
      "\u001B[1m161/161\u001B[0m \u001B[32m━━━━━━━━━━━━━━━━━━━━\u001B[0m\u001B[37m\u001B[0m \u001B[1m0s\u001B[0m 1ms/step - accuracy: 0.1142 - loss: 2.0795 - val_accuracy: 0.1075 - val_loss: 2.0808\n",
      "Epoch 5/10\n",
      "\u001B[1m161/161\u001B[0m \u001B[32m━━━━━━━━━━━━━━━━━━━━\u001B[0m\u001B[37m\u001B[0m \u001B[1m0s\u001B[0m 1ms/step - accuracy: 0.1256 - loss: 2.0794 - val_accuracy: 0.1075 - val_loss: 2.0810\n",
      "Epoch 6/10\n",
      "\u001B[1m161/161\u001B[0m \u001B[32m━━━━━━━━━━━━━━━━━━━━\u001B[0m\u001B[37m\u001B[0m \u001B[1m0s\u001B[0m 2ms/step - accuracy: 0.1244 - loss: 2.0797 - val_accuracy: 0.1075 - val_loss: 2.0812\n",
      "Epoch 7/10\n",
      "\u001B[1m161/161\u001B[0m \u001B[32m━━━━━━━━━━━━━━━━━━━━\u001B[0m\u001B[37m\u001B[0m \u001B[1m0s\u001B[0m 1ms/step - accuracy: 0.1343 - loss: 2.0789 - val_accuracy: 0.1075 - val_loss: 2.0811\n",
      "Epoch 8/10\n",
      "\u001B[1m161/161\u001B[0m \u001B[32m━━━━━━━━━━━━━━━━━━━━\u001B[0m\u001B[37m\u001B[0m \u001B[1m0s\u001B[0m 1ms/step - accuracy: 0.1241 - loss: 2.0798 - val_accuracy: 0.1075 - val_loss: 2.0812\n",
      "Epoch 9/10\n",
      "\u001B[1m161/161\u001B[0m \u001B[32m━━━━━━━━━━━━━━━━━━━━\u001B[0m\u001B[37m\u001B[0m \u001B[1m0s\u001B[0m 2ms/step - accuracy: 0.1357 - loss: 2.0795 - val_accuracy: 0.1075 - val_loss: 2.0811\n",
      "Epoch 10/10\n",
      "\u001B[1m161/161\u001B[0m \u001B[32m━━━━━━━━━━━━━━━━━━━━\u001B[0m\u001B[37m\u001B[0m \u001B[1m0s\u001B[0m 2ms/step - accuracy: 0.1160 - loss: 2.0799 - val_accuracy: 0.1075 - val_loss: 2.0813\n"
     ]
    }
   ],
   "source": [
    "layers = [\n",
    "    Flatten(input_shape=(32, 32, 4)),\n",
    "    tf.keras.layers.Dense(100, activation='relu'), # hidden layer\n",
    "    tf.keras.layers.Dense(len(categories), activation='softmax') # output layer\n",
    "]\n",
    "\n",
    "model = Sequential(layers)\n",
    "\n",
    "model.compile(optimizer=tf.keras.optimizers.SGD(0.01), # SGD optimizer with learning rate of 0.01\n",
    "              loss=tf.keras.losses.CategoricalCrossentropy(),\n",
    "              metrics=['accuracy'])\n",
    "\n",
    "# This will start the training and save each epoch output in the history list.\n",
    "history = model.fit(xtrain, ytrain_1hot, batch_size=16, epochs=10, validation_data=(xval, yval_1hot))"
   ],
   "metadata": {
    "collapsed": false,
    "ExecuteTime": {
     "end_time": "2024-04-24T00:35:06.959661Z",
     "start_time": "2024-04-24T00:35:03.795815Z"
    }
   },
   "id": "a27ead210406e4a6",
   "execution_count": 107
  },
  {
   "cell_type": "code",
   "outputs": [
    {
     "data": {
      "text/plain": "<Figure size 640x480 with 1 Axes>",
      "image/png": "[encoded data removed]"
     },
     "metadata": {},
     "output_type": "display_data"
    }
   ],
   "source": [
    "plt.plot(history.history['accuracy'], label=\"acc\")\n",
    "plt.plot(history.history['val_accuracy'], label=\"val_acc\")\n",
    "plt.legend()\n",
    "plt.show()"
   ],
   "metadata": {
    "collapsed": false,
    "ExecuteTime": {
     "end_time": "2024-04-24T00:34:49.815402Z",
     "start_time": "2024-04-24T00:34:49.727267Z"
    }
   },
   "id": "9847beec16d482cf",
   "execution_count": 106
  },
  {
   "cell_type": "code",
   "outputs": [
    {
     "data": {
      "text/plain": "0"
     },
     "execution_count": 110,
     "metadata": {},
     "output_type": "execute_result"
    }
   ],
   "source": [
    "gc.collect()"
   ],
   "metadata": {
    "collapsed": false,
    "ExecuteTime": {
     "end_time": "2024-04-24T00:49:16.930516Z",
     "start_time": "2024-04-24T00:49:16.744231Z"
    }
   },
   "id": "a1d24946b2dc06bc",
   "execution_count": 110
  }
 ],
 "metadata": {
  "kernelspec": {
   "display_name": "Python 3",
   "language": "python",
   "name": "python3"
  },
  "language_info": {
   "codemirror_mode": {
    "name": "ipython",
    "version": 2
   },
   "file_extension": ".py",
   "mimetype": "text/x-python",
   "name": "python",
   "nbconvert_exporter": "python",
   "pygments_lexer": "ipython2",
   "version": "2.7.6"
  }
 },
 "nbformat": 4,
 "nbformat_minor": 5
}
