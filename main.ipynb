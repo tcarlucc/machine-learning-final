{
 "cells": [
  {
   "cell_type": "markdown",
   "source": [
    "## Main.ipynb\n",
    "Main file for accumulating examples of breakout trades.\n",
    "Goal is to use example trades to train a model on these metalabeled trades."
   ],
   "metadata": {
    "collapsed": false
   }
  },
  {
   "cell_type": "code",
   "execution_count": 1,
   "outputs": [
    {
     "name": "stderr",
     "output_type": "stream",
     "text": [
      "[*********************100%%**********************]  1 of 1 completed\n"
     ]
    }
   ],
   "source": [
    "import mplfinance as mpf\n",
    "import numpy as np\n",
    "import pandas as pd\n",
    "import yfinance as yf\n",
    "\n",
    "from sklearn.svm import SVC\n",
    "from sklearn.model_selection import train_test_split\n",
    "from sklearn.metrics import confusion_matrix, classification_report\n",
    "\n",
    "from neurotrader.trendline_automation import fit_upper_trendline, fit_lower_trendline\n",
    "from neurotrader.trendline_break_dataset import trendline_breakout_dataset\n",
    "\n",
    "\n",
    "DEFAULT_LOOKBACK = 168"
   ],
   "metadata": {
    "collapsed": false
   }
  },
  {
   "cell_type": "code",
   "execution_count": 2,
   "outputs": [],
   "source": [
    "def conf_matrix_to_df(conf_matrix):\n",
    "    return pd.DataFrame(conf_matrix)"
   ],
   "metadata": {
    "collapsed": false
   }
  },
  {
   "cell_type": "code",
   "execution_count": 3,
   "outputs": [
    {
     "name": "stderr",
     "output_type": "stream",
     "text": [
      "[*********************100%%**********************]  1 of 1 completed\n",
      "[*********************100%%**********************]  1 of 1 completed\n",
      "[*********************100%%**********************]  1 of 1 completed\n",
      "[*********************100%%**********************]  1 of 1 completed\n",
      "[*********************100%%**********************]  1 of 1 completed\n",
      "[*********************100%%**********************]  1 of 1 completed\n",
      "[*********************100%%**********************]  1 of 1 completed\n",
      "[*********************100%%**********************]  1 of 1 completed\n",
      "[*********************100%%**********************]  1 of 1 completed\n",
      "[*********************100%%**********************]  1 of 1 completed\n",
      "[*********************100%%**********************]  1 of 1 completed\n",
      "[*********************100%%**********************]  1 of 1 completed\n"
     ]
    }
   ],
   "source": [
    "# Download stock data for a variety of tickers\n",
    "# Period params: 1d,5d,1mo,3mo,6mo,1y,2y,5y,10y,ytd,max\n",
    "# Interval params: 1m,2m,5m,15m,30m,60m,90m,1h,1d,5d,1wk,1mo,3mo\n",
    "\n",
    "# aapl.drop('Adj Close', axis=1)\n",
    "\n",
    "\"\"\"\n",
    "Preliminary Data\n",
    "1. Model trained on whole model vs. AAPL stock\n",
    "2. Model trained on sector vs. AAPL stock\n",
    "3. Model trained on lifetime AAPL vs. AAPL stock\n",
    "\"\"\"\n",
    "# Download desired stock data and find breakout trades for each one\n",
    "\n",
    "spy = yf.download('SPY', period='5y', interval='1d')\n",
    "spy_trades, spy_x_train, spy_y_train = trendline_breakout_dataset(spy, DEFAULT_LOOKBACK)\n",
    "vgt = yf.download('VGT', period='5y', interval='1d')\n",
    "vgt_trades, vgt_x_train, vgt_y_train = trendline_breakout_dataset(vgt, DEFAULT_LOOKBACK)\n",
    "msft = yf.download('MSFT', period='5y', interval='1d')\n",
    "msft_trades, msft_x_train, msft_y_train = trendline_breakout_dataset(msft, DEFAULT_LOOKBACK)\n",
    "nvda = yf.download('NVDA', period='5y', interval='1d')\n",
    "nvda_trades, nvda_x_train, nvda_y_train = trendline_breakout_dataset(nvda, DEFAULT_LOOKBACK)\n",
    "tsm = yf.download('TSM', period='5y', interval='1d')\n",
    "tsm_trades, tsm_x_train, tsm_y_train = trendline_breakout_dataset(tsm, DEFAULT_LOOKBACK)\n",
    "amzn = yf.download('AMZN', period='5y', interval='1d')\n",
    "amzn_trades, amzn_x_train, amzn_y_train = trendline_breakout_dataset(amzn, DEFAULT_LOOKBACK)\n",
    "lly = yf.download('LLY', period='5y', interval='1d')\n",
    "lly_trades, lly_x_train, lly_y_train = trendline_breakout_dataset(lly, DEFAULT_LOOKBACK)\n",
    "jnj = yf.download('JNJ', period='5y', interval='1d')\n",
    "jnj_trades, jnj_x_train, jnj_y_train = trendline_breakout_dataset(jnj, DEFAULT_LOOKBACK)\n",
    "wmt = yf.download('WMT', period='5y', interval='1d')\n",
    "wmt_trades, wmt_x_train, wmt_y_train = trendline_breakout_dataset(wmt, DEFAULT_LOOKBACK)\n",
    "vgt = yf.download('VGT', period='max', interval='1d')\n",
    "vgt_trades, vgt_x_train, vgt_y_train = trendline_breakout_dataset(vgt, DEFAULT_LOOKBACK)\n",
    "aapl = yf.download('AAPL', period='max', interval='1d')\n",
    "aapl_trades, aapl_x, aapl_y = trendline_breakout_dataset(aapl, DEFAULT_LOOKBACK)\n",
    "\n",
    "# Combine breakout results with respective groups for training\n",
    "\n",
    "general_stocks = pd.concat([spy, vgt, msft, nvda, tsm, amzn, lly, jnj, wmt], axis=0)\n",
    "general_x = pd.concat([spy_x_train, vgt_x_train, msft_x_train, nvda_x_train, tsm_x_train, amzn_x_train, lly_x_train, jnj_x_train, wmt_x_train], axis=0)\n",
    "general_y = pd.concat([spy_y_train, vgt_y_train, msft_y_train, nvda_y_train, tsm_y_train, amzn_y_train, lly_y_train, jnj_y_train, wmt_y_train], axis=0)\n",
    "\n",
    "sector_stocks = pd.concat([vgt, msft, nvda, tsm], axis=0)\n",
    "sector_x_train = pd.concat([vgt_x_train, msft_x_train, nvda_x_train, tsm_x_train], axis=0)\n",
    "sector_y_train = pd.concat([vgt_y_train, msft_y_train, nvda_y_train, tsm_y_train], axis=0)\n",
    "\n",
    "aapl = yf.download('AAPL', period='max', interval='1d')\n",
    "aapl_trades, aapl_x, aapl_y = trendline_breakout_dataset(aapl, DEFAULT_LOOKBACK)\n",
    "\n",
    "aapl_x_train, aapl_x_test, aapl_y_train, aapl_y_test = train_test_split(aapl_x, aapl_y, test_size=0.25)"
   ],
   "metadata": {
    "collapsed": false
   }
  },
  {
   "cell_type": "code",
   "execution_count": 4,
   "outputs": [
    {
     "name": "stdout",
     "output_type": "stream",
     "text": [
      "                  Open        High         Low       Close   Adj Close  \\\n",
      "Date                                                                     \n",
      "1980-12-12    0.128348    0.128906    0.128348    0.128348    0.099192   \n",
      "1980-12-15    0.122210    0.122210    0.121652    0.121652    0.094017   \n",
      "1980-12-16    0.113281    0.113281    0.112723    0.112723    0.087117   \n",
      "1980-12-17    0.115513    0.116071    0.115513    0.115513    0.089273   \n",
      "1980-12-18    0.118862    0.119420    0.118862    0.118862    0.091861   \n",
      "...                ...         ...         ...         ...         ...   \n",
      "2024-04-11  168.339996  175.460007  168.160004  175.039993  175.039993   \n",
      "2024-04-12  174.259995  178.360001  174.210007  176.550003  176.550003   \n",
      "2024-04-15  175.360001  176.630005  172.500000  172.690002  172.690002   \n",
      "2024-04-16  171.750000  173.759995  168.270004  169.380005  169.380005   \n",
      "2024-04-17  169.580002  170.639999  169.310104  170.244995  170.244995   \n",
      "\n",
      "               Volume  \n",
      "Date                   \n",
      "1980-12-12  469033600  \n",
      "1980-12-15  175884800  \n",
      "1980-12-16  105728000  \n",
      "1980-12-17   86441600  \n",
      "1980-12-18   73449600  \n",
      "...               ...  \n",
      "2024-04-11   91070300  \n",
      "2024-04-12  101593300  \n",
      "2024-04-15   73531800  \n",
      "2024-04-16   73649200  \n",
      "2024-04-17   10513061  \n",
      "\n",
      "[10927 rows x 6 columns]\n"
     ]
    }
   ],
   "source": [
    "aapltrades, aapl_x, aapl_y = trendline_breakout_dataset(aapl, DEFAULT_LOOKBACK)\n",
    "print(aapl)"
   ],
   "metadata": {
    "collapsed": false
   }
  },
  {
   "cell_type": "code",
   "execution_count": 5,
   "outputs": [
    {
     "name": "stdout",
     "output_type": "stream",
     "text": [
      "     resist_s  support_s    tl_err       vol   max_dist  class\n",
      "20  -0.089529  -0.107077 -7.351123  1.985746 -15.682559    0.0\n",
      "126 -0.083329  -0.038786 -5.944113  1.803912 -12.314629    0.0\n",
      "235  0.049102   0.058206 -4.706419  0.565266  -8.939281    0.0\n",
      "102 -0.077836  -0.053445  8.307252  3.688612  16.538825    1.0\n",
      "207  0.050417   0.052393  4.092562  0.878341   6.967967    1.0\n",
      "..        ...        ...       ...       ...        ...    ...\n",
      "181  0.076259   0.079165 -2.183957  1.541560  -5.218320    0.0\n",
      "135  0.018451  -0.014349  5.706314  8.099652  15.295713    1.0\n",
      "200 -0.043329  -0.057155  4.614530  0.671854   9.843475    1.0\n",
      "136  0.033058   0.061718  5.026739  1.747631  14.680685    1.0\n",
      "204  0.055205   0.133378 -6.470133  1.558891 -17.965233    0.0\n",
      "\n",
      "[247 rows x 6 columns]\n"
     ]
    }
   ],
   "source": [
    "#aapl = yf.download('AAPL', period='max', interval='1d')\n",
    "aapl_trades, aapl_x, aapl_y = trendline_breakout_dataset(aapl, DEFAULT_LOOKBACK)\n",
    "aapl_x_train, aapl_x_test, aapl_y_train, aapl_y_test = train_test_split(aapl_x, aapl_y, test_size=0.25)\n",
    "print(aapl_x_train)"
   ],
   "metadata": {
    "collapsed": false
   }
  },
  {
   "cell_type": "code",
   "execution_count": 6,
   "outputs": [
    {
     "name": "stderr",
     "output_type": "stream",
     "text": [
      "[*********************100%%**********************]  1 of 1 completed\n"
     ]
    }
   ],
   "source": [
    "para = yf.download('PARA', period='5y', interval='1d')\n",
    "para_trades, para_x, para_y = trendline_breakout_dataset(para, DEFAULT_LOOKBACK)\n",
    "para_x_train, para_x_test, para_y_train, para_y_test = train_test_split(para_x, para_y, test_size=0.25)"
   ],
   "metadata": {
    "collapsed": false
   }
  },
  {
   "cell_type": "code",
   "execution_count": 7,
   "outputs": [],
   "source": [
    "general_stocks = pd.concat([spy, vgt, msft, nvda, tsm, amzn, lly, jnj, wmt], axis=0)\n",
    "general_x_stocks = pd.concat([spy_x_train, vgt_x_train, msft_x_train, nvda_x_train, tsm_x_train, amzn_x_train, lly_x_train, jnj_x_train, wmt_x_train], axis=0)\n",
    "general_y_stocks = pd.concat([spy_y_train, vgt_y_train, msft_y_train, nvda_y_train, tsm_y_train, amzn_y_train, lly_y_train, jnj_y_train, wmt_y_train], axis=0)\n",
    "general_trades, general_x, general_y = trendline_breakout_dataset(general_stocks, DEFAULT_LOOKBACK)\n",
    "\n",
    "general_x_train, general_x_test, general_y_train, general_y_test = train_test_split(general_x, general_y, test_size=0.25)"
   ],
   "metadata": {
    "collapsed": false
   }
  },
  {
   "cell_type": "code",
   "execution_count": 8,
   "outputs": [
    {
     "name": "stderr",
     "output_type": "stream",
     "text": [
      "C:\\Users\\thoma\\Desktop\\CS 3540\\machine-learning-final\\machine-learning-final\\neurotrader\\trendline_automation.py:28: FutureWarning: Series.__getitem__ treating keys as positions is deprecated. In a future version, integer keys will always be treated as labels (consistent with DataFrame behavior). To access a value by position, use `ser.iloc[pos]`\n",
      "  intercept = -slope * pivot + y[pivot]\n",
      "C:\\Users\\thoma\\Desktop\\CS 3540\\machine-learning-final\\machine-learning-final\\neurotrader\\trendline_automation.py:114: FutureWarning: Series.__getitem__ treating keys as positions is deprecated. In a future version, integer keys will always be treated as labels (consistent with DataFrame behavior). To access a value by position, use `ser.iloc[pos]`\n",
      "  return best_slope, -best_slope * pivot + y[pivot]\n"
     ]
    },
    {
     "data": {
      "text/plain": "<Figure size 800x575 with 2 Axes>",
      "image/png": "[encoded data removed]"
     },
     "metadata": {},
     "output_type": "display_data"
    }
   ],
   "source": [
    "# Plot of example trade, its trendlines, and breakout candle.\n",
    "index = int(aapl_trades.iloc[0].loc['entry_i'])\n",
    "aapl_window = aapl[index-DEFAULT_LOOKBACK:index]  # +1 to include candle breaking out of resistance\n",
    "aapl_window_display = aapl[index-DEFAULT_LOOKBACK:index+1]  # +1 to include candle breaking out of resistance\n",
    "\n",
    "resist_coefs = fit_upper_trendline(aapl_window['High'])\n",
    "support_coefs = fit_lower_trendline(aapl_window['Low'])\n",
    "r_trendline_values = resist_coefs[0] * np.arange(len(aapl_window_display)) + resist_coefs[1]\n",
    "s_trendline_values = support_coefs[0] * np.arange(len(aapl_window_display)) + support_coefs[1]\n",
    "\n",
    "apds = [mpf.make_addplot(pd.DataFrame(r_trendline_values)),\n",
    "        mpf.make_addplot(pd.DataFrame(s_trendline_values))]\n",
    "mpf.plot(aapl_window_display, type='candle', style='yahoo', addplot=apds)"
   ],
   "metadata": {
    "collapsed": false
   }
  },
  {
   "cell_type": "code",
   "execution_count": 9,
   "outputs": [
    {
     "name": "stdout",
     "output_type": "stream",
     "text": [
      "   0   1\n",
      "0  0  22\n",
      "1  2  98\n"
     ]
    }
   ],
   "source": [
    "# Training a general SVM on the metalabled data\n",
    "model = SVC(kernel=\"poly\")\n",
    "model.fit(general_x_train, general_y_train)\n",
    "results = model.predict(general_x_test)\n",
    "print(conf_matrix_to_df(confusion_matrix(general_y_test, results)))"
   ],
   "metadata": {
    "collapsed": false
   }
  },
  {
   "cell_type": "code",
   "execution_count": 10,
   "outputs": [
    {
     "name": "stdout",
     "output_type": "stream",
     "text": [
      "   0   1\n",
      "0  0  21\n",
      "1  0  62\n"
     ]
    }
   ],
   "source": [
    "# Training an Apple specific SVM on the metalabled data\n",
    "model = SVC(kernel=\"poly\")\n",
    "model.fit(aapl_x_train, aapl_y_train)\n",
    "results = model.predict(aapl_x_test)\n",
    "print(conf_matrix_to_df(confusion_matrix(aapl_y_test, results)))"
   ],
   "metadata": {
    "collapsed": false
   }
  },
  {
   "cell_type": "code",
   "execution_count": 11,
   "outputs": [
    {
     "name": "stdout",
     "output_type": "stream",
     "text": [
      "   0  1\n",
      "0  0  1\n",
      "1  0  8\n"
     ]
    }
   ],
   "source": [
    "# Training a Paramount specific SVM on the metalabled data\n",
    "model = SVC(kernel=\"poly\")\n",
    "model.fit(para_x_train, para_y_train)\n",
    "results = model.predict(para_x_test)\n",
    "print(conf_matrix_to_df(confusion_matrix(para_y_test, results)))"
   ],
   "metadata": {
    "collapsed": false
   }
  },
  {
   "cell_type": "code",
   "execution_count": 11,
   "outputs": [],
   "source": [],
   "metadata": {
    "collapsed": false
   }
  }
 ],
 "metadata": {
  "kernelspec": {
   "display_name": "Python 3",
   "language": "python",
   "name": "python3"
  },
  "language_info": {
   "codemirror_mode": {
    "name": "ipython",
    "version": 2
   },
   "file_extension": ".py",
   "mimetype": "text/x-python",
   "name": "python",
   "nbconvert_exporter": "python",
   "pygments_lexer": "ipython2",
   "version": "2.7.6"
  }
 },
 "nbformat": 4,
 "nbformat_minor": 5
}
